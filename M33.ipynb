{
 "cells": [
  {
   "cell_type": "markdown",
   "metadata": {},
   "source": [
    "# M33 Luci Application\n",
    "In this notebook we will apply our Luci fitting software to a part of M33."
   ]
  },
  {
   "cell_type": "code",
   "execution_count": 1,
   "metadata": {},
   "outputs": [],
   "source": [
    "%matplotlib inline\n",
    "from orcs.process import SpectralCube\n",
    "import orb\n",
    "import numpy as np\n",
    "from astropy.io import fits\n",
    "from LuciFit import Fit\n",
    "from numba import njit, prange, jit\n",
    "import progressbar\n",
    "from joblib import Parallel, delayed\n",
    "import time"
   ]
  },
  {
   "cell_type": "code",
   "execution_count": 8,
   "metadata": {},
   "outputs": [
    {
     "name": "stderr",
     "output_type": "stream",
     "text": [
      "WARNING:root:old cube architecture (level 1). IO performances could be reduced.\n",
      "INFO:root:Cube is level 1\n",
      "INFO:root:shape: (2048, 2064, 842)\n",
      "INFO:root:wavenumber calibration: True\n",
      "INFO:root:flux calibration: True\n",
      "INFO:root:wcs calibration: True\n"
     ]
    }
   ],
   "source": [
    "cube_dir = '/media/carterrhea/carterrhea/M33'  # Path to data cube\n",
    "cube_name = 'M33_Field7_SN3.merged.cm1.1.0'  # don't add .hdf5 extension\n",
    "\n",
    "cube = SpectralCube(cube_dir+'/'+cube_name+'.hdf5')\n",
    "deep_file = '/media/carterrhea/carterrhea/M33/M33_deep'  # Path to deep image fits file: required for header\n"
   ]
  },
  {
   "cell_type": "code",
   "execution_count": 3,
   "metadata": {},
   "outputs": [
    {
     "name": "stdout",
     "output_type": "stream",
     "text": [
      " [==========] [100%] [completed in 0.017 s]                                   \n"
     ]
    }
   ],
   "source": [
    "spectrum_axis, sky_spectrum = cube.extract_spectrum(1100, 1100, 3)"
   ]
  },
  {
   "cell_type": "code",
   "execution_count": 5,
   "metadata": {},
   "outputs": [],
   "source": [
    "# Machine Learning Reference Spectrum\n",
    "ref_spec = fits.open('Reference-Spectrum-R5000.fits')[1].data\n",
    "channel = []\n",
    "counts = []\n",
    "for chan in ref_spec:  # Only want SN3 region\n",
    "    channel.append(chan[0])\n",
    "    counts.append(np.real(chan[1]))\n",
    "min_ = np.argmin(np.abs(np.array(channel)-14700))\n",
    "max_ = np.argmin(np.abs(np.array(channel)-15600))\n",
    "wavenumbers_syn = channel[min_:max_]"
   ]
  },
  {
   "cell_type": "code",
   "execution_count": null,
   "metadata": {},
   "outputs": [
    {
     "name": "stdout",
     "output_type": "stream",
     "text": [
      " [==========] [100%] [completed in 1.49 s]                                    \n"
     ]
    }
   ],
   "source": [
    "# Define spatial regions of interest\n",
    "x_min = 1200\n",
    "x_max = 1350#cube.shape[0]\n",
    "y_min = 1700\n",
    "y_max = 1900#cube.shape[1]\n",
    "# Read in data\n",
    "dat = cube.get_data(x_min,x_max,y_min,y_max,0,cube.shape[2])\n",
    "dat = dat.astype('float32')\n",
    "# Step through spectra\n",
    "VEL = np.zeros((x_max-x_min, y_max-y_min), dtype=np.float32)\n",
    "start = time.time()\n",
    "def SNR_calc(SNR, i):\n",
    "    vel_local = []\n",
    "    for j in range(y_max-y_min):\n",
    "        # Calculate velocity\n",
    "        fit = Fit(dat[i,j], spectrum_axis, wavenumbers_syn, 'gaussian', ['Halpha'],\n",
    "                'R5000-PREDICTOR-I', Plot_bool = False)\n",
    "        fit_dict = fit.fit()\n",
    "        vel_local.append(fit_dict['velocity'])\n",
    "    VEL[i] = vel_local\n",
    "n_threads = 16\n",
    "Parallel(n_jobs=n_threads, backend=\"threading\", batch_size=int((x_max-x_min)/n_threads))(delayed(SNR_calc)(VEL,i) for i in range(x_max-x_min));\n",
    "end = time.time()\n",
    "print(end-start)\n",
    "# Save\n",
    "reg_fits = fits.open(deep_file+'.fits')\n",
    "header = reg_fits[0].header\n",
    "fits.writeto('VEL.fits', VEL.T, header, overwrite=True)"
   ]
  },
  {
   "cell_type": "code",
   "execution_count": null,
   "metadata": {},
   "outputs": [],
   "source": []
  },
  {
   "cell_type": "code",
   "execution_count": null,
   "metadata": {},
   "outputs": [],
   "source": []
  }
 ],
 "metadata": {
  "kernelspec": {
   "display_name": "Python 3",
   "language": "python",
   "name": "python3"
  },
  "language_info": {
   "codemirror_mode": {
    "name": "ipython",
    "version": 3
   },
   "file_extension": ".py",
   "mimetype": "text/x-python",
   "name": "python",
   "nbconvert_exporter": "python",
   "pygments_lexer": "ipython3",
   "version": "3.7.10"
  }
 },
 "nbformat": 4,
 "nbformat_minor": 4
}
