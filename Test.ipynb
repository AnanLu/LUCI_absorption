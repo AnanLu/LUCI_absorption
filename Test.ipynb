{
 "cells": [
  {
   "cell_type": "code",
   "execution_count": 1,
   "id": "9a02304e",
   "metadata": {},
   "outputs": [],
   "source": [
    "from LuciBase import Luci\n",
    "import matplotlib.pyplot as plt\n",
    "import numpy as np\n",
    "import LUCI.LuciPlotting as lplt"
   ]
  },
  {
   "cell_type": "code",
   "execution_count": 2,
   "id": "003b1256",
   "metadata": {},
   "outputs": [],
   "source": [
    "cube_dir = '/media/carterrhea/carterrhea/Benjamin'  # Path to data cube\n",
    "cube_name = 'A0426_SN3.merged.cm1.1.0'  # don't add .hdf5 extension\n",
    "object_name = 'NGC1275'\n",
    "redshift = 0.017284\n",
    "ML_ref = 'ML/Reference-Spectrum-R1800'\n",
    "ML_model = 'ML/R1800-PREDICTOR-I'"
   ]
  },
  {
   "cell_type": "code",
   "execution_count": 3,
   "id": "3ea74823",
   "metadata": {},
   "outputs": [
    {
     "name": "stderr",
     "output_type": "stream",
     "text": [
      "  0%|          | 0/9 [00:00<?, ?it/s]"
     ]
    },
    {
     "name": "stdout",
     "output_type": "stream",
     "text": [
      "Reading in data...\n"
     ]
    },
    {
     "name": "stderr",
     "output_type": "stream",
     "text": [
      "100%|██████████| 9/9 [00:11<00:00,  1.28s/it]\n"
     ]
    }
   ],
   "source": [
    "cube = Luci(cube_dir+'/'+cube_name, cube_dir, object_name, redshift, ML_ref, ML_model)"
   ]
  },
  {
   "cell_type": "code",
   "execution_count": 4,
   "id": "ea5dc845-aa24-4d54-b825-27b1e21d928b",
   "metadata": {},
   "outputs": [],
   "source": [
    "cube.create_snr_map(method=2)"
   ]
  },
  {
   "cell_type": "code",
   "execution_count": 9,
   "id": "74c39c57",
   "metadata": {},
   "outputs": [
    {
     "name": "stderr",
     "output_type": "stream",
     "text": [
      "100%|██████████| 350/350 [41:50<00:00,  7.17s/it]\n"
     ]
    }
   ],
   "source": [
    "vel_map, broad_map, flux_map, chi2_fits = cube.fit_cube(['Halpha', 'NII6548', 'NII6583', 'SII6716', 'SII6731'], 'sincgauss', 800, 1500, 250, 750, binning=2)"
   ]
  },
  {
   "cell_type": "code",
   "execution_count": 6,
   "id": "b149aecc",
   "metadata": {},
   "outputs": [
    {
     "ename": "NameError",
     "evalue": "name 'vel_map' is not defined",
     "output_type": "error",
     "traceback": [
      "\u001b[0;31m---------------------------------------------------------------------------\u001b[0m",
      "\u001b[0;31mNameError\u001b[0m                                 Traceback (most recent call last)",
      "\u001b[0;32m<ipython-input-6-1fd0c3906168>\u001b[0m in \u001b[0;36m<module>\u001b[0;34m\u001b[0m\n\u001b[0;32m----> 1\u001b[0;31m \u001b[0mlplt\u001b[0m\u001b[0;34m.\u001b[0m\u001b[0mplot_map\u001b[0m\u001b[0;34m(\u001b[0m\u001b[0mvel_map\u001b[0m\u001b[0;34m,\u001b[0m \u001b[0;34m'velocity'\u001b[0m\u001b[0;34m,\u001b[0m \u001b[0mcube_dir\u001b[0m\u001b[0;34m,\u001b[0m \u001b[0mclims\u001b[0m\u001b[0;34m=\u001b[0m\u001b[0;34m[\u001b[0m\u001b[0;34m-\u001b[0m\u001b[0;36m500\u001b[0m\u001b[0;34m,\u001b[0m\u001b[0;36m500\u001b[0m\u001b[0;34m]\u001b[0m\u001b[0;34m)\u001b[0m\u001b[0;34m\u001b[0m\u001b[0;34m\u001b[0m\u001b[0m\n\u001b[0m",
      "\u001b[0;31mNameError\u001b[0m: name 'vel_map' is not defined"
     ]
    }
   ],
   "source": [
    "lplt.plot_map(vel_map, 'velocity', cube_dir, clims=[-500,500])"
   ]
  },
  {
   "cell_type": "code",
   "execution_count": null,
   "id": "e5b0bd62-78d9-4683-9aad-e7bdfa380c17",
   "metadata": {},
   "outputs": [],
   "source": []
  }
 ],
 "metadata": {
  "kernelspec": {
   "display_name": "Python 3",
   "language": "python",
   "name": "python3"
  },
  "language_info": {
   "codemirror_mode": {
    "name": "ipython",
    "version": 3
   },
   "file_extension": ".py",
   "mimetype": "text/x-python",
   "name": "python",
   "nbconvert_exporter": "python",
   "pygments_lexer": "ipython3",
   "version": "3.9.5"
  }
 },
 "nbformat": 4,
 "nbformat_minor": 5
}
