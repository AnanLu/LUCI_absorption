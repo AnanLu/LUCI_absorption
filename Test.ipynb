{
 "cells": [
  {
   "cell_type": "code",
   "execution_count": 8,
   "id": "f89ec76c-7ed8-4b23-8a9e-94846a537db9",
   "metadata": {},
   "outputs": [],
   "source": [
    "from Luci import Luci\n",
    "import matplotlib.pyplot as plt\n",
    "import numpy as np"
   ]
  },
  {
   "cell_type": "code",
   "execution_count": 2,
   "id": "ff54d6b5-5514-4bc1-a652-81bbb8344e0a",
   "metadata": {},
   "outputs": [],
   "source": [
    "cube_dir = '/media/carterrhea/carterrhea/Benjamin'  # Path to data cube\n",
    "cube_name = 'A0426_SN3.merged.cm1.1.0'  # don't add .hdf5 extension\n",
    "redshift = 0.017284"
   ]
  },
  {
   "cell_type": "code",
   "execution_count": 3,
   "id": "ef7ec14d-fda1-4c45-baab-96fa7a297ef0",
   "metadata": {},
   "outputs": [
    {
     "name": "stderr",
     "output_type": "stream",
     "text": [
      "  0%|          | 0/9 [00:00<?, ?it/s]"
     ]
    },
    {
     "name": "stdout",
     "output_type": "stream",
     "text": [
      "Reading in data...\n"
     ]
    },
    {
     "name": "stderr",
     "output_type": "stream",
     "text": [
      "100%|██████████| 9/9 [00:09<00:00,  1.04s/it]\n",
      "WARNING: Some non-standard WCS keywords were excluded: A_ORDER, A_0_0, A_0_1, A_0_2, A_0_3, A_1_0, A_1_1, A_1_2, A_2_0, A_2_1, A_3_0, B_ORDER, B_0_0, B_0_1, B_0_2, B_0_3, B_1_0, B_1_1, B_1_2, B_2_0, B_2_1, B_3_0, AP_ORDER, AP_0_0, AP_0_1, AP_0_2, AP_0_3, AP_1_0, AP_1_1, AP_1_2, AP_2_0, AP_2_1, AP_3_0, BP_ORDER, BP_0_0, BP_0_1, BP_0_2, BP_0_3, BP_1_0, BP_1_1, BP_1_2, BP_2_0, BP_2_1, BP_3_0 Use the ``relax`` kwarg to control this. [astropy.wcs.wcs]\n"
     ]
    }
   ],
   "source": [
    "cube = Luci(cube_dir+'/'+cube_name, cube_dir, 'NGC1275', redshift, 'Reference-Spectrum-R1800', 'R1800-PREDICTOR-I')"
   ]
  },
  {
   "cell_type": "code",
   "execution_count": 4,
   "id": "0b1bfea4-ca1c-4926-ac3b-a8c5d5927082",
   "metadata": {},
   "outputs": [],
   "source": [
    "cube.create_deep_image()"
   ]
  },
  {
   "cell_type": "code",
   "execution_count": null,
   "id": "86fa71a8-cf80-4e7f-8580-8a8f8da01fe1",
   "metadata": {},
   "outputs": [
    {
     "name": "stderr",
     "output_type": "stream",
     "text": [
      "  2%|▏         | 10/500 [01:38<1:23:21, 10.21s/it]"
     ]
    }
   ],
   "source": [
    "vel_map, broad_map, flux_map = cube.fit_cube(['Halpha', 'NII6548', 'NII6583', 'SII6716', 'SII6731'], 'gaussian', 1000, 1500, 250, 750)"
   ]
  },
  {
   "cell_type": "code",
   "execution_count": 14,
   "id": "937b25ff-6dff-4e31-a4d4-e88ac812346c",
   "metadata": {},
   "outputs": [
    {
     "data": {
      "text/plain": [
       "<matplotlib.image.AxesImage at 0x7f8e9c406dd0>"
      ]
     },
     "execution_count": 14,
     "metadata": {},
     "output_type": "execute_result"
    },
    {
     "data": {
      "image/png": "[encoded data removed]",
      "text/plain": [
       "<Figure size 432x288 with 1 Axes>"
      ]
     },
     "metadata": {
      "needs_background": "light"
     },
     "output_type": "display_data"
    }
   ],
   "source": [
    "plt.imshow(vel_map)"
   ]
  },
  {
   "cell_type": "code",
   "execution_count": null,
   "id": "324305aa-4169-4cbf-b4d8-0d8eb005a419",
   "metadata": {},
   "outputs": [],
   "source": []
  }
 ],
 "metadata": {
  "kernelspec": {
   "display_name": "Python 3",
   "language": "python",
   "name": "python3"
  },
  "language_info": {
   "codemirror_mode": {
    "name": "ipython",
    "version": 3
   },
   "file_extension": ".py",
   "mimetype": "text/x-python",
   "name": "python",
   "nbconvert_exporter": "python",
   "pygments_lexer": "ipython3",
   "version": "3.7.10"
  }
 },
 "nbformat": 4,
 "nbformat_minor": 5
}
