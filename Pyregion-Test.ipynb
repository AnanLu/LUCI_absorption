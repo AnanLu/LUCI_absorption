{
 "cells": [
  {
   "cell_type": "markdown",
   "id": "85b880cc-e17e-46f7-9cb7-49c9f18384c8",
   "metadata": {},
   "source": [
    "# Pyregion Test\n",
    "Test pyregion to get image physical coordinates from a region file\n",
    "\n"
   ]
  },
  {
   "cell_type": "code",
   "execution_count": 1,
   "id": "20e90711-275c-4229-a61c-ade3d266ce7d",
   "metadata": {},
   "outputs": [
    {
     "ename": "ModuleNotFoundError",
     "evalue": "No module named 'pyregion'",
     "output_type": "error",
     "traceback": [
      "\u001b[0;31m---------------------------------------------------------------------------\u001b[0m",
      "\u001b[0;31mModuleNotFoundError\u001b[0m                       Traceback (most recent call last)",
      "\u001b[0;32m<ipython-input-1-1daecb53de9e>\u001b[0m in \u001b[0;36m<module>\u001b[0;34m\u001b[0m\n\u001b[0;32m----> 1\u001b[0;31m \u001b[0;32mimport\u001b[0m \u001b[0mpyregion\u001b[0m\u001b[0;34m\u001b[0m\u001b[0;34m\u001b[0m\u001b[0m\n\u001b[0m\u001b[1;32m      2\u001b[0m \u001b[0;34m\u001b[0m\u001b[0m\n\u001b[1;32m      3\u001b[0m \u001b[0;32mfrom\u001b[0m \u001b[0mastropy\u001b[0m\u001b[0;34m.\u001b[0m\u001b[0mio\u001b[0m \u001b[0;32mimport\u001b[0m \u001b[0mfits\u001b[0m\u001b[0;34m\u001b[0m\u001b[0;34m\u001b[0m\u001b[0m\n\u001b[1;32m      4\u001b[0m \u001b[0;32mimport\u001b[0m \u001b[0mnumpy\u001b[0m \u001b[0;32mas\u001b[0m \u001b[0mnp\u001b[0m\u001b[0;34m\u001b[0m\u001b[0;34m\u001b[0m\u001b[0m\n\u001b[1;32m      5\u001b[0m \u001b[0;32mimport\u001b[0m \u001b[0mmatplotlib\u001b[0m\u001b[0;34m.\u001b[0m\u001b[0mpyplot\u001b[0m \u001b[0;32mas\u001b[0m \u001b[0mplt\u001b[0m\u001b[0;34m\u001b[0m\u001b[0;34m\u001b[0m\u001b[0m\n",
      "\u001b[0;31mModuleNotFoundError\u001b[0m: No module named 'pyregion'"
     ]
    }
   ],
   "source": [
    "import pyregion\n",
    "\n",
    "from astropy.io import fits\n",
    "import numpy as np\n",
    "import matplotlib.pyplot as plt\n",
    "from astropy.nddata.utils import Cutout2D\n",
    "from astropy.wcs import WCS\n",
    "from spectral_cube import SpectralCube"
   ]
  },
  {
   "cell_type": "code",
   "execution_count": 9,
   "id": "7f8ab27e-580d-4633-a1f8-e63dbad39068",
   "metadata": {},
   "outputs": [],
   "source": [
    "cube = fits.open('NGC1275.fits')\n",
    "header = cube[0].header\n",
    "\n",
    "# read region file\n",
    "rr = pyregion.open('test_rec.reg')\n",
    "\n",
    "# convert coordinates to image coordinates\n",
    "rrim = rr.as_imagecoord(header)\n",
    "\n",
    "# Read header\n",
    "wcs = WCS(header)"
   ]
  },
  {
   "cell_type": "code",
   "execution_count": 10,
   "id": "4c5cbbc7-5cda-4da8-847e-b3b974bd4205",
   "metadata": {},
   "outputs": [
    {
     "name": "stdout",
     "output_type": "stream",
     "text": [
      "[2.9500816153648977, 9.390448542963284, 2.5216107572826494, 6.214410824626725, 2.792679301712858]\n"
     ]
    }
   ],
   "source": [
    "# Obtain central x and y coordinates as well as the radius\n",
    "print(rrim[0].coord_list)\n",
    "x_cen, y_cen, x_len, y_len, igno = rrim[0].coord_list\n"
   ]
  },
  {
   "cell_type": "code",
   "execution_count": 11,
   "id": "3c839f13-025d-44e3-befb-12b4c42b4ab1",
   "metadata": {},
   "outputs": [
    {
     "data": {
      "text/plain": [
       "array([[-136.7858 , -133.93361, -132.81137, -130.96677, -131.09125],\n",
       "       [-137.56377, -135.53464, -131.6234 , -130.83507, -130.65103],\n",
       "       [-137.2838 , -136.56265, -132.04095, -132.92117, -131.63214],\n",
       "       [-138.14172, -135.10088, -134.75774, -136.03506, -133.9753 ],\n",
       "       [-138.32278, -135.81114, -134.37373, -133.99008, -134.04428],\n",
       "       [-136.16634, -137.23952, -135.75952, -134.33182, -134.06131],\n",
       "       [-138.30016, -138.83455, -140.39214, -137.42569, -138.2697 ],\n",
       "       [-137.0312 , -136.33282, -137.88431, -138.68172, -137.60295],\n",
       "       [-137.03723, -134.50972, -137.6755 , -138.88557, -138.48859],\n",
       "       [-139.33075, -136.69724, -140.02359, -139.49629, -139.25494],\n",
       "       [-139.36183, -138.3834 , -139.62833, -140.80118, -141.07465],\n",
       "       [-138.55463, -138.14363, -134.7213 , -138.05981, -139.97522],\n",
       "       [-135.03114, -135.54884, -136.11536, -139.59845, -140.4513 ],\n",
       "       [-132.78514, -137.56207, -135.90503, -137.26468, -139.39104],\n",
       "       [-130.53703, -132.54521, -134.06857, -134.20584, -134.70016],\n",
       "       [-130.33022, -130.39095, -130.54224, -131.51393, -132.28409],\n",
       "       [-129.72351, -129.46785, -129.03906, -130.2646 , -130.66144],\n",
       "       [-129.96512, -129.05708, -128.7021 , -129.20212, -129.20804],\n",
       "       [-129.89424, -129.17186, -128.36972, -128.31935, -128.88211],\n",
       "       [-129.46417, -128.60896, -129.0162 , -128.2891 , -128.56662]],\n",
       "      dtype=float32)"
      ]
     },
     "execution_count": 11,
     "metadata": {},
     "output_type": "execute_result"
    }
   ],
   "source": [
    "np.ceil(x_len)\n",
    "cube[0].data"
   ]
  },
  {
   "cell_type": "code",
   "execution_count": 12,
   "id": "f46b6776-1fbb-4c78-b3ff-b7d857bca1d6",
   "metadata": {},
   "outputs": [
    {
     "data": {
      "image/png": "[encoded data removed]",
      "text/plain": [
       "<Figure size 432x288 with 1 Axes>"
      ]
     },
     "metadata": {
      "needs_background": "light"
     },
     "output_type": "display_data"
    }
   ],
   "source": [
    "cutout = Cutout2D(cube[0].data, (x_cen, y_cen), (np.ceil(x_len), np.ceil(y_len)), wcs=wcs)\n",
    "fig = plt.figure()\n",
    "#ax = plt.subplot()\n",
    "ax = plt.subplot(projection=wcs)\n",
    "ax.set_xlabel('RA')\n",
    "ax.set_ylabel('Dec')\n",
    "ax.imshow(cutout.data, cmap='viridis',origin='lower')\n",
    "ra = ax.coords[0]\n",
    "ra.set_major_formatter('hh:mm:ss')\n",
    "dec = ax.coords[1]\n",
    "dec.set_major_formatter('dd:mm:ss');"
   ]
  },
  {
   "cell_type": "code",
   "execution_count": 13,
   "id": "728ca97f-ce13-44c4-bb0a-e20fb14c750e",
   "metadata": {},
   "outputs": [
    {
     "data": {
      "text/plain": [
       "array([[-137.03723, -134.50972, -137.6755 , -138.88557, -138.48859],\n",
       "       [-139.33075, -136.69724, -140.02359, -139.49629, -139.25494],\n",
       "       [-139.36183, -138.3834 , -139.62833, -140.80118, -141.07465]],\n",
       "      dtype=float32)"
      ]
     },
     "execution_count": 13,
     "metadata": {},
     "output_type": "execute_result"
    }
   ],
   "source": [
    "cutout.data"
   ]
  },
  {
   "cell_type": "code",
   "execution_count": 14,
   "id": "ab07c434-6e0e-431c-b638-717736748e17",
   "metadata": {},
   "outputs": [],
   "source": [
    "# Create boolean mask\n",
    "mask = pyregion.get_mask(rrim, cube[0])\n",
    "# Apply mask to data\n",
    "masked = np.ma.masked_array(cube[0].data, ~mask)"
   ]
  },
  {
   "cell_type": "code",
   "execution_count": 15,
   "id": "df7f5451-6dfc-4b3c-a610-f9df8891a2bf",
   "metadata": {},
   "outputs": [
    {
     "data": {
      "text/plain": [
       "<matplotlib.image.AxesImage at 0x7f1cafdfb650>"
      ]
     },
     "execution_count": 15,
     "metadata": {},
     "output_type": "execute_result"
    },
    {
     "data": {
      "image/png": "[encoded data removed]",
      "text/plain": [
       "<Figure size 432x288 with 1 Axes>"
      ]
     },
     "metadata": {
      "needs_background": "light"
     },
     "output_type": "display_data"
    }
   ],
   "source": [
    "plt.imshow(masked)"
   ]
  },
  {
   "cell_type": "code",
   "execution_count": null,
   "id": "e7e73f50-b625-4eca-b60b-468c7faccadd",
   "metadata": {},
   "outputs": [],
   "source": []
  }
 ],
 "metadata": {
  "kernelspec": {
   "display_name": "Python 3",
   "language": "python",
   "name": "python3"
  },
  "language_info": {
   "codemirror_mode": {
    "name": "ipython",
    "version": 3
   },
   "file_extension": ".py",
   "mimetype": "text/x-python",
   "name": "python",
   "nbconvert_exporter": "python",
   "pygments_lexer": "ipython3",
   "version": "3.9.1"
  }
 },
 "nbformat": 4,
 "nbformat_minor": 5
}
