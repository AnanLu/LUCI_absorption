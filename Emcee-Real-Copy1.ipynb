{
 "cells": [
  {
   "cell_type": "code",
   "execution_count": 1,
   "metadata": {},
   "outputs": [
    {
     "ename": "ModuleNotFoundError",
     "evalue": "No module named 'bottleneck'",
     "output_type": "error",
     "traceback": [
      "\u001b[0;31m---------------------------------------------------------------------------\u001b[0m",
      "\u001b[0;31mModuleNotFoundError\u001b[0m                       Traceback (most recent call last)",
      "\u001b[0;32m<ipython-input-1-8c683e081db2>\u001b[0m in \u001b[0;36m<module>\u001b[0;34m\u001b[0m\n\u001b[1;32m     18\u001b[0m \u001b[0;32mfrom\u001b[0m \u001b[0mscipy\u001b[0m \u001b[0;32mimport\u001b[0m \u001b[0minterpolate\u001b[0m\u001b[0;34m\u001b[0m\u001b[0;34m\u001b[0m\u001b[0m\n\u001b[1;32m     19\u001b[0m \u001b[0;32mimport\u001b[0m \u001b[0mkeras\u001b[0m\u001b[0;34m\u001b[0m\u001b[0;34m\u001b[0m\u001b[0m\n\u001b[0;32m---> 20\u001b[0;31m \u001b[0;32mfrom\u001b[0m \u001b[0morcs\u001b[0m\u001b[0;34m.\u001b[0m\u001b[0mprocess\u001b[0m \u001b[0;32mimport\u001b[0m \u001b[0mSpectralCube\u001b[0m\u001b[0;34m\u001b[0m\u001b[0;34m\u001b[0m\u001b[0m\n\u001b[0m\u001b[1;32m     21\u001b[0m \u001b[0;32mfrom\u001b[0m \u001b[0mscipy\u001b[0m\u001b[0;34m.\u001b[0m\u001b[0moptimize\u001b[0m \u001b[0;32mimport\u001b[0m \u001b[0mBounds\u001b[0m\u001b[0;34m\u001b[0m\u001b[0;34m\u001b[0m\u001b[0m\n",
      "\u001b[0;32m~/miniconda3/envs/orb3/lib/python3.7/site-packages/orcs-3.0-py3.7.egg/orcs/process.py\u001b[0m in \u001b[0;36m<module>\u001b[0;34m\u001b[0m\n\u001b[1;32m     40\u001b[0m \u001b[0;32mimport\u001b[0m \u001b[0mastropy\u001b[0m\u001b[0;34m.\u001b[0m\u001b[0mio\u001b[0m\u001b[0;34m.\u001b[0m\u001b[0mfits\u001b[0m \u001b[0;32mas\u001b[0m \u001b[0mpyfits\u001b[0m\u001b[0;34m\u001b[0m\u001b[0;34m\u001b[0m\u001b[0m\n\u001b[1;32m     41\u001b[0m \u001b[0;32mimport\u001b[0m \u001b[0mastropy\u001b[0m\u001b[0;34m.\u001b[0m\u001b[0mwcs\u001b[0m \u001b[0;32mas\u001b[0m \u001b[0mpywcs\u001b[0m\u001b[0;34m\u001b[0m\u001b[0;34m\u001b[0m\u001b[0m\n\u001b[0;32m---> 42\u001b[0;31m \u001b[0;32mimport\u001b[0m \u001b[0mbottleneck\u001b[0m \u001b[0;32mas\u001b[0m \u001b[0mbn\u001b[0m\u001b[0;34m\u001b[0m\u001b[0;34m\u001b[0m\u001b[0m\n\u001b[0m\u001b[1;32m     43\u001b[0m \u001b[0;32mimport\u001b[0m \u001b[0mwarnings\u001b[0m\u001b[0;34m\u001b[0m\u001b[0;34m\u001b[0m\u001b[0m\n\u001b[1;32m     44\u001b[0m \u001b[0;32mimport\u001b[0m \u001b[0minspect\u001b[0m\u001b[0;34m\u001b[0m\u001b[0;34m\u001b[0m\u001b[0m\n",
      "\u001b[0;31mModuleNotFoundError\u001b[0m: No module named 'bottleneck'"
     ]
    }
   ],
   "source": [
    "import numpy as np\n",
    "import matplotlib.pyplot as plt\n",
    "import pandas as pd\n",
    "import emcee\n",
    "from astropy.io import fits\n",
    "from IPython.display import display, Math\n",
    "from scipy.optimize import minimize\n",
    "from specutils.manipulation import noise_region_uncertainty\n",
    "from specutils.fitting import find_lines_threshold\n",
    "from specutils import Spectrum1D, SpectralRegion\n",
    "from astropy.modeling import models\n",
    "from specutils import SpectralRegion\n",
    "from specutils.fitting import estimate_line_parameters\n",
    "from specutils.manipulation import extract_region\n",
    "import astropy.units as u\n",
    "from astropy.modeling.models import custom_model\n",
    "from specutils.fitting import fit_lines\n",
    "from scipy import interpolate\n",
    "import keras\n",
    "from orcs.process import SpectralCube\n",
    "from scipy.optimize import Bounds"
   ]
  },
  {
   "cell_type": "code",
   "execution_count": 2,
   "metadata": {},
   "outputs": [],
   "source": [
    "# Read in Data\n",
    "\n",
    "sigma_info = []\n",
    "velocity_info = []\n",
    "res_info = []\n",
    "spectrum = fits.open('Data/Spectrum_0.fits')\n",
    "header = spectrum[0].header\n",
    "spec = spectrum[1].data\n",
    "channel = []\n",
    "counts = []\n",
    "for chan in spec:\n",
    "    channel.append(chan[0])\n",
    "    counts.append(chan[1])\n",
    "\n",
    "axis = channel\n",
    "sky = counts\n",
    "velocity = header['VELOCITY']\n",
    "sigma = header['BROADEN']"
   ]
  },
  {
   "cell_type": "code",
   "execution_count": 3,
   "metadata": {},
   "outputs": [
    {
     "ename": "NameError",
     "evalue": "name 'cube' is not defined",
     "output_type": "error",
     "traceback": [
      "\u001b[0;31m---------------------------------------------------------------------------\u001b[0m",
      "\u001b[0;31mNameError\u001b[0m                                 Traceback (most recent call last)",
      "\u001b[0;32m<ipython-input-3-a9d88ba367eb>\u001b[0m in \u001b[0;36m<module>\u001b[0;34m\u001b[0m\n\u001b[1;32m      2\u001b[0m \u001b[0;31m#axis, sky = cube.extract_spectrum(1265, 1790, 2, median=True, mean_flux=True)\u001b[0m\u001b[0;34m\u001b[0m\u001b[0;34m\u001b[0m\u001b[0;34m\u001b[0m\u001b[0m\n\u001b[1;32m      3\u001b[0m \u001b[0;31m#axis, sky = cube.extract_spectrum(1000, 1070, 5, median=True, mean_flux=True)\u001b[0m\u001b[0;34m\u001b[0m\u001b[0;34m\u001b[0m\u001b[0;34m\u001b[0m\u001b[0m\n\u001b[0;32m----> 4\u001b[0;31m \u001b[0maxis\u001b[0m\u001b[0;34m,\u001b[0m \u001b[0msky\u001b[0m \u001b[0;34m=\u001b[0m \u001b[0mcube\u001b[0m\u001b[0;34m.\u001b[0m\u001b[0mextract_spectrum\u001b[0m\u001b[0;34m(\u001b[0m\u001b[0;36m680\u001b[0m\u001b[0;34m,\u001b[0m \u001b[0;36m263\u001b[0m\u001b[0;34m,\u001b[0m \u001b[0;36m2\u001b[0m\u001b[0;34m,\u001b[0m \u001b[0mmedian\u001b[0m\u001b[0;34m=\u001b[0m\u001b[0;32mTrue\u001b[0m\u001b[0;34m,\u001b[0m \u001b[0mmean_flux\u001b[0m\u001b[0;34m=\u001b[0m\u001b[0;32mTrue\u001b[0m\u001b[0;34m)\u001b[0m\u001b[0;34m\u001b[0m\u001b[0;34m\u001b[0m\u001b[0m\n\u001b[0m\u001b[1;32m      5\u001b[0m \u001b[0msky\u001b[0m \u001b[0;34m=\u001b[0m \u001b[0mnp\u001b[0m\u001b[0;34m.\u001b[0m\u001b[0mreal\u001b[0m\u001b[0;34m(\u001b[0m\u001b[0msky\u001b[0m\u001b[0;34m)\u001b[0m\u001b[0;34m\u001b[0m\u001b[0;34m\u001b[0m\u001b[0m\n\u001b[1;32m      6\u001b[0m \u001b[0mgood_sky_inds\u001b[0m \u001b[0;34m=\u001b[0m \u001b[0;34m[\u001b[0m\u001b[0;34m~\u001b[0m\u001b[0mnp\u001b[0m\u001b[0;34m.\u001b[0m\u001b[0misnan\u001b[0m\u001b[0;34m(\u001b[0m\u001b[0msky\u001b[0m\u001b[0;34m)\u001b[0m\u001b[0;34m]\u001b[0m\u001b[0;34m\u001b[0m\u001b[0;34m\u001b[0m\u001b[0m\n",
      "\u001b[0;31mNameError\u001b[0m: name 'cube' is not defined"
     ]
    }
   ],
   "source": [
    "# We first need to extract a random spectrum to get the x-axis (Wavenumbers) for the observation\n",
    "#axis, sky = cube.extract_spectrum(1265, 1790, 2, median=True, mean_flux=True)\n",
    "#axis, sky = cube.extract_spectrum(1000, 1070, 5, median=True, mean_flux=True)\n",
    "axis, sky = cube.extract_spectrum(680, 263, 2, median=True, mean_flux=True)\n",
    "sky = np.real(sky)\n",
    "good_sky_inds = [~np.isnan(sky)]\n",
    "sky = sky[good_sky_inds]\n",
    "axis = axis[good_sky_inds]\n",
    "print(len(sky), len(axis))"
   ]
  },
  {
   "cell_type": "code",
   "execution_count": null,
   "metadata": {},
   "outputs": [],
   "source": [
    "# Machine Learning Reference Spectrum\n",
    "ref_spec = fits.open('Reference-Spectrum-R5000.fits')[1].data\n",
    "channel = []\n",
    "counts = []\n",
    "for chan in ref_spec:  # Only want SN3 region\n",
    "    channel.append(chan[0])\n",
    "    counts.append(np.real(chan[1]))\n",
    "min_ = np.argmin(np.abs(np.array(channel)-14700))\n",
    "max_ = np.argmin(np.abs(np.array(channel)-15600))\n",
    "wavenumbers_syn = channel[min_:max_]"
   ]
  },
  {
   "cell_type": "code",
   "execution_count": null,
   "metadata": {},
   "outputs": [],
   "source": [
    "f = interpolate.interp1d(axis, sky, kind='slinear')\n",
    "sky_corr = (f(wavenumbers_syn))\n",
    "sky_corr_scale = np.max(sky_corr)\n",
    "sky_corr = sky_corr/sky_corr_scale\n",
    "print(sky_corr.shape)"
   ]
  },
  {
   "cell_type": "code",
   "execution_count": null,
   "metadata": {},
   "outputs": [],
   "source": [
    "plt.plot(wavenumbers_syn, sky_corr)"
   ]
  },
  {
   "cell_type": "code",
   "execution_count": null,
   "metadata": {},
   "outputs": [],
   "source": [
    "model = keras.models.load_model('R5000-PREDICTOR-I')\n",
    "\n",
    "Spectrum = sky_corr.reshape(1, sky_corr.shape[0], 1)\n",
    "print(Spectrum.shape)\n",
    "predictions = model(Spectrum, training=False)\n",
    "vel_ml = float(predictions[0][0])\n",
    "broad_ml = float(predictions[0][1])\n",
    "print(vel_ml, broad_ml)\n",
    "line_halpha = 656.28\n",
    "line_ml = 1e7/((vel_ml/3e5)*line_halpha + line_halpha)\n",
    "print(line_ml)\n",
    "# Calculate flux estimate\n",
    "line_ind = np.argmin(np.abs(np.array(axis)-line_ml))\n",
    "flux_est = np.max([sky[line_ind-1], sky[line_ind], sky[line_ind+1]])\n",
    "print(flux_est)"
   ]
  },
  {
   "cell_type": "code",
   "execution_count": null,
   "metadata": {},
   "outputs": [],
   "source": [
    "A_min = 0#1e-19\n",
    "A_max = 1.#1e-15\n",
    "x_min = 14700\n",
    "x_max = 15400\n",
    "sigma_min = 0\n",
    "sigma_max = 100\n",
    "\n",
    "class Gaussian:\n",
    "    def __init__(self, channel, params):\n",
    "        A = params[0]; x = params[1]; sigma = params[2]\n",
    "        self.func = A*np.exp((-(channel-x)**2)/(2*sigma**2))\n",
    "\n",
    "# Update the model\n",
    "def gaussian_model(channel, theta, models):\n",
    "    \"\"\"\n",
    "    \"\"\"\n",
    "    f1 = 0.0\n",
    "    for model_num in range(len(models)):\n",
    "        params = theta[model_num*3:(model_num+1)*3]\n",
    "        f1 += Gaussian(channel, params).func\n",
    "    return f1\n"
   ]
  },
  {
   "cell_type": "code",
   "execution_count": null,
   "metadata": {},
   "outputs": [],
   "source": [
    "def log_likelihood(theta, x, y, yerr, model):\n",
    "    \"\"\"\n",
    "    theta - list of parameters for gaussian fit\n",
    "    \"\"\"\n",
    "    #if model == 1:\n",
    "    #    A_,B_,x_,sigma_ = theta\n",
    "    #    model = gaussian_model(x, A_, B_, x_, sigma_)\n",
    "    #elif model == 2:\n",
    "    #    A_,B_,x_,sigma_, A2_, x2_, sigma2_ = theta\n",
    "    #    model = gaussian_model2(x, A_, B_, x_, sigma_, A2_, x2_, sigma2_)\n",
    "    model = gaussian_model(x, theta, model)\n",
    "    sigma2 = yerr ** 2\n",
    "    return -0.5 * np.sum((y - model) ** 2 / sigma2 + np.log(2*np.pi*sigma2))\n"
   ]
  },
  {
   "cell_type": "code",
   "execution_count": null,
   "metadata": {
    "tags": []
   },
   "outputs": [],
   "source": [
    "line_dict = {'Halpha': 656.280, 'NII6583': 658.341, 'NII6548': 654.803, 'SII6716': 671.647, 'SII6731': 673.085}\n",
    "def line_vals_estimate(spec, line_name):\n",
    "    line_theo = line_dict[line_name]\n",
    "    line_pos_est = 1e7/((vel_ml/3e5)*line_theo + line_theo)  # Estimate of position of line in cm-1\n",
    "    line_ind = np.argmin(np.abs(np.array(axis)-line_pos_est))\n",
    "    line_amp_est = spec[line_ind]#np.mean([sky[line_ind-1], sky[line_ind], sky[line_ind+1]])\n",
    "    return line_amp_est, line_pos_est\n",
    "    \n",
    "model = ['Halpha', 'NII6583', 'NII6548', 'SII6716', 'SII6731']\n",
    "nll = lambda *args: -log_likelihood(*args)\n",
    "initial = np.ones((3*len(model)))\n",
    "sky_scale = np.max(sky)\n",
    "sky_norm = sky/sky_scale\n",
    "bounds_ = []#np.zeros((3*len(model), 2))\n",
    "#print(bounds)\n",
    "#bounds = Bounds([0, -0.5], [1.0, 2.0])\n",
    "for mod in range(len(model)):\n",
    "    val = 3*mod + 1\n",
    "    amp_est, vel_est = line_vals_estimate(sky_norm, model[mod])\n",
    "    initial[3*mod] = amp_est\n",
    "    initial[3*mod + 1] = vel_est\n",
    "    initial[3*mod + 2] = 2\n",
    "    bounds_.append((A_min, A_max))\n",
    "    bounds_.append((x_min, x_max))\n",
    "    bounds_.append((sigma_min, sigma_max))\n",
    "bounds_l = [val[0] for val in bounds_]\n",
    "bounds_u = [val[1] for val in bounds_]\n",
    "bounds = Bounds(bounds_l, bounds_u)\n",
    "print(initial)\n",
    "cons = (#{'type': 'eq', 'fun': lambda x: 3e5*((1e7/x[4]-line_dict['NII6583'])/(1e7/x[4])) - 3e5*((1e7/x[1]-line_dict['Halpha'])/(1e7/x[1]))},\n",
    "        {'type': 'eq', 'fun': lambda x: x[2] - x[5]},\n",
    "        {'type': 'eq', 'fun': lambda x: x[5] - x[8]},\n",
    "        {'type': 'eq', 'fun': lambda x: x[5] - x[11]},\n",
    "        {'type': 'eq', 'fun': lambda x: x[5] - x[14]},\n",
    "        {'type': 'eq', 'fun': lambda x: 3e5*((1e7/x[4]-line_dict['NII6583'])/(1e7/x[4])) - 3e5*((1e7/x[7]-line_dict['NII6548'])/(1e7/x[7]))},\n",
    "        {'type': 'eq', 'fun': lambda x: 3e5*((1e7/x[4]-line_dict['NII6583'])/(1e7/x[4])) - 3e5*((1e7/x[10]-line_dict['SII6716'])/(1e7/x[10]))},\n",
    "        {'type': 'eq', 'fun': lambda x: 3e5*((1e7/x[4]-line_dict['NII6583'])/(1e7/x[4])) - 3e5*((1e7/x[13]-line_dict['SII6731'])/(1e7/x[13]))})\n",
    "soln = minimize(nll, initial, method='SLSQP',\n",
    "                options={'disp': True}, bounds=bounds, tol=1e-16,\n",
    "                args=(axis, sky_norm, 1e-2, model))#, constraints=cons)\n",
    "init_var = soln.x\n",
    "line_fit = 1e7/((init_var[1]/3e5)*line_halpha + line_halpha)\n",
    "print(init_var)\n",
    "print(3e5*((1e7/init_var[1] - 656.28)/(1e7/init_var[1])))\n",
    "print(3e5*((1e7/init_var[4] - line_dict['NII6583'])/(1e7/init_var[4])))\n",
    "print(init_var[2], init_var[5], init_var[8])\n",
    "#print(3e5*((1e7/init_var[1]-656.28)/(1e7/init_var[1])))\n",
    "#for i in range(len(model)):\n",
    "#    init_var[i] = init_var[i]/sky_scale"
   ]
  },
  {
   "cell_type": "code",
   "execution_count": null,
   "metadata": {},
   "outputs": [],
   "source": [
    "#if model == 1:\n",
    "parameters = soln.x\n",
    "for i in range(len(model)):\n",
    "    parameters[i*3] *= sky_corr_scale\n",
    "print(parameters)\n",
    "#if model == 2:\n",
    "    #parameters = [mean_[0], mean_[1],  mean_[2], mean_[3], mean_[4], mean_[5]]\n",
    "final_model = gaussian_model(axis, parameters, model)\n",
    "plt.clf()\n",
    "plt.plot(axis, sky, label='Spectrum')\n",
    "plt.plot(axis, final_model, label='Fit')\n",
    "plt.legend()\n",
    "plt.show()\n",
    "l_calc = 1e7/parameters[1]  # Halpha\n",
    "#print(l_calc)\n",
    "l_shift = (l_calc - 656.28)/l_calc\n",
    "#print(l_shift)\n",
    "v = 3e5*l_shift\n",
    "print(\"Calculated velocity: %.2f km/s\"%v)"
   ]
  },
  {
   "cell_type": "code",
   "execution_count": null,
   "metadata": {},
   "outputs": [],
   "source": [
    "def log_prior(theta, model):\n",
    "    for model_num in range(len(model)):\n",
    "        params = theta[model_num*3:(model_num+1)*3]\n",
    "    within_bounds = True  # Boolean to determine if parameters are within bounds\n",
    "    for ct, param in enumerate(params):\n",
    "        if ct%3 == 0:  # Amplitude parameter\n",
    "            if param > A_min and param < A_max:\n",
    "                pass\n",
    "            else:\n",
    "                within_bounds = False  # Value not in bounds\n",
    "                break\n",
    "        if ct%3 == 1:  # velocity parameter\n",
    "            if param > x_min and param < x_max:\n",
    "                pass\n",
    "            else:\n",
    "                within_bounds = False  # Value not in bounds\n",
    "                break\n",
    "        if ct%3 == 2:  # sigma parameter\n",
    "            if param > sigma_min and param < sigma_max:\n",
    "                pass\n",
    "            else:\n",
    "                within_bounds = False  # Value not in bounds\n",
    "                break\n",
    "    if within_bounds:\n",
    "        return 0.0\n",
    "    else:\n",
    "        return -np.inf\n",
    "    #A_,x_,sigma_ = theta\n",
    "    #if A_min < A_ < A_max and x_min < x_ < x_max and sigma_min < sigma_ < sigma_max:\n",
    "    #    return 0.0#np.log(1/((t_max-t_min)*(rp_max-rp_min)*(b_max-b_min)))\n",
    "    #return -np.inf\n",
    "\n"
   ]
  },
  {
   "cell_type": "code",
   "execution_count": null,
   "metadata": {},
   "outputs": [],
   "source": [
    "def log_probability(theta, x, y, yerr, model):\n",
    "    lp = log_prior(theta, model)\n",
    "    if not np.isfinite(lp):\n",
    "        return -np.inf\n",
    "    return lp + log_likelihood(theta, x, y, yerr, model)"
   ]
  },
  {
   "cell_type": "code",
   "execution_count": null,
   "metadata": {},
   "outputs": [],
   "source": [
    "n_dim = 3 * len(model)\n",
    "n_walkers = n_dim * 2 + 4\n",
    "\n",
    "init_ = init_var + 1 * np.random.randn(n_walkers, n_dim)\n",
    "\n",
    "sampler = emcee.EnsembleSampler(n_walkers, n_dim, log_probability, args=(axis, sky_norm, 1e-2, model))\n",
    "sampler.run_mcmc(init_, 500, progress=True);"
   ]
  },
  {
   "cell_type": "code",
   "execution_count": null,
   "metadata": {},
   "outputs": [],
   "source": [
    "fig, axes = plt.subplots(n_dim, figsize=(10, 7), sharex=True)\n",
    "samples = sampler.get_chain()\n",
    "if len(model) == 1:\n",
    "    labels = [r\"A\", r\"x\", \"sigma\"]\n",
    "elif len(model) == 2:\n",
    "    labels = [r\"A\", r\"x\", r\"\\sigma\", r\"A_2\", r\"x_2\", r\"\\sigma_2\"]\n",
    "elif len(model) == 3:\n",
    "    labels = [r\"A\", r\"x\", r\"\\sigma\", r\"A_2\", r\"x_2\", r\"\\sigma_2\", r\"A_3\", r\"x_3\", r\"\\sigma_3\"]\n",
    "elif len(model) == 4:\n",
    "    labels = [r\"A\", r\"x\", r\"\\sigma\", r\"A_2\", r\"x_2\", r\"\\sigma_2\", r\"A_3\", r\"x_3\", r\"\\sigma_3\", r\"A_4\", r\"x_4\", r\"\\sigma_4\"]\n",
    "elif len(model) == 5:\n",
    "    labels = [r\"A\", r\"x\", r\"\\sigma\", r\"A_2\", r\"x_2\", r\"\\sigma_2\", r\"A_3\", r\"x_3\", r\"\\sigma_3\", r\"A_4\", r\"x_4\", r\"\\sigma_4\", r\"A_5\", r\"x_5\", r\"\\sigma_5\"]\n",
    "for i in range(n_dim):\n",
    "    ax = axes[i]\n",
    "    ax.plot(samples[:, :, i], \"k\", color='dodgerblue', alpha=0.3)\n",
    "    ax.set_xlim(0, len(samples))\n",
    "    ax.set_ylabel(labels[i], fontweight='bold', fontsize=14)\n",
    "    #ax.yaxis.set_label_coords(-0.1, 0.5)\n",
    "axes[-1].set_xlabel(\"step number\", fontsize=14, fontweight='bold');\n",
    "plt.savefig('Emcee-steps.png')"
   ]
  },
  {
   "cell_type": "code",
   "execution_count": null,
   "metadata": {},
   "outputs": [],
   "source": [
    "flat_samples = sampler.get_chain(discard=200, flat=True)\n",
    "parameters = []\n",
    "for i in range(n_dim):\n",
    "    mcmc = np.percentile(flat_samples[:, i], [16, 50, 84])\n",
    "    q = np.diff(mcmc)\n",
    "    txt = \"\\mathrm{{{3}}} = {0:.3f}_{{-{1:.3f}}}^{{{2:.3f}}}\"\n",
    "    txt = txt.format(mcmc[1], q[0], q[1], labels[i])\n",
    "    parameters.append(mcmc[1])\n",
    "    display(Math(txt))"
   ]
  },
  {
   "cell_type": "code",
   "execution_count": null,
   "metadata": {},
   "outputs": [],
   "source": [
    "import corner\n",
    "fig = corner.corner(\n",
    "    flat_samples, labels=labels, color='dodgerblue', label_kwargs=dict(fontweight='bold', fontsize=14), fill_contours=True#, truths=[m_true, b_true, np.log(f_true)]\n",
    ");\n",
    "plt.plot()\n",
    "plt.savefig('Emcee-Corner.png')"
   ]
  },
  {
   "cell_type": "code",
   "execution_count": null,
   "metadata": {},
   "outputs": [],
   "source": [
    "#if model == 1:\n",
    "print(parameters)\n",
    "#if model == 2:\n",
    "    #parameters = [mean_[0], mean_[1],  mean_[2], mean_[3], mean_[4], mean_[5]]\n",
    "final_model = gaussian_model(axis, parameters, model)\n",
    "plt.clf()\n",
    "plt.plot(axis, sky_norm, label='Spectrum')\n",
    "plt.plot(axis, final_model, label='Fit')\n",
    "plt.legend()"
   ]
  },
  {
   "cell_type": "code",
   "execution_count": null,
   "metadata": {},
   "outputs": [],
   "source": [
    "l_calc = 1e7/parameters[1]  # Halpha\n",
    "#print(l_calc)\n",
    "l_shift = (l_calc - 656.28)/l_calc\n",
    "#print(l_shift)\n",
    "v = 3e5*l_shift\n",
    "print(\"Calculated velocity: %.2f km/s\"%v)"
   ]
  },
  {
   "cell_type": "code",
   "execution_count": null,
   "metadata": {},
   "outputs": [],
   "source": [
    "parameters[2]*3e5/(parameters[1])"
   ]
  },
  {
   "cell_type": "code",
   "execution_count": null,
   "metadata": {},
   "outputs": [],
   "source": []
  }
 ],
 "metadata": {
  "kernelspec": {
   "display_name": "Python 3",
   "language": "python",
   "name": "python3"
  },
  "language_info": {
   "codemirror_mode": {
    "name": "ipython",
    "version": 3
   },
   "file_extension": ".py",
   "mimetype": "text/x-python",
   "name": "python",
   "nbconvert_exporter": "python",
   "pygments_lexer": "ipython3",
   "version": "3.9.1"
  }
 },
 "nbformat": 4,
 "nbformat_minor": 4
}
