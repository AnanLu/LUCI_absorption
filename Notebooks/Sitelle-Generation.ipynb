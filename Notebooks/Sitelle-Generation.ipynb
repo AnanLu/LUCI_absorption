{
 "cells": [
  {
   "cell_type": "markdown",
   "metadata": {},
   "source": [
    "# Generation of Synthetic Sitelle Data\n",
    "\n",
    "The problem: How do we get the velocity component of the emission from the Sitelle spectra? This is needed to apply an ORCS fit... \n",
    "\n",
    "What are we going to do?\n",
    " - Generate Synthetic Sitelle Data for SN3 and the Signals Observation Parameters. We will vary the theta value (offset of pixel on chip), velocity, and broadening components for our five primary emission lines. \n",
    " - Apply a CNN to the data to try and learn the values"
   ]
  },
  {
   "cell_type": "code",
   "execution_count": 1,
   "metadata": {},
   "outputs": [
    {
     "ename": "ModuleNotFoundError",
     "evalue": "No module named 'orb'",
     "output_type": "error",
     "traceback": [
      "\u001b[0;31m---------------------------------------------------------------------------\u001b[0m",
      "\u001b[0;31mModuleNotFoundError\u001b[0m                       Traceback (most recent call last)",
      "\u001b[0;32m<ipython-input-1-f05f37e60be3>\u001b[0m in \u001b[0;36m<module>\u001b[0;34m\u001b[0m\n\u001b[0;32m----> 1\u001b[0;31m \u001b[0;32mimport\u001b[0m \u001b[0morb\u001b[0m\u001b[0;34m.\u001b[0m\u001b[0mfit\u001b[0m\u001b[0;34m\u001b[0m\u001b[0;34m\u001b[0m\u001b[0m\n\u001b[0m\u001b[1;32m      2\u001b[0m \u001b[0;32mimport\u001b[0m \u001b[0mpylab\u001b[0m \u001b[0;32mas\u001b[0m \u001b[0mpl\u001b[0m\u001b[0;34m\u001b[0m\u001b[0;34m\u001b[0m\u001b[0m\n\u001b[1;32m      3\u001b[0m \u001b[0;32mimport\u001b[0m \u001b[0mnumpy\u001b[0m \u001b[0;32mas\u001b[0m \u001b[0mnp\u001b[0m\u001b[0;34m\u001b[0m\u001b[0;34m\u001b[0m\u001b[0m\n\u001b[1;32m      4\u001b[0m \u001b[0;32mfrom\u001b[0m \u001b[0morb\u001b[0m\u001b[0;34m.\u001b[0m\u001b[0mcore\u001b[0m \u001b[0;32mimport\u001b[0m \u001b[0mLines\u001b[0m\u001b[0;34m\u001b[0m\u001b[0;34m\u001b[0m\u001b[0m\n\u001b[1;32m      5\u001b[0m \u001b[0;32mimport\u001b[0m \u001b[0mrandom\u001b[0m\u001b[0;34m\u001b[0m\u001b[0;34m\u001b[0m\u001b[0m\n",
      "\u001b[0;31mModuleNotFoundError\u001b[0m: No module named 'orb'"
     ]
    }
   ],
   "source": [
    "import orb.fit\n",
    "import pylab as pl\n",
    "import numpy as np\n",
    "from orb.core import Lines\n",
    "import random\n",
    "from astropy.io import fits\n",
    "import datetime\n",
    "from tqdm import tqdm_notebook as tqdm\n",
    "import pymysql\n",
    "import pandas as pd\n",
    "import matplotlib.pyplot as plt"
   ]
  },
  {
   "cell_type": "code",
   "execution_count": 10,
   "metadata": {},
   "outputs": [],
   "source": [
    "# Set Input Parameters\n",
    "output_dir = 'Data/'\n",
    "# Set observation parameters\n",
    "step = 2943\n",
    "order = 8\n",
    "resolution = 5000\n",
    "vel_num = 5000  # Number of Velocity Values Sampled\n",
    "broad_num = 1000  # Number of Broadening Values Sampled\n",
    "theta_num = 1  # Number of Theta Values Sampled\n",
    "num_syn = 1  # Number of Synthetic Spectra "
   ]
  },
  {
   "cell_type": "code",
   "execution_count": 11,
   "metadata": {},
   "outputs": [],
   "source": [
    "# Sample theta parameter\n",
    "thetas_ = np.random.uniform(11.96,11.96,theta_num)#11.8,19.6,theta_num) \n",
    "# Sample velocity\n",
    "vel_ = np.random.uniform(-200,500,vel_num)\n",
    "# Sample broadening\n",
    "broad_ = np.random.uniform(10,200,broad_num)\n",
    "# Same resolution\n",
    "res_ = np.random.uniform(resolution-200, resolution, 200)"
   ]
  },
  {
   "cell_type": "code",
   "execution_count": 12,
   "metadata": {},
   "outputs": [],
   "source": [
    "# Now we need to get our emission lines\n",
    "halpha_cm1 = Lines().get_line_cm1('Halpha')\n",
    "NII6548_cm1 = Lines().get_line_cm1('[NII]6548')\n",
    "NII6583_cm1 = Lines().get_line_cm1('[NII]6583')\n",
    "SII6716_cm1 = Lines().get_line_cm1('[SII]6716')\n",
    "SII6731_cm1 = Lines().get_line_cm1('[SII]6731')"
   ]
  },
  {
   "cell_type": "code",
   "execution_count": 13,
   "metadata": {},
   "outputs": [],
   "source": [
    "# We must alo get our flux values from 3mdb\n",
    "# First we load in the parameters needed to login to the sql database\n",
    "MdB_HOST='3mdb.astro.unam.mx'\n",
    "MdB_USER='OVN_user'\n",
    "MdB_PASSWD='oiii5007'\n",
    "MdB_PORT='3306'\n",
    "MdB_DBs='3MdBs'\n",
    "MdB_DBp='3MdB'\n",
    "MdB_DB_17='3MdB_17'\n",
    "# Now we connect to the database\n",
    "co = pymysql.connect(host=MdB_HOST, db=MdB_DB_17, user=MdB_USER, passwd=MdB_PASSWD)\n",
    "# Now we get the lines we want\n",
    "ampls = pd.read_sql(\"select H__1_656281A as h1, N__2_654805A as n1, N__2_658345A as n2, \\\n",
    "                  S__2_673082A  as s1, S__2_671644A as s2,   \\\n",
    "                  com1 as U, com2 as gf, com4 as ab \\\n",
    "                  from tab_17 \\\n",
    "                  where ref = 'BOND'\"\n",
    "                    , con=co)\n",
    "\n",
    "# sims = pd.read_sql(\"SELECT ref FROM tab\", con=co)\n",
    "# sims['ref'].unique() "
   ]
  },
  {
   "cell_type": "code",
   "execution_count": 14,
   "metadata": {},
   "outputs": [
    {
     "data": {
      "text/plain": [
       "(15200.0, 15300.0)"
      ]
     },
     "execution_count": 14,
     "metadata": {},
     "output_type": "execute_result"
    },
    {
     "data": {
      "image/png": "[encoded data removed]",
      "text/plain": [
       "<Figure size 432x288 with 1 Axes>"
      ]
     },
     "metadata": {
      "needs_background": "light"
     },
     "output_type": "display_data"
    }
   ],
   "source": [
    "sim_vals = ampls.iloc[1]\n",
    "axis_corr = 1 / np.cos(np.deg2rad(11.96))\n",
    "spectrum = orb.fit.create_cm1_lines_model([halpha_cm1], [sim_vals['h1']/sim_vals['h1']],\n",
    "                                              step, order, resolution, 11.96, fmodel='sincgauss',\n",
    "                                              sigma=1, vel=100)\n",
    "spectrum_axis = orb.utils.spectrum.create_cm1_axis(np.size(spectrum), step, order, corr=axis_corr)\n",
    "plt.plot(spectrum_axis, spectrum)\n",
    "plt.xlim(15200, 15300)"
   ]
  },
  {
   "cell_type": "code",
   "execution_count": 16,
   "metadata": {},
   "outputs": [
    {
     "data": {
      "text/plain": [
       "113420"
      ]
     },
     "execution_count": 16,
     "metadata": {},
     "output_type": "execute_result"
    }
   ],
   "source": [
    "len(ampls)"
   ]
  },
  {
   "cell_type": "code",
   "execution_count": 30,
   "metadata": {},
   "outputs": [
    {
     "name": "stdout",
     "output_type": "stream",
     "text": [
      "We are on spectrum number 0\n"
     ]
    },
    {
     "data": {
      "image/png": "[encoded data removed]",
      "text/plain": [
       "<Figure size 432x288 with 1 Axes>"
      ]
     },
     "metadata": {
      "needs_background": "light"
     },
     "output_type": "display_data"
    }
   ],
   "source": [
    "# We now can model the lines. For the moment, we will assume all lines have the same velocity and broadening\n",
    "# Do this for randomized combinations of vel_ and broad_\n",
    "for spec_ct in range(1):\n",
    "    if spec_ct%1000 == 0:\n",
    "        print(\"We are on spectrum number %i\"%spec_ct)\n",
    "    pick_new = True\n",
    "    # Randomly select velocity and broadening parameter and theta\n",
    "    velocity = random.choice(vel_)\n",
    "    broadening = random.choice(broad_)\n",
    "    resolution = random.choice(res_)\n",
    "    theta = 11.96#random.choice(thetas_)\n",
    "    axis_corr = 1 / np.cos(np.deg2rad(theta))\n",
    "    # Randomly Select a M3db simulation\n",
    "    #while pick_new:\n",
    "        # Only pick simulation if the n1 and s1 lines are detectable\n",
    "    while pick_new:\n",
    "        sim_num = random.randint(0,len(ampls)-1)\n",
    "        #print(sim_num)\n",
    "        sim_vals = ampls.iloc[sim_num]\n",
    "        #print(sim_vals['h1']/sim_vals['n1'], sim_vals['h1']/sim_vals['s1'])\n",
    "        if ((sim_vals['h1']/sim_vals['n1'] < 5) and (sim_vals['h1']/sim_vals['s1'] < 8)):\n",
    "            pick_new = False\n",
    "    # Next we are going to normalize so that the max value is 1\n",
    "    max_val = sim_vals[['h1','n1','n2','s1','s2']].max()\n",
    "    #min_val = sim_vals[['h1','n1','n2','s1','s2']].min() \n",
    "    # Now add all of the lines... \n",
    "    spectrum = orb.fit.create_cm1_lines_model([halpha_cm1], [sim_vals['h1']/sim_vals['h1']],\n",
    "                                              step, order, resolution, theta, fmodel='sinc',\n",
    "                                              sigma=broadening, vel=velocity)\n",
    "    spectrum += orb.fit.create_cm1_lines_model([NII6548_cm1], [sim_vals['n1']/sim_vals['h1']],\n",
    "                                              step, order, resolution, theta, fmodel='sinc',\n",
    "                                              sigma=broadening, vel=velocity)\n",
    "    spectrum += orb.fit.create_cm1_lines_model([NII6583_cm1], [sim_vals['n2']/sim_vals['h1']],\n",
    "                                              step, order, resolution, theta, fmodel='sinc',\n",
    "                                              sigma=broadening, vel=velocity)\n",
    "    spectrum += orb.fit.create_cm1_lines_model([SII6716_cm1], [sim_vals['s1']/sim_vals['h1']],\n",
    "                                              step, order, resolution, theta, fmodel='sinc',\n",
    "                                              sigma=broadening, vel=velocity)\n",
    "    spectrum += orb.fit.create_cm1_lines_model([SII6731_cm1], [sim_vals['s2']/sim_vals['h1']],\n",
    "                                              step, order, resolution, theta, fmodel='sinc',\n",
    "                                              sigma=broadening, vel=velocity)\n",
    "    # We now add noise\n",
    "    SNR = np.random.uniform(25,30)\n",
    "    spectrum += np.random.normal(0.0,1.0/SNR,spectrum.shape)\n",
    "    spectrum_axis = orb.utils.spectrum.create_cm1_axis(np.size(spectrum), step, order, corr=axis_corr)\n",
    "    min_ = np.argmin(np.abs(np.array(spectrum_axis)-14400))\n",
    "    max_ = np.argmin(np.abs(np.array(spectrum_axis)-15700))\n",
    "    spectrum = spectrum[min_:max_]  ## at R = 5000 -> spectrum[214:558]\n",
    "    spectrum_axis = spectrum_axis[min_:max_]\n",
    "    # Normalize Spectrum Values\n",
    "    spec_max = np.max(spectrum)\n",
    "    spectrum = [spec_/spec_max for spec_ in spectrum]\n",
    "    pl.clf()\n",
    "    pl.plot(spectrum_axis, spectrum)\n",
    "    #pl.savefig('Plots/spec_%i.png'%spec_ct)\n",
    "    # Gather information to make Fits file\n",
    "    col1 = fits.Column(name='Wavenumber', format='E', array=spectrum_axis)\n",
    "    col2 = fits.Column(name='Flux', format='E', array=spectrum)\n",
    "    cols = fits.ColDefs([col1, col2])\n",
    "    hdu = fits.BinTableHDU.from_columns(cols)\n",
    "    # Header info\n",
    "    hdr = fits.Header()\n",
    "    hdr['OBSERVER'] = 'Carter Rhea'\n",
    "    hdr['COMMENT'] = \"Synthetic Spectrum Number: %i\"%spec_ct\n",
    "    hdr['TIME'] =  datetime.datetime.now().strftime(\"%Y-%m-%d %H:%M:%S\")\n",
    "    hdr['VELOCITY'] = velocity\n",
    "    hdr['BROADEN'] = broadening\n",
    "    hdr['THETA'] = theta\n",
    "    hdr['RES'] = resolution\n",
    "    hdr['SIM'] = 'BOND'\n",
    "    hdr['SNR'] = SNR\n",
    "    hdr['SIM_NUM'] = sim_num\n",
    "    empty_primary = fits.PrimaryHDU(header=hdr)\n",
    "    hdul = fits.HDUList([empty_primary, hdu])\n",
    "    hdul.writeto(output_dir+'Spectrum_%i.fits'%spec_ct, overwrite=True)\n",
    "    "
   ]
  },
  {
   "cell_type": "code",
   "execution_count": null,
   "metadata": {},
   "outputs": [],
   "source": []
  },
  {
   "cell_type": "markdown",
   "metadata": {},
   "source": [
    "## Reference Spectrum"
   ]
  },
  {
   "cell_type": "code",
   "execution_count": null,
   "metadata": {},
   "outputs": [],
   "source": []
  }
 ],
 "metadata": {
  "kernelspec": {
   "display_name": "Python 3",
   "language": "python",
   "name": "python3"
  },
  "language_info": {
   "codemirror_mode": {
    "name": "ipython",
    "version": 3
   },
   "file_extension": ".py",
   "mimetype": "text/x-python",
   "name": "python",
   "nbconvert_exporter": "python",
   "pygments_lexer": "ipython3",
   "version": "3.9.5"
  }
 },
 "nbformat": 4,
 "nbformat_minor": 4
}
