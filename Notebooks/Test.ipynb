{
 "cells": [
  {
   "cell_type": "code",
   "execution_count": 1,
   "id": "f89ec76c-7ed8-4b23-8a9e-94846a537db9",
   "metadata": {},
   "outputs": [],
   "source": [
    "from Luci import Luci\n",
    "import matplotlib.pyplot as plt\n",
    "import numpy as np"
   ]
  },
  {
   "cell_type": "code",
   "execution_count": 2,
   "id": "ff54d6b5-5514-4bc1-a652-81bbb8344e0a",
   "metadata": {},
   "outputs": [],
   "source": [
    "cube_dir = '/media/carterrhea/carterrhea/Benjamin'  # Path to data cube\n",
    "cube_name = 'A0426_SN3.merged.cm1.1.0'  # don't add .hdf5 extension\n",
    "redshift = 0.017284"
   ]
  },
  {
   "cell_type": "code",
   "execution_count": 3,
   "id": "ef7ec14d-fda1-4c45-baab-96fa7a297ef0",
   "metadata": {},
   "outputs": [
    {
     "name": "stderr",
     "output_type": "stream",
     "text": [
      "  0%|          | 0/9 [00:00<?, ?it/s]"
     ]
    },
    {
     "name": "stdout",
     "output_type": "stream",
     "text": [
      "Reading in data...\n"
     ]
    },
    {
     "name": "stderr",
     "output_type": "stream",
     "text": [
      "100%|██████████| 9/9 [00:12<00:00,  1.35s/it]\n"
     ]
    }
   ],
   "source": [
    "cube = Luci(cube_dir+'/'+cube_name, cube_dir, 'NGC1275', redshift, 'Reference-Spectrum-R1800', 'R1800-PREDICTOR-I')"
   ]
  },
  {
   "cell_type": "code",
   "execution_count": 4,
   "id": "0b1bfea4-ca1c-4926-ac3b-a8c5d5927082",
   "metadata": {},
   "outputs": [],
   "source": [
    "cube.create_deep_image()"
   ]
  },
  {
   "cell_type": "code",
   "execution_count": 5,
   "id": "86fa71a8-cf80-4e7f-8580-8a8f8da01fe1",
   "metadata": {},
   "outputs": [
    {
     "name": "stderr",
     "output_type": "stream",
     "text": [
      "100%|██████████| 33/33 [15:26<00:00, 28.08s/it]\n"
     ]
    },
    {
     "ename": "TypeError",
     "evalue": "save_fits() missing 1 required positional argument: 'binning'",
     "output_type": "error",
     "traceback": [
      "\u001b[0;31m---------------------------------------------------------------------------\u001b[0m",
      "\u001b[0;31mTypeError\u001b[0m                                 Traceback (most recent call last)",
      "\u001b[0;32m<ipython-input-5-5d2594162aab>\u001b[0m in \u001b[0;36m<module>\u001b[0;34m\u001b[0m\n\u001b[0;32m----> 1\u001b[0;31m \u001b[0mvel_map\u001b[0m\u001b[0;34m,\u001b[0m \u001b[0mbroad_map\u001b[0m\u001b[0;34m,\u001b[0m \u001b[0mflux_map\u001b[0m\u001b[0;34m,\u001b[0m \u001b[0mchi2_fits\u001b[0m \u001b[0;34m=\u001b[0m \u001b[0mcube\u001b[0m\u001b[0;34m.\u001b[0m\u001b[0mfit_cube\u001b[0m\u001b[0;34m(\u001b[0m\u001b[0;34m[\u001b[0m\u001b[0;34m'Halpha'\u001b[0m\u001b[0;34m,\u001b[0m \u001b[0;34m'NII6548'\u001b[0m\u001b[0;34m,\u001b[0m \u001b[0;34m'NII6583'\u001b[0m\u001b[0;34m,\u001b[0m \u001b[0;34m'SII6716'\u001b[0m\u001b[0;34m,\u001b[0m \u001b[0;34m'SII6731'\u001b[0m\u001b[0;34m]\u001b[0m\u001b[0;34m,\u001b[0m \u001b[0;34m'gaussian'\u001b[0m\u001b[0;34m,\u001b[0m \u001b[0;36m1300\u001b[0m\u001b[0;34m,\u001b[0m \u001b[0;36m1400\u001b[0m\u001b[0;34m,\u001b[0m \u001b[0;36m550\u001b[0m\u001b[0;34m,\u001b[0m \u001b[0;36m650\u001b[0m\u001b[0;34m,\u001b[0m \u001b[0mbinning\u001b[0m\u001b[0;34m=\u001b[0m\u001b[0;36m3\u001b[0m\u001b[0;34m)\u001b[0m\u001b[0;34m\u001b[0m\u001b[0;34m\u001b[0m\u001b[0m\n\u001b[0m",
      "\u001b[0;32m/media/carterrhea/carterrhea/SIGNALS/LUCI/Luci.py\u001b[0m in \u001b[0;36mfit_cube\u001b[0;34m(self, lines, fit_function, x_min, x_max, y_min, y_max, bkg, binning, bayes_bool, output_name)\u001b[0m\n\u001b[1;32m    290\u001b[0m         \u001b[0;31m# Write outputs (Velocity, Broadening, and Amplitudes)\u001b[0m\u001b[0;34m\u001b[0m\u001b[0;34m\u001b[0m\u001b[0;34m\u001b[0m\u001b[0m\n\u001b[1;32m    291\u001b[0m         \u001b[0;32mif\u001b[0m \u001b[0mbinning\u001b[0m \u001b[0;32mis\u001b[0m \u001b[0;32mnot\u001b[0m \u001b[0;32mNone\u001b[0m\u001b[0;34m:\u001b[0m\u001b[0;34m\u001b[0m\u001b[0;34m\u001b[0m\u001b[0m\n\u001b[0;32m--> 292\u001b[0;31m             \u001b[0mself\u001b[0m\u001b[0;34m.\u001b[0m\u001b[0msave_fits\u001b[0m\u001b[0;34m(\u001b[0m\u001b[0mlines\u001b[0m\u001b[0;34m,\u001b[0m \u001b[0mvelocity_fits\u001b[0m\u001b[0;34m,\u001b[0m \u001b[0mbroadening_fits\u001b[0m\u001b[0;34m,\u001b[0m \u001b[0mampls_fits\u001b[0m\u001b[0;34m,\u001b[0m \u001b[0mflux_fits\u001b[0m\u001b[0;34m,\u001b[0m \u001b[0mchi2_fits\u001b[0m\u001b[0;34m,\u001b[0m \u001b[0mself\u001b[0m\u001b[0;34m.\u001b[0m\u001b[0mheader\u001b[0m\u001b[0;34m,\u001b[0m \u001b[0moutput_name\u001b[0m\u001b[0;34m,\u001b[0m \u001b[0mbinning\u001b[0m\u001b[0;34m)\u001b[0m\u001b[0;34m\u001b[0m\u001b[0;34m\u001b[0m\u001b[0m\n\u001b[0m\u001b[1;32m    293\u001b[0m         \u001b[0;32melse\u001b[0m\u001b[0;34m:\u001b[0m\u001b[0;34m\u001b[0m\u001b[0;34m\u001b[0m\u001b[0m\n\u001b[1;32m    294\u001b[0m             \u001b[0mself\u001b[0m\u001b[0;34m.\u001b[0m\u001b[0msave_fits\u001b[0m\u001b[0;34m(\u001b[0m\u001b[0mlines\u001b[0m\u001b[0;34m,\u001b[0m \u001b[0mvelocity_fits\u001b[0m\u001b[0;34m,\u001b[0m \u001b[0mbroadening_fits\u001b[0m\u001b[0;34m,\u001b[0m \u001b[0mampls_fits\u001b[0m\u001b[0;34m,\u001b[0m \u001b[0mflux_fits\u001b[0m\u001b[0;34m,\u001b[0m \u001b[0mchi2_fits\u001b[0m\u001b[0;34m,\u001b[0m \u001b[0mself\u001b[0m\u001b[0;34m.\u001b[0m\u001b[0mheader\u001b[0m\u001b[0;34m,\u001b[0m \u001b[0moutput_name\u001b[0m\u001b[0;34m,\u001b[0m \u001b[0mbinning\u001b[0m\u001b[0;34m)\u001b[0m\u001b[0;34m\u001b[0m\u001b[0;34m\u001b[0m\u001b[0m\n",
      "\u001b[0;31mTypeError\u001b[0m: save_fits() missing 1 required positional argument: 'binning'"
     ]
    }
   ],
   "source": [
    "vel_map, broad_map, flux_map, chi2_fits = cube.fit_cube(['Halpha', 'NII6548', 'NII6583', 'SII6716', 'SII6731'], 'gaussian', 1300, 1400, 550, 650, binning=3)"
   ]
  },
  {
   "cell_type": "code",
   "execution_count": null,
   "id": "937b25ff-6dff-4e31-a4d4-e88ac812346c",
   "metadata": {},
   "outputs": [],
   "source": [
    "plt.imshow(vel_map)"
   ]
  },
  {
   "cell_type": "code",
   "execution_count": null,
   "id": "324305aa-4169-4cbf-b4d8-0d8eb005a419",
   "metadata": {},
   "outputs": [],
   "source": []
  }
 ],
 "metadata": {
  "kernelspec": {
   "display_name": "Python 3",
   "language": "python",
   "name": "python3"
  },
  "language_info": {
   "codemirror_mode": {
    "name": "ipython",
    "version": 3
   },
   "file_extension": ".py",
   "mimetype": "text/x-python",
   "name": "python",
   "nbconvert_exporter": "python",
   "pygments_lexer": "ipython3",
   "version": "3.7.10"
  }
 },
 "nbformat": 4,
 "nbformat_minor": 5
}
