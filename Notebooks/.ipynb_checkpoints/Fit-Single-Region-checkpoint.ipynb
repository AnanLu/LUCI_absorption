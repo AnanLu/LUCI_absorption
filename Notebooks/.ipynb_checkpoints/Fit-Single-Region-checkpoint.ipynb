{
 "cells": [
  {
   "cell_type": "code",
   "execution_count": 35,
   "id": "867cefd1-369d-491d-9fb0-62bd19d93d2a",
   "metadata": {},
   "outputs": [],
   "source": [
    "# Imports\n",
    "import sys\n",
    "sys.path.insert(0, '/media/carterrhea/carterrhea/SIGNALS/LUCI/')  # Location of Luci\n",
    "from LuciBase import Luci\n",
    "import LUCI.LuciPlotting as lplt\n",
    "import matplotlib.pyplot as plt\n",
    "import LUCI.LuciFit as lfit\n",
    "from astropy.io import fits\n",
    "import numpy as np\n",
    "import keras"
   ]
  },
  {
   "cell_type": "code",
   "execution_count": 6,
   "id": "af4ff375-fc4d-4291-bc0e-2efb906f927d",
   "metadata": {},
   "outputs": [],
   "source": [
    "#Set Parameters\n",
    "# Using Machine Learning Algorithm for Initial Guess\n",
    "cube_dir = '/media/carterrhea/carterrhea/M87/Sitelle'  # Path to data cube\n",
    "cube_name = 'M87_SN3.merged.cm1.1.0'  # don't add .hdf5 extension\n",
    "object_name = 'M87'\n",
    "redshift = 0.00428  # Redshift of NGC 1275\n",
    "ML_ref = '/media/carterrhea/carterrhea/SIGNALS/LUCI/ML/Reference-Spectrum-R1000'\n",
    "ML_model = '/media/carterrhea/carterrhea/SIGNALS/LUCI/ML/R1000-PREDICTOR-I'"
   ]
  },
  {
   "cell_type": "code",
   "execution_count": 3,
   "id": "8e348bbb-3d9e-4d70-8797-649c9ae2df7e",
   "metadata": {},
   "outputs": [
    {
     "name": "stderr",
     "output_type": "stream",
     "text": [
      "  0%|          | 0/9 [00:00<?, ?it/s]"
     ]
    },
    {
     "name": "stdout",
     "output_type": "stream",
     "text": [
      "Reading in data...\n"
     ]
    },
    {
     "name": "stderr",
     "output_type": "stream",
     "text": [
      "100%|██████████| 9/9 [00:26<00:00,  2.96s/it]\n"
     ]
    }
   ],
   "source": [
    "# Create Luci object\n",
    "cube = Luci(cube_dir+'/'+cube_name, cube_dir, object_name, redshift, ML_ref, ML_model)"
   ]
  },
  {
   "cell_type": "code",
   "execution_count": 42,
   "id": "3ca9dfc9-39bc-47a6-ad05-53b25bc1c62d",
   "metadata": {},
   "outputs": [
    {
     "name": "stderr",
     "output_type": "stream",
     "text": [
      "100%|██████████| 2048/2048 [00:04<00:00, 425.08it/s]\n"
     ]
    }
   ],
   "source": [
    "axis, sky = cube.extract_spectrum_region(cube_dir+'/mini.reg')  # We use mean=True to take the mean of the emission in the region instead of the sum"
   ]
  },
  {
   "cell_type": "code",
   "execution_count": 43,
   "id": "7879b042-2eeb-448d-88fb-6a799760815c",
   "metadata": {},
   "outputs": [
    {
     "data": {
      "text/plain": [
       "[<matplotlib.lines.Line2D at 0x7fd15c917af0>]"
      ]
     },
     "execution_count": 43,
     "metadata": {},
     "output_type": "execute_result"
    },
    {
     "data": {
      "image/png": "[encoded data removed]",
      "text/plain": [
       "<Figure size 432x288 with 1 Axes>"
      ]
     },
     "metadata": {
      "needs_background": "light"
     },
     "output_type": "display_data"
    }
   ],
   "source": [
    "plt.plot(axis, sky)"
   ]
  },
  {
   "cell_type": "code",
   "execution_count": 44,
   "id": "37bdc6b5-b7d2-416d-be5c-0e918858c766",
   "metadata": {},
   "outputs": [],
   "source": [
    "# Machine Learning Reference Spectrum\n",
    "ref_spec = fits.open(ML_ref+'.fits')[1].data\n",
    "channel = []\n",
    "counts = []\n",
    "for chan in ref_spec:  # Only want SN3 region\n",
    "    channel.append(chan[0])\n",
    "    counts.append(np.real(chan[1]))\n",
    "min_ = np.argmin(np.abs(np.array(channel)-14700))\n",
    "max_ = np.argmin(np.abs(np.array(channel)-15600))\n",
    "wavenumbers_syn = channel[min_:max_]"
   ]
  },
  {
   "cell_type": "code",
   "execution_count": 47,
   "id": "5b4c3db7-7e31-4fa8-b22f-2157d535e162",
   "metadata": {},
   "outputs": [
    {
     "data": {
      "text/plain": [
       "{'fit_sol': array([0.00000000e+00, 0.00000000e+00, 0.00000000e+00, 0.00000000e+00,\n",
       "        0.00000000e+00, 0.00000000e+00, 0.00000000e+00, 0.00000000e+00,\n",
       "        0.00000000e+00, 0.00000000e+00, 0.00000000e+00, 0.00000000e+00,\n",
       "        0.00000000e+00, 0.00000000e+00, 0.00000000e+00, 0.00000000e+00,\n",
       "        0.00000000e+00, 0.00000000e+00, 0.00000000e+00, 0.00000000e+00,\n",
       "        0.00000000e+00, 0.00000000e+00, 0.00000000e+00, 0.00000000e+00,\n",
       "        0.00000000e+00, 0.00000000e+00, 0.00000000e+00, 0.00000000e+00,\n",
       "        0.00000000e+00, 0.00000000e+00, 0.00000000e+00, 0.00000000e+00,\n",
       "        0.00000000e+00, 0.00000000e+00, 0.00000000e+00, 0.00000000e+00,\n",
       "        0.00000000e+00, 0.00000000e+00, 0.00000000e+00, 0.00000000e+00,\n",
       "        0.00000000e+00, 0.00000000e+00, 0.00000000e+00, 0.00000000e+00,\n",
       "        0.00000000e+00, 0.00000000e+00, 0.00000000e+00, 0.00000000e+00,\n",
       "        0.00000000e+00, 0.00000000e+00, 0.00000000e+00, 0.00000000e+00,\n",
       "        0.00000000e+00, 0.00000000e+00, 0.00000000e+00, 0.00000000e+00,\n",
       "        0.00000000e+00, 0.00000000e+00, 0.00000000e+00, 0.00000000e+00,\n",
       "        0.00000000e+00, 0.00000000e+00, 0.00000000e+00, 0.00000000e+00,\n",
       "        0.00000000e+00, 0.00000000e+00, 0.00000000e+00, 0.00000000e+00,\n",
       "        0.00000000e+00, 0.00000000e+00, 0.00000000e+00, 0.00000000e+00,\n",
       "        0.00000000e+00, 0.00000000e+00, 0.00000000e+00, 0.00000000e+00,\n",
       "        0.00000000e+00, 0.00000000e+00, 0.00000000e+00, 0.00000000e+00,\n",
       "        0.00000000e+00, 0.00000000e+00, 0.00000000e+00, 0.00000000e+00,\n",
       "        0.00000000e+00, 0.00000000e+00, 0.00000000e+00, 0.00000000e+00,\n",
       "        0.00000000e+00, 0.00000000e+00, 0.00000000e+00, 0.00000000e+00,\n",
       "        0.00000000e+00, 0.00000000e+00, 0.00000000e+00, 0.00000000e+00,\n",
       "        4.23812547e-38, 1.60856633e-29, 3.80260523e-23, 5.61408878e-19,\n",
       "        5.16821785e-17, 2.96749688e-17, 1.06263253e-19, 2.37268337e-24,\n",
       "        3.30900061e-31, 2.87397907e-40, 0.00000000e+00, 0.00000000e+00,\n",
       "        0.00000000e+00, 0.00000000e+00, 0.00000000e+00, 0.00000000e+00,\n",
       "        0.00000000e+00, 0.00000000e+00, 0.00000000e+00, 0.00000000e+00,\n",
       "        0.00000000e+00, 0.00000000e+00, 0.00000000e+00, 0.00000000e+00,\n",
       "        0.00000000e+00, 0.00000000e+00, 0.00000000e+00, 0.00000000e+00,\n",
       "        0.00000000e+00, 0.00000000e+00, 0.00000000e+00, 0.00000000e+00,\n",
       "        0.00000000e+00, 0.00000000e+00, 0.00000000e+00, 0.00000000e+00,\n",
       "        0.00000000e+00, 0.00000000e+00, 0.00000000e+00, 0.00000000e+00,\n",
       "        0.00000000e+00, 0.00000000e+00, 0.00000000e+00, 0.00000000e+00,\n",
       "        0.00000000e+00, 0.00000000e+00, 0.00000000e+00, 0.00000000e+00,\n",
       "        0.00000000e+00, 0.00000000e+00, 0.00000000e+00, 0.00000000e+00,\n",
       "        0.00000000e+00, 0.00000000e+00, 0.00000000e+00, 0.00000000e+00,\n",
       "        0.00000000e+00, 0.00000000e+00, 0.00000000e+00, 0.00000000e+00,\n",
       "        0.00000000e+00, 0.00000000e+00, 0.00000000e+00, 0.00000000e+00,\n",
       "        0.00000000e+00, 0.00000000e+00, 0.00000000e+00, 0.00000000e+00,\n",
       "        0.00000000e+00, 0.00000000e+00, 0.00000000e+00, 0.00000000e+00,\n",
       "        0.00000000e+00], dtype=float32),\n",
       " 'velocity': 385.3669475428465,\n",
       " 'broadening': 92.1773681640625,\n",
       " 'amplitudes': [7.614178495270326e-17],\n",
       " 'fluxes': [8.924186407581863e-16],\n",
       " 'chi2': 5.530898446781615e-15}"
      ]
     },
     "execution_count": 47,
     "metadata": {},
     "output_type": "execute_result"
    }
   ],
   "source": [
    "fit = lfit.Fit(sky, axis, wavenumbers_syn, 'gaussian', ['Halpha'],\n",
    "                keras.models.load_model(ML_model),\n",
    "                 Plot_bool = False, bayes_bool=False)\n",
    "fit_dict = fit.fit()\n",
    "fit_dict"
   ]
  },
  {
   "cell_type": "code",
   "execution_count": 46,
   "id": "f9ce7f4b-d276-4c89-82c7-5712ca21cbd5",
   "metadata": {},
   "outputs": [
    {
     "data": {
      "text/plain": [
       "[<matplotlib.lines.Line2D at 0x7fd15c6d8520>]"
      ]
     },
     "execution_count": 46,
     "metadata": {},
     "output_type": "execute_result"
    },
    {
     "data": {
      "image/png": "[encoded data removed]",
      "text/plain": [
       "<Figure size 432x288 with 1 Axes>"
      ]
     },
     "metadata": {
      "needs_background": "light"
     },
     "output_type": "display_data"
    }
   ],
   "source": [
    "plt.plot(axis, sky)\n",
    "plt.plot(axis, fit_dict['fit_sol'])"
   ]
  },
  {
   "cell_type": "code",
   "execution_count": null,
   "id": "98f6989f-cb0d-49f1-b614-c081ffbd102c",
   "metadata": {},
   "outputs": [],
   "source": []
  }
 ],
 "metadata": {
  "kernelspec": {
   "display_name": "Python 3",
   "language": "python",
   "name": "python3"
  },
  "language_info": {
   "codemirror_mode": {
    "name": "ipython",
    "version": 3
   },
   "file_extension": ".py",
   "mimetype": "text/x-python",
   "name": "python",
   "nbconvert_exporter": "python",
   "pygments_lexer": "ipython3",
   "version": "3.9.5"
  }
 },
 "nbformat": 4,
 "nbformat_minor": 5
}
