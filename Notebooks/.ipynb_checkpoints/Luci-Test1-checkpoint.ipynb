{
 "cells": [
  {
   "cell_type": "markdown",
   "metadata": {},
   "source": [
    "# LUCI Test 1\n",
    "Basic testing of LUCI fitting capabilities. We will extract a single spectrum from M33 and fit it using the LUCI fitting module.\n"
   ]
  },
  {
   "cell_type": "code",
   "execution_count": 1,
   "metadata": {},
   "outputs": [],
   "source": [
    "from LuciFit import Fit\n",
    "from orcs.process import SpectralCube\n",
    "import matplotlib.pyplot as plt\n",
    "import numpy as np\n",
    "from astropy.io import fits"
   ]
  },
  {
   "cell_type": "code",
   "execution_count": 2,
   "metadata": {},
   "outputs": [
    {
     "name": "stderr",
     "output_type": "stream",
     "text": [
      "WARNING:root:old cube architecture (level 1). IO performances could be reduced.\n",
      "INFO:root:Cube is level 1\n",
      "INFO:root:shape: (2048, 2064, 842)\n",
      "INFO:root:wavenumber calibration: True\n",
      "INFO:root:flux calibration: True\n",
      "INFO:root:wcs calibration: True\n"
     ]
    }
   ],
   "source": [
    "cube_dir = '/media/carterrhea/carterrhea/M33'  # Path to data cube\n",
    "cube_name = 'M33_Field7_SN3.merged.cm1.1.0'  # don't add .hdf5 extension\n",
    "\n",
    "cube = SpectralCube(cube_dir+'/'+cube_name+'.hdf5')"
   ]
  },
  {
   "cell_type": "code",
   "execution_count": 3,
   "metadata": {},
   "outputs": [
    {
     "name": "stdout",
     "output_type": "stream",
     "text": [
      " [==========] [100%] [completed in 0.016 s]                                   \n"
     ]
    },
    {
     "name": "stderr",
     "output_type": "stream",
     "text": [
      "/home/carterrhea/anaconda3/envs/orb3/lib/python3.7/site-packages/numpy/lib/nanfunctions.py:1114: RuntimeWarning: All-NaN slice encountered\n",
      "  overwrite_input=overwrite_input)\n"
     ]
    },
    {
     "name": "stdout",
     "output_type": "stream",
     "text": [
      "838 838\n"
     ]
    },
    {
     "name": "stderr",
     "output_type": "stream",
     "text": [
      "/home/carterrhea/anaconda3/envs/orb3/lib/python3.7/site-packages/ipykernel_launcher.py:7: FutureWarning: Using a non-tuple sequence for multidimensional indexing is deprecated; use `arr[tuple(seq)]` instead of `arr[seq]`. In the future this will be interpreted as an array index, `arr[np.array(seq)]`, which will result either in an error or a different result.\n",
      "  import sys\n",
      "/home/carterrhea/anaconda3/envs/orb3/lib/python3.7/site-packages/ipykernel_launcher.py:8: FutureWarning: Using a non-tuple sequence for multidimensional indexing is deprecated; use `arr[tuple(seq)]` instead of `arr[seq]`. In the future this will be interpreted as an array index, `arr[np.array(seq)]`, which will result either in an error or a different result.\n",
      "  \n"
     ]
    }
   ],
   "source": [
    "# We first need to extract a random spectrum to get the x-axis (Wavenumbers) for the observation\n",
    "#axis, sky = cube.extract_spectrum(1265, 1790, 2, median=True, mean_flux=True)\n",
    "axis, sky = cube.extract_spectrum(1000, 1070, 5, median=True, mean_flux=True)\n",
    "#axis, sky = cube.extract_spectrum(680, 263, 10, median=True, mean_flux=True)\n",
    "sky = np.real(sky)\n",
    "good_sky_inds = [~np.isnan(sky)]\n",
    "sky = sky[good_sky_inds]\n",
    "axis = axis[good_sky_inds]\n",
    "print(len(sky), len(axis))"
   ]
  },
  {
   "cell_type": "code",
   "execution_count": 4,
   "metadata": {},
   "outputs": [],
   "source": [
    "# Machine Learning Reference Spectrum\n",
    "ref_spec = fits.open('Reference-Spectrum-R5000.fits')[1].data\n",
    "channel = []\n",
    "counts = []\n",
    "for chan in ref_spec:  # Only want SN3 region\n",
    "    channel.append(chan[0])\n",
    "    counts.append(np.real(chan[1]))\n",
    "min_ = np.argmin(np.abs(np.array(channel)-14700))\n",
    "max_ = np.argmin(np.abs(np.array(channel)-15600))\n",
    "wavenumbers_syn = channel[min_:max_]"
   ]
  },
  {
   "cell_type": "code",
   "execution_count": 5,
   "metadata": {},
   "outputs": [
    {
     "name": "stderr",
     "output_type": "stream",
     "text": [
      "/media/carterrhea/carterrhea/SIGNALS/Fitter/LuciFit.py:15: RuntimeWarning: divide by zero encountered in true_divide\n",
      "  self.func = A*np.exp((-(channel-x)**2)/(2*sigma**2))\n"
     ]
    },
    {
     "name": "stdout",
     "output_type": "stream",
     "text": [
      "Iteration limit reached    (Exit mode 9)\n",
      "            Current function value: -2333.4892018594322\n",
      "            Iterations: 100\n",
      "            Function evaluations: 1674\n",
      "            Gradient evaluations: 96\n"
     ]
    }
   ],
   "source": [
    "# Initial Luci Fitting\n",
    "fit = Fit(sky, axis, wavenumbers_syn, 'gaussian', ['Halpha', 'NII6548', 'NII6583', 'SII6716', 'SII6731'],\n",
    "                'R5000-PREDICTOR-I', Plot_bool = False)\n",
    "fit_dict = fit.fit()"
   ]
  },
  {
   "cell_type": "code",
   "execution_count": 6,
   "metadata": {},
   "outputs": [
    {
     "data": {
      "text/plain": [
       "[<matplotlib.lines.Line2D at 0x7f951459e110>]"
      ]
     },
     "execution_count": 6,
     "metadata": {},
     "output_type": "execute_result"
    },
    {
     "data": {
      "image/png": "[encoded data removed]",
      "text/plain": [
       "<Figure size 432x288 with 1 Axes>"
      ]
     },
     "metadata": {
      "needs_background": "light"
     },
     "output_type": "display_data"
    }
   ],
   "source": [
    "plt.plot(axis, sky/np.max(sky))\n",
    "plt.plot(axis, fit_dict['fit_sol'])"
   ]
  },
  {
   "cell_type": "code",
   "execution_count": null,
   "metadata": {},
   "outputs": [],
   "source": []
  }
 ],
 "metadata": {
  "kernelspec": {
   "display_name": "Python 3",
   "language": "python",
   "name": "python3"
  },
  "language_info": {
   "codemirror_mode": {
    "name": "ipython",
    "version": 3
   },
   "file_extension": ".py",
   "mimetype": "text/x-python",
   "name": "python",
   "nbconvert_exporter": "python",
   "pygments_lexer": "ipython3",
   "version": "3.7.10"
  }
 },
 "nbformat": 4,
 "nbformat_minor": 4
}
