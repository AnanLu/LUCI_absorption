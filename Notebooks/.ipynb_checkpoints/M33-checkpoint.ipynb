{
 "cells": [
  {
   "cell_type": "markdown",
   "metadata": {},
   "source": [
    "# M33 Luci Application\n",
    "In this notebook we will apply our Luci fitting software to a part of M33."
   ]
  },
  {
   "cell_type": "code",
   "execution_count": 2,
   "metadata": {},
   "outputs": [],
   "source": [
    "%matplotlib inline\n",
    "from orcs.process import SpectralCube\n",
    "import orb\n",
    "import numpy as np\n",
    "from astropy.io import fits\n",
    "from LuciFit import Fit\n",
    "from numba import njit, prange, jit\n",
    "import progressbar\n",
    "from joblib import Parallel, delayed\n",
    "import time"
   ]
  },
  {
   "cell_type": "code",
   "execution_count": 3,
   "metadata": {},
   "outputs": [
    {
     "name": "stderr",
     "output_type": "stream",
     "text": [
      "WARNING:root:old cube architecture (level 1). IO performances could be reduced.\n",
      "INFO:root:Cube is level 1\n",
      "INFO:root:shape: (2048, 2064, 842)\n",
      "INFO:root:wavenumber calibration: True\n",
      "INFO:root:flux calibration: True\n",
      "INFO:root:wcs calibration: True\n"
     ]
    }
   ],
   "source": [
    "cube_dir = '/media/carterrhea/carterrhea/M33'  # Path to data cube\n",
    "cube_name = 'M33_Field7_SN3.merged.cm1.1.0'  # don't add .hdf5 extension\n",
    "\n",
    "cube = SpectralCube(cube_dir+'/'+cube_name+'.hdf5')\n",
    "deep_file = '/media/carterrhea/carterrhea/M33/M33_deep'  # Path to deep image fits file: required for header\n"
   ]
  },
  {
   "cell_type": "code",
   "execution_count": 3,
   "metadata": {},
   "outputs": [
    {
     "name": "stdout",
     "output_type": "stream",
     "text": [
      " [==========] [100%] [completed in 0.017 s]                                   \n"
     ]
    }
   ],
   "source": [
    "spectrum_axis, sky_spectrum = cube.extract_spectrum(1100, 1100, 3)"
   ]
  },
  {
   "cell_type": "code",
   "execution_count": 4,
   "metadata": {},
   "outputs": [],
   "source": [
    "# Machine Learning Reference Spectrum\n",
    "ref_spec = fits.open('Reference-Spectrum-R5000.fits')[1].data\n",
    "channel = []\n",
    "counts = []\n",
    "for chan in ref_spec:  # Only want SN3 region\n",
    "    channel.append(chan[0])\n",
    "    counts.append(np.real(chan[1]))\n",
    "min_ = np.argmin(np.abs(np.array(channel)-14700))\n",
    "max_ = np.argmin(np.abs(np.array(channel)-15600))\n",
    "wavenumbers_syn = channel[min_:max_]"
   ]
  },
  {
   "cell_type": "code",
   "execution_count": null,
   "metadata": {},
   "outputs": [
    {
     "name": "stdout",
     "output_type": "stream",
     "text": [
      " [==========] [100%] [completed in 0.063 s]                                   \n"
     ]
    }
   ],
   "source": [
    "# Define spatial regions of interest\n",
    "x_min = 1250\n",
    "x_max = 1350#cube.shape[0]\n",
    "y_min = 1750\n",
    "y_max = 1850#cube.shape[1]\n",
    "# Read in data\n",
    "dat = cube.get_data(x_min,x_max,y_min,y_max,0,cube.shape[2])\n",
    "dat = dat.astype('float32')\n",
    "# Step through spectra\n",
    "VEL = np.zeros((x_max-x_min, y_max-y_min), dtype=np.float32)\n",
    "start = time.time()\n",
    "def SNR_calc(SNR, i):\n",
    "    vel_local = []\n",
    "    for j in range(y_max-y_min):\n",
    "        # Calculate velocity\n",
    "        fit = Fit(dat[i,j], spectrum_axis, wavenumbers_syn, 'gaussian', ['Halpha'],\n",
    "                'R5000-PREDICTOR-I', Plot_bool = False)\n",
    "        fit_dict = fit.fit()\n",
    "        vel_local.append(fit_dict['velocity'])\n",
    "    VEL[i] = vel_local\n",
    "n_threads = 8\n",
    "Parallel(n_jobs=n_threads, backend=\"threading\", batch_size=int((x_max-x_min)/n_threads))(delayed(SNR_calc)(VEL,i) for i in range(x_max-x_min));\n",
    "end = time.time()\n",
    "print(end-start)\n",
    "# Save\n",
    "reg_fits = fits.open(deep_file+'.fits')\n",
    "header = reg_fits[0].header\n",
    "fits.writeto('VEL.fits', VEL.T, header, overwrite=True)"
   ]
  },
  {
   "cell_type": "code",
   "execution_count": null,
   "metadata": {},
   "outputs": [],
   "source": []
  },
  {
   "cell_type": "code",
   "execution_count": 4,
   "metadata": {},
   "outputs": [],
   "source": [
    "reg_fits = fits.open(deep_file+'.fits')\n",
    "header = reg_fits[0].header"
   ]
  },
  {
   "cell_type": "code",
   "execution_count": 10,
   "metadata": {},
   "outputs": [
    {
     "data": {
      "text/plain": [
       "SIMPLE  =                    T / conforms to FITS standard                      \n",
       "BITPIX  =                  -32 / array data type                                \n",
       "NAXIS   =                    2 / number of array dimensions                     \n",
       "NAXIS1  =                 2048                                                  \n",
       "NAXIS2  =                 2064                                                  \n",
       "EXTEND  =                    T                                                  \n",
       "PROGRAM = 'ORB v3.4'           / Thomas Martin: thomas.martin.1@ulaval.ca       \n",
       "DATE    = '2020-04-15'         / Creation date                                  \n",
       "MASK    = 'False   '                                                            \n",
       "WCSAXES =                    2 / Number of coordinate axes                      \n",
       "CRPIX1  =        1077.08705104 / Pixel coordinate of reference point            \n",
       "CRPIX2  =        1033.22775456 / Pixel coordinate of reference point            \n",
       "PC1_1   =   -8.98859430691E-05 / Coordinate transformation matrix element       \n",
       "PC1_2   =    -8.1451808379E-07 / Coordinate transformation matrix element       \n",
       "PC2_1   =    -8.1451808379E-07 / Coordinate transformation matrix element       \n",
       "PC2_2   =    8.98859430691E-05 / Coordinate transformation matrix element       \n",
       "CDELT1  =                  1.0 / [deg] Coordinate increment at reference point  \n",
       "CDELT2  =                  1.0 / [deg] Coordinate increment at reference point  \n",
       "CUNIT1  = 'deg'                / Units of coordinate increment and value        \n",
       "CUNIT2  = 'deg'                / Units of coordinate increment and value        \n",
       "CTYPE1  = 'RA---TAN-SIP'       / TAN (gnomonic) projection + SIP distortions    \n",
       "CTYPE2  = 'DEC--TAN-SIP'       / TAN (gnomonic) projection + SIP distortions    \n",
       "CRVAL1  =        23.2112083333 / [deg] Coordinate value at reference point      \n",
       "CRVAL2  =        30.5805555556 / [deg] Coordinate value at reference point      \n",
       "LONPOLE =                180.0 / [deg] Native longitude of celestial pole       \n",
       "LATPOLE =        30.5805555556 / [deg] Native latitude of celestial pole        \n",
       "RADESYS = 'FK5'                / Equatorial coordinate system                   \n",
       "EQUINOX =               2000.0 / [yr] Equinox of equatorial coordinates         \n",
       "MJD-OBS =              58395.0 / [d] MJD of observation matching DATE-OBS       \n",
       "DATE-OBS= '2018-10-04'         / ISO-8601 observation date matching MJD-OBS     \n",
       "BP_0_0  = 0.001737317410861687                                                  \n",
       "BP_0_1  =  -0.0064560166829433                                                  \n",
       "BP_0_2  = -1.6645117240463E-06                                                  \n",
       "A_3_0   = -1.1848728796692E-08                                                  \n",
       "B_3_0   = 1.32537811843342E-09                                                  \n",
       "BP_3_0  = -1.3253781184334E-09                                                  \n",
       "B_1_2   = 4.99727061809172E-10                                                  \n",
       "B_1_0   = -0.00183952771090817                                                  \n",
       "B_1_1   = -1.2484410572722E-06                                                  \n",
       "B_2_1   = -1.3716425275804E-08                                                  \n",
       "B_2_0   =  -5.285777104639E-08                                                  \n",
       "A_ORDER =                    3                                                  \n",
       "B_0_3   = -1.3785452838125E-08                                                  \n",
       "B_0_2   = 1.66451172404633E-06                                                  \n",
       "B_0_1   = 0.006456016682943301                                                  \n",
       "B_0_0   = -0.00173731741086168                                                  \n",
       "BP_0_3  = 1.37854528381256E-08                                                  \n",
       "B_ORDER =                    3                                                  \n",
       "BP_ORDER=                    3                                                  \n",
       "BP_1_2  = -4.9972706180917E-10                                                  \n",
       "AP_ORDER=                    3                                                  \n",
       "AP_3_0  =  1.1848728796692E-08                                                  \n",
       "A_1_1   =  4.1899772352858E-07                                                  \n",
       "A_1_0   = 0.005360638494429113                                                  \n",
       "BP_2_0  = 5.28577710463909E-08                                                  \n",
       "A_1_2   = -1.4026386987763E-08                                                  \n",
       "AP_2_1  = -2.2837768774784E-10                                                  \n",
       "AP_2_0  = -7.5805879397126E-07                                                  \n",
       "A_0_0   =  0.01312211513261434                                                  \n",
       "A_0_1   = 0.000101991916459854                                                  \n",
       "A_0_2   = 1.29200802552734E-06                                                  \n",
       "A_0_3   = 8.98072630503044E-10                                                  \n",
       "BP_1_1  = 1.24844105727221E-06                                                  \n",
       "BP_1_0  = 0.001839527710908173                                                  \n",
       "A_2_0   = 7.58058793971263E-07                                                  \n",
       "A_2_1   = 2.28377687747844E-10                                                  \n",
       "AP_1_0  = -0.00536063849442911                                                  \n",
       "AP_1_1  = -4.1899772352858E-07                                                  \n",
       "AP_1_2  = 1.40263869877639E-08                                                  \n",
       "BP_2_1  = 1.37164252758047E-08                                                  \n",
       "AP_0_1  = -0.00010199191645985                                                  \n",
       "AP_0_0  = -0.01312211513261434                                                  \n",
       "AP_0_3  = -8.9807263050304E-10                                                  \n",
       "AP_0_2  = -1.2920080255273E-06                                                  "
      ]
     },
     "execution_count": 10,
     "metadata": {},
     "output_type": "execute_result"
    }
   ],
   "source": [
    "header"
   ]
  },
  {
   "cell_type": "code",
   "execution_count": null,
   "metadata": {},
   "outputs": [],
   "source": []
  }
 ],
 "metadata": {
  "kernelspec": {
   "display_name": "Python 3",
   "language": "python",
   "name": "python3"
  },
  "language_info": {
   "codemirror_mode": {
    "name": "ipython",
    "version": 3
   },
   "file_extension": ".py",
   "mimetype": "text/x-python",
   "name": "python",
   "nbconvert_exporter": "python",
   "pygments_lexer": "ipython3",
   "version": "3.7.10"
  }
 },
 "nbformat": 4,
 "nbformat_minor": 4
}
