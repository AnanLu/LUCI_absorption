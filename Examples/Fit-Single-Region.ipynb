{
 "cells": [
  {
   "cell_type": "markdown",
   "id": "0794c1e1-3f46-4ca5-9fa0-dec662d455a2",
   "metadata": {},
   "source": [
    "# Fit Single Region\n",
    "In this example, we are going to fit a single region of the science verification Abell 426 data cube (found at: [https://www.cfht.hawaii.edu/Instruments/Sitelle/SITELLE_sv.php](https://www.cfht.hawaii.edu/Instruments/Sitelle/SITELLE_sv.php)).\n",
    "\n",
    "We will read in the data as usual using a `LUCI` cube object. We then will extract a background region and plot it. We will then extract a spectrum from a square\n",
    "region around 1357<x<1367 and 608<y<618. These values were chosen to correspond with the brighest region of the horseshoe. Finally, we use the `LuciFit` Fit object to fit the region. \n",
    "\n",
    "The regions can be found in *Examples/regions*."
   ]
  },
  {
   "cell_type": "code",
   "execution_count": 1,
   "id": "0c58b7b7-d52a-4c87-8481-456595903aec",
   "metadata": {},
   "outputs": [
    {
     "name": "stderr",
     "output_type": "stream",
     "text": [
      "2022-09-07 09:42:53.714867: W tensorflow/stream_executor/platform/default/dso_loader.cc:64] Could not load dynamic library 'libcudart.so.11.0'; dlerror: libcudart.so.11.0: cannot open shared object file: No such file or directory\n",
      "2022-09-07 09:42:53.714888: I tensorflow/stream_executor/cuda/cudart_stub.cc:29] Ignore above cudart dlerror if you do not have a GPU set up on your machine.\n"
     ]
    }
   ],
   "source": [
    "# Imports\n",
    "import sys\n",
    "sys.path.insert(0, '/home/carterrhea/Documents/LUCI/')  # Location of Luci\n",
    "from LuciBase import Luci\n",
    "import LUCI.LuciPlotting as lplt\n",
    "import matplotlib.pyplot as plt\n",
    "import LUCI.LuciFit as lfit\n",
    "from astropy.io import fits\n",
    "import numpy as np\n",
    "import keras"
   ]
  },
  {
   "cell_type": "code",
   "execution_count": 2,
   "id": "af4ff375-fc4d-4291-bc0e-2efb906f927d",
   "metadata": {},
   "outputs": [],
   "source": [
    "#Set Parameters\n",
    "# Using Machine Learning Algorithm for Initial Guess\n",
    "Luci_path = '/home/carterrhea/Documents/LUCI/'\n",
    "cube_dir = '/home/carterrhea/Documents/LUCI_test'  # Path to data cube\n",
    "cube_name = 'NGC6946_SN3'  # don't add .hdf5 extension\n",
    "object_name = 'NGC6946'\n",
    "redshift = 0.000133\n",
    "resolution = 1000 # The actual resolution is 400, but we don't have machine learning algorithms for that resolution, so we use 1000"
   ]
  },
  {
   "cell_type": "markdown",
   "id": "f9922ba4-7f15-416b-84ce-db4e77127fcc",
   "metadata": {},
   "source": [
    "### Create Luci object, extract background, and extract region to fit."
   ]
  },
  {
   "cell_type": "code",
   "execution_count": 3,
   "id": "8e348bbb-3d9e-4d70-8797-649c9ae2df7e",
   "metadata": {},
   "outputs": [
    {
     "name": "stdout",
     "output_type": "stream",
     "text": [
      "Reading in data...\n"
     ]
    },
    {
     "name": "stderr",
     "output_type": "stream",
     "text": [
      "100%|█████████████████████████████████████████████| 9/9 [00:01<00:00,  4.86it/s]\n"
     ]
    },
    {
     "name": "stdout",
     "output_type": "stream",
     "text": [
      "WARNING:tensorflow:SavedModel saved prior to TF 2.5 detected when loading Keras model. Please ensure that you are saving the model with model.save() or tf.keras.models.save_model(), *NOT* tf.saved_model.save(). To confirm, there should be a file named \"keras_metadata.pb\" in the SavedModel directory.\n"
     ]
    },
    {
     "name": "stderr",
     "output_type": "stream",
     "text": [
      "2022-09-07 09:42:59.317500: W tensorflow/stream_executor/platform/default/dso_loader.cc:64] Could not load dynamic library 'libcuda.so.1'; dlerror: libcuda.so.1: cannot open shared object file: No such file or directory\n",
      "2022-09-07 09:42:59.317530: W tensorflow/stream_executor/cuda/cuda_driver.cc:269] failed call to cuInit: UNKNOWN ERROR (303)\n",
      "2022-09-07 09:42:59.317550: I tensorflow/stream_executor/cuda/cuda_diagnostics.cc:156] kernel driver does not appear to be running on this host (pop-os): /proc/driver/nvidia/version does not exist\n",
      "2022-09-07 09:42:59.317766: I tensorflow/core/platform/cpu_feature_guard.cc:151] This TensorFlow binary is optimized with oneAPI Deep Neural Network Library (oneDNN) to use the following CPU instructions in performance-critical operations:  AVX2 FMA\n",
      "To enable them in other operations, rebuild TensorFlow with the appropriate compiler flags.\n"
     ]
    }
   ],
   "source": [
    "# Create Luci object\n",
    "cube = Luci(Luci_path, cube_dir+'/'+cube_name, cube_dir, object_name, redshift, resolution)"
   ]
  },
  {
   "cell_type": "code",
   "execution_count": 4,
   "id": "6710ecf1-aee6-41ad-8536-80fdcd457167",
   "metadata": {},
   "outputs": [
    {
     "name": "stdout",
     "output_type": "stream",
     "text": [
      "Existing deep frame extracted from hdf5 file.\n"
     ]
    }
   ],
   "source": [
    "cube.create_deep_image()"
   ]
  },
  {
   "cell_type": "code",
   "execution_count": 5,
   "id": "c37c1320-7613-4ff2-bf9b-aa811c726166",
   "metadata": {},
   "outputs": [
    {
     "name": "stderr",
     "output_type": "stream",
     "text": [
      "100%|█████████████████████████████████████| 2064/2064 [00:00<00:00, 2713.46it/s]\n"
     ]
    },
    {
     "data": {
      "text/plain": [
       "[<matplotlib.lines.Line2D at 0x7fde8c3c54c0>]"
      ]
     },
     "execution_count": 5,
     "metadata": {},
     "output_type": "execute_result"
    },
    {
     "data": {
      "image/png": "[encoded data removed]",
      "text/plain": [
       "<Figure size 432x288 with 1 Axes>"
      ]
     },
     "metadata": {
      "needs_background": "light"
     },
     "output_type": "display_data"
    }
   ],
   "source": [
    "# Extract and visualize background\n",
    "bkg_axis, bkg_sky = cube.extract_spectrum_region(cube_dir+'/bkg.reg', mean=True)  # We use mean=True to take the mean of the emission in the region instead of the sum\n",
    "plt.plot(bkg_axis, bkg_sky)"
   ]
  },
  {
   "cell_type": "markdown",
   "id": "256b94aa-5413-4139-b7bc-06127c1b55da",
   "metadata": {},
   "source": [
    "### Fit and visualize"
   ]
  },
  {
   "cell_type": "markdown",
   "id": "cc580569-bd93-4c68-bf97-1df01eecf030",
   "metadata": {},
   "source": [
    "We are now going to fit a region (reg1) that we defined in ds9 separately. We are going to fit the two lines present in SN1 ([OII]3726 and [OII]3729) simultaneously using a sincgauss function. "
   ]
  },
  {
   "cell_type": "code",
   "execution_count": null,
   "id": "5b4c3db7-7e31-4fa8-b22f-2157d535e162",
   "metadata": {},
   "outputs": [
    {
     "name": "stderr",
     "output_type": "stream",
     "text": [
      "  0%|                                                  | 0/2064 [00:00<?, ?it/s]"
     ]
    }
   ],
   "source": [
    "velocity_map, broadening_map, flux_map, chi2_map, mask = cube.fit_region(['Halpha', 'NII6548', 'NII6583', 'SII6716', 'SII6731'], 'sincgauss', \n",
    "                                                                         [1,1,1,1,1], [1,1,1,1,1],\n",
    "                                                                         region=cube_dir+'/reg1.reg',\n",
    "                                                                         bkg=bkg_sky, n_threads=1)"
   ]
  },
  {
   "cell_type": "code",
   "execution_count": null,
   "id": "f9ce7f4b-d276-4c89-82c7-5712ca21cbd5",
   "metadata": {},
   "outputs": [],
   "source": [
    "lplt.plot_map(np.log10(flux_map[:,:,1]), 'flux', cube_dir, cube.header, clims=[-16, -14])"
   ]
  },
  {
   "cell_type": "code",
   "execution_count": null,
   "id": "2058e911-4816-4e41-a014-f9a2d3c1c0f1",
   "metadata": {},
   "outputs": [],
   "source": []
  }
 ],
 "metadata": {
  "kernelspec": {
   "display_name": "Python 3 (ipykernel)",
   "language": "python",
   "name": "python3"
  },
  "language_info": {
   "codemirror_mode": {
    "name": "ipython",
    "version": 3
   },
   "file_extension": ".py",
   "mimetype": "text/x-python",
   "name": "python",
   "nbconvert_exporter": "python",
   "pygments_lexer": "ipython3",
   "version": "3.9.5"
  }
 },
 "nbformat": 4,
 "nbformat_minor": 5
}
