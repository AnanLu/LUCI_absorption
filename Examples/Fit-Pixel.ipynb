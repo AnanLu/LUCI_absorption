{
 "cells": [
  {
   "cell_type": "markdown",
   "metadata": {},
   "source": [
    "# Fit Pixel\n",
    "\n",
    "In this notebook we will fit a single pixel in a data cube for NGC628."
   ]
  },
  {
   "cell_type": "markdown",
   "metadata": {},
   "source": [
    "#### * If you have not yet downloaded the sample data cube, uncomment the below cell and run and download the sample data cube.  \n",
    "This will save a 900MB file called `sample_data.hdf5` to the **`ExampleData`** directory in the **`LUCI`** folder. Do not be concerned if it takes a few minutes to download."
   ]
  },
  {
   "cell_type": "code",
   "execution_count": 1,
   "metadata": {},
   "outputs": [],
   "source": [
    "# !wget -O Data/NGC628_SN3.hdf5  https://ws.cadc-ccda.hia-iha.nrc-cnrc.gc.ca/data/pub/CFHT/2307000z.hdf5?RUNID=xc9le6u8llecp7fp"
   ]
  },
  {
   "cell_type": "code",
   "execution_count": 1,
   "metadata": {},
   "outputs": [
    {
     "name": "stderr",
     "output_type": "stream",
     "text": [
      "2022-09-07 09:10:58.546958: W tensorflow/stream_executor/platform/default/dso_loader.cc:64] Could not load dynamic library 'libcudart.so.11.0'; dlerror: libcudart.so.11.0: cannot open shared object file: No such file or directory\n",
      "2022-09-07 09:10:58.546999: I tensorflow/stream_executor/cuda/cudart_stub.cc:29] Ignore above cudart dlerror if you do not have a GPU set up on your machine.\n"
     ]
    }
   ],
   "source": [
    "# Imports\n",
    "import os\n",
    "import sys\n",
    "\n",
    "import numpy as np\n",
    "import matplotlib.pyplot as plt\n",
    "\n",
    "# Get location of LUCI \n",
    "path = os.path.abspath(os.path.pardir)  \n",
    "sys.path.insert(0, path)  # add LUCI to the available paths\n",
    "\n",
    "from LuciBase import Luci\n",
    "\n",
    "%config Completer.use_jedi=False  # enable autocompletion when typing in Jupyter notebooks"
   ]
  },
  {
   "cell_type": "markdown",
   "metadata": {},
   "source": [
    "Set the required parameters. We will be using our machine learning algorithm to get the initial guesses - this happens under the hood in `LuciFit`, so that the user is not required to think about the initial guess"
   ]
  },
  {
   "cell_type": "code",
   "execution_count": 6,
   "metadata": {},
   "outputs": [],
   "source": [
    "# Initialize paths and set parameters\n",
    "Luci_path = path+'/'\n",
    "cube_dir = '/mnt/carterrhea/carterrhea/NGC628'  # Full path to data cube\n",
    "cube_name = 'NGC628_SN3.merged.cm1.1.0'  # don't add .hdf5 extension\n",
    "object_name = 'NGC628'\n",
    "redshift = 0.000133  # Redshift of object\n",
    "resolution = 1000 # The actual resolution is 400, but we don't have ML algorithms for that resolution, so use 1000"
   ]
  },
  {
   "cell_type": "markdown",
   "metadata": {},
   "source": [
    "Intialize our LUCI object"
   ]
  },
  {
   "cell_type": "code",
   "execution_count": 7,
   "metadata": {},
   "outputs": [
    {
     "name": "stdout",
     "output_type": "stream",
     "text": [
      "Reading in data...\n"
     ]
    },
    {
     "name": "stderr",
     "output_type": "stream",
     "text": [
      "100%|█████████████████████████████████████████████| 9/9 [01:00<00:00,  6.77s/it]\n"
     ]
    },
    {
     "name": "stdout",
     "output_type": "stream",
     "text": [
      "WARNING:tensorflow:SavedModel saved prior to TF 2.5 detected when loading Keras model. Please ensure that you are saving the model with model.save() or tf.keras.models.save_model(), *NOT* tf.saved_model.save(). To confirm, there should be a file named \"keras_metadata.pb\" in the SavedModel directory.\n"
     ]
    },
    {
     "name": "stderr",
     "output_type": "stream",
     "text": [
      "2022-09-07 09:17:35.769895: W tensorflow/stream_executor/platform/default/dso_loader.cc:64] Could not load dynamic library 'libcuda.so.1'; dlerror: libcuda.so.1: cannot open shared object file: No such file or directory\n",
      "2022-09-07 09:17:35.769933: W tensorflow/stream_executor/cuda/cuda_driver.cc:269] failed call to cuInit: UNKNOWN ERROR (303)\n",
      "2022-09-07 09:17:35.769956: I tensorflow/stream_executor/cuda/cuda_diagnostics.cc:156] kernel driver does not appear to be running on this host (pop-os): /proc/driver/nvidia/version does not exist\n",
      "2022-09-07 09:17:35.770194: I tensorflow/core/platform/cpu_feature_guard.cc:151] This TensorFlow binary is optimized with oneAPI Deep Neural Network Library (oneDNN) to use the following CPU instructions in performance-critical operations:  AVX2 FMA\n",
      "To enable them in other operations, rebuild TensorFlow with the appropriate compiler flags.\n"
     ]
    }
   ],
   "source": [
    "cube = Luci(Luci_path, cube_dir + '/' + cube_name, cube_dir, object_name, redshift, resolution)"
   ]
  },
  {
   "cell_type": "markdown",
   "metadata": {},
   "source": [
    "Create a deep frame"
   ]
  },
  {
   "cell_type": "markdown",
   "metadata": {},
   "source": [
    "Let's extract a background region and take a look at it. The background region is defined in a ds9 region file in the `ExampleData` folder."
   ]
  },
  {
   "cell_type": "code",
   "execution_count": 8,
   "metadata": {},
   "outputs": [
    {
     "name": "stderr",
     "output_type": "stream",
     "text": [
      "100%|█████████████████████████████████████| 2064/2064 [00:00<00:00, 2778.87it/s]\n"
     ]
    }
   ],
   "source": [
    "# We use 'mean = True' to take the mean of the emission in the region instead of the sum\n",
    "bkg_axis, bkg_sky = cube.extract_spectrum_region(cube_dir+'/bkg.reg', mean=True)"
   ]
  },
  {
   "cell_type": "markdown",
   "metadata": {},
   "source": [
    "We will now fit a single pixel and take a look at the fit. This fit commands has all the same options as all the other commands except for binning :)"
   ]
  },
  {
   "cell_type": "code",
   "execution_count": 9,
   "metadata": {},
   "outputs": [],
   "source": [
    "# Fit!\n",
    "axis, sky, fit_dict = cube.fit_pixel(\n",
    "    ['Halpha', 'NII6548', 'NII6583', 'SII6716', 'SII6731'],  # lines\n",
    "    'sincgauss',   # fit function\n",
    "    [1,1,1,1,1],  # velocity relationship \n",
    "    [1,1,1,1,1],  # sigma relationship\n",
    "    1250, 1045,    # x & y coordinate\n",
    "    bkg=bkg_sky \n",
    ")"
   ]
  },
  {
   "cell_type": "markdown",
   "metadata": {},
   "source": [
    "And now we can plot the results"
   ]
  },
  {
   "cell_type": "code",
   "execution_count": 10,
   "metadata": {},
   "outputs": [
    {
     "data": {
      "text/plain": [
       "(15000.0, 16000.0)"
      ]
     },
     "execution_count": 10,
     "metadata": {},
     "output_type": "execute_result"
    },
    {
     "data": {
      "image/png": "[encoded data removed]",
      "text/plain": [
       "<Figure size 432x288 with 1 Axes>"
      ]
     },
     "metadata": {
      "needs_background": "light"
     },
     "output_type": "display_data"
    }
   ],
   "source": [
    "plt.plot(axis, sky, label='spectrum')\n",
    "plt.plot(axis, fit_dict['fit_vector'], label='fit', linestyle='--')\n",
    "plt.legend()\n",
    "plt.xlim(15000, 16000)"
   ]
  },
  {
   "cell_type": "markdown",
   "metadata": {},
   "source": [
    "And that is it! Congratulations, you have just used `LUCI`! "
   ]
  },
  {
   "cell_type": "code",
   "execution_count": 11,
   "metadata": {},
   "outputs": [
    {
     "data": {
      "text/plain": [
       "{'fit_sol': array([7.38497127e-17, 1.52251607e+04, 2.23821426e+00, 5.99798532e-18,\n",
       "        1.52595032e+04, 2.24326287e+00, 1.80557362e-17, 1.51774969e+04,\n",
       "        2.23120732e+00, 8.07079899e-18, 1.48768154e+04, 2.18700486e+00,\n",
       "        4.70022094e-18, 1.48450321e+04, 2.18233248e+00, 1.87218112e-18]),\n",
       " 'fit_uncertainties': array([0., 0., 0., 0., 0., 0., 0., 0., 0., 0., 0., 0., 0., 0., 0., 0.]),\n",
       " 'amplitudes': [7.384971266411543e-17,\n",
       "  5.997985316158626e-18,\n",
       "  1.8055736223754507e-17,\n",
       "  8.070798994922608e-18,\n",
       "  4.700220935077693e-18],\n",
       " 'fluxes': [2.6772451645843255e-16,\n",
       "  2.1745937130295308e-17,\n",
       "  6.544979705059082e-17,\n",
       "  2.923622174233243e-17,\n",
       "  1.7025223934497343e-17],\n",
       " 'flux_errors': [0.0, 0.0, 0.0, 0.0, 0.0],\n",
       " 'chi2': 1.2146766891590665e-16,\n",
       " 'velocities': [240.97280883791495,\n",
       "  240.97280883789995,\n",
       "  240.9728088379013,\n",
       "  240.97280883787417,\n",
       "  240.97280883790944],\n",
       " 'sigmas': [18.715528237370073,\n",
       "  18.715528237370073,\n",
       "  18.715528237370076,\n",
       "  18.715528237370076,\n",
       "  18.715528237370076],\n",
       " 'vels_errors': [0.0, 0.0, 0.0, 0.0, 0.0],\n",
       " 'sigmas_errors': [0.0, 0.0, 0.0, 0.0, 0.0],\n",
       " 'axis_step': 6.954210543704335,\n",
       " 'corr': 1.0377737429565317,\n",
       " 'continuum': 1.8721811184472885e-18,\n",
       " 'scale': 7.579545123080169e-17,\n",
       " 'vel_ml': 240.97280883789062,\n",
       " 'vel_ml_sigma': 0,\n",
       " 'broad_ml': 44.07170104980469,\n",
       " 'broad_ml_sigma': 0,\n",
       " 'fit_vector': array([ 1.7303278e-18,  2.0287287e-18,  1.7584311e-18,  1.9004979e-18,\n",
       "         1.9410401e-18,  1.7301018e-18,  2.0362380e-18,  1.7463557e-18,\n",
       "         1.9128064e-18,  1.9331502e-18,  1.7305445e-18,  2.0435733e-18,\n",
       "         1.7338222e-18,  1.9259569e-18,  1.9242880e-18,  1.7316657e-18,\n",
       "         2.0507100e-18,  1.7208659e-18,  1.9399387e-18,  1.9143695e-18,\n",
       "         1.7336252e-18,  2.0576240e-18,  1.7074502e-18,  1.9549795e-18,\n",
       "         1.9033045e-18,  1.7364579e-18,  2.0643090e-18,  1.6935293e-18,\n",
       "         1.9711125e-18,  1.8910515e-18,  1.7402681e-18,  2.0707114e-18,\n",
       "         1.6790404e-18,  1.9884762e-18,  1.8772674e-18,  1.7451743e-18,\n",
       "         2.0768046e-18,  1.6639223e-18,  2.0072640e-18,  1.8618090e-18,\n",
       "         1.7512791e-18,  2.0825488e-18,  1.6479973e-18,  2.0277264e-18,\n",
       "         1.8443673e-18,  1.7589901e-18,  2.0878580e-18,  1.6311328e-18,\n",
       "         2.0501736e-18,  1.8244494e-18,  1.7686480e-18,  2.0926381e-18,\n",
       "         1.6131158e-18,  2.0753378e-18,  1.8012635e-18,  1.7809945e-18,\n",
       "         2.0964016e-18,  1.5937066e-18,  2.1040964e-18,  1.7734359e-18,\n",
       "         1.7976442e-18,  2.0980806e-18,  1.5728612e-18,  2.1380865e-18,\n",
       "         1.7374331e-18,  1.8229353e-18,  2.0936653e-18,  1.5522512e-18,\n",
       "         2.1803379e-18,  1.6837108e-18,  1.8734582e-18,  2.0619282e-18,\n",
       "         1.5497421e-18,  2.2320962e-18,  1.5641508e-18,  2.0917886e-18,\n",
       "         1.6704945e-18,  2.7290794e-18,  7.0799050e-18,  3.1491093e-18,\n",
       "         8.7701183e-19,  3.1804329e-18,  2.2337061e-19,  4.6945498e-18,\n",
       "         9.8621593e-18,  4.2150800e-18,  1.0683122e-18,  2.1518026e-18,\n",
       "         1.9225365e-18,  1.6793533e-18,  2.0364628e-18,  1.8479796e-18,\n",
       "         1.7319798e-18,  2.1164123e-18,  1.6361958e-18,  1.9860271e-18,\n",
       "         1.9463655e-18,  1.6212748e-18,  2.2122836e-18,  1.5741863e-18,\n",
       "         2.0038047e-18,  1.9734528e-18,  1.5588749e-18,  2.2914359e-18,\n",
       "         1.5020140e-18,  2.0461808e-18,  1.9759856e-18,  1.5102656e-18,\n",
       "         2.3725029e-18,  1.4146131e-18,  2.1092183e-18,  1.9622674e-18,\n",
       "         1.4650731e-18,  2.4657394e-18,  1.3032894e-18,  2.1988553e-18,\n",
       "         1.9311061e-18,  1.4183877e-18,  2.5821597e-18,  1.1522595e-18,\n",
       "         2.3309122e-18,  1.8724149e-18,  1.3688526e-18,  2.7390026e-18,\n",
       "         9.3015354e-19,  2.5431205e-18,  1.7552264e-18,  1.3232074e-18,\n",
       "         2.9687570e-18,  5.5878842e-19,  2.9517030e-18,  1.4560402e-18,\n",
       "         1.3584763e-18,  3.3219271e-18, -2.5280811e-19,  4.2499696e-18,\n",
       "        -4.3807320e-19,  6.0931960e-18,  2.2306006e-17,  4.9240089e-18,\n",
       "         1.1708264e-18,  3.4381808e-18, -1.6167791e-18,  8.0448956e-18,\n",
       "        -7.8040347e-18,  2.4161848e-17,  7.6493322e-17,  2.4720976e-17,\n",
       "        -8.7152924e-18,  8.9620718e-18, -2.1892563e-18,  4.0836000e-18,\n",
       "         9.6076623e-18,  1.0360206e-18,  3.6710255e-18,  6.3399599e-19,\n",
       "         2.1184344e-18,  2.5984278e-18,  5.2932125e-19,  3.3111858e-18,\n",
       "         8.2903939e-19,  2.2136772e-18,  2.2707913e-18,  9.4577784e-19,\n",
       "         2.9571343e-18,  1.0158570e-18,  2.2257579e-18,  2.0991875e-18,\n",
       "         1.1916582e-18,  2.7330449e-18,  1.1448622e-18,  2.2218599e-18,\n",
       "         1.9953801e-18,  1.3524290e-18,  2.5795115e-18,  1.2384442e-18,\n",
       "         2.2137922e-18,  1.9256041e-18,  1.4662105e-18,  2.4670256e-18,\n",
       "         1.3097952e-18,  2.2045794e-18,  1.8757327e-18,  1.5512348e-18,\n",
       "         2.3803388e-18,  1.3667174e-18,  2.1949612e-18,  1.8384587e-18,\n",
       "         1.6178047e-18,  2.3109034e-18,  1.4137372e-18,  2.1855801e-18,\n",
       "         1.8097184e-18,  1.6714547e-18,  2.2536790e-18,  1.4536897e-18,\n",
       "         2.1762839e-18,  1.7872364e-18,  1.7157474e-18,  2.2052302e-18,\n",
       "         1.4884234e-18,  2.1670653e-18,  1.7691061e-18,  1.7530164e-18,\n",
       "         2.1634830e-18,  1.5191928e-18,  2.1578992e-18,  1.7544834e-18,\n",
       "         1.7846972e-18,  2.1269386e-18,  1.5468716e-18,  2.1487443e-18,\n",
       "         1.7426479e-18,  1.8122028e-18,  2.0945452e-18,  1.5720985e-18,\n",
       "         2.1395209e-18,  1.7331004e-18,  1.8361772e-18,  2.0656203e-18,\n",
       "         1.5953371e-18,  2.1303305e-18,  1.7254459e-18,  1.8572186e-18,\n",
       "         2.0394121e-18,  1.6169305e-18,  2.1210909e-18,  1.7195037e-18,\n",
       "         1.8757822e-18,  2.0155637e-18,  1.6371034e-18,  2.1117902e-18,\n",
       "         1.7148491e-18,  1.8922094e-18,  1.9937586e-18,  1.6561277e-18,\n",
       "         2.1024272e-18,  1.7114197e-18,  1.9066747e-18,  1.9737175e-18,\n",
       "         1.6741245e-18,  2.0929862e-18,  1.7090697e-18,  1.9196045e-18,\n",
       "         1.9552523e-18,  1.6912154e-18,  2.0835034e-18,  1.7076821e-18,\n",
       "         1.9310701e-18,  1.9382697e-18,  1.7074923e-18,  2.0739660e-18,\n",
       "         1.7072110e-18,  1.9412091e-18,  1.9224656e-18,  1.7230308e-18,\n",
       "         2.0643800e-18,  1.7074710e-18,  1.9501496e-18,  1.9078131e-18,\n",
       "         1.7378343e-18,  2.0547599e-18,  1.7084488e-18,  1.9579090e-18,\n",
       "         1.8942324e-18,  1.7520581e-18,  2.0451141e-18,  1.7100707e-18,\n",
       "         1.9647299e-18,  1.8816448e-18,  1.7656855e-18,  2.0354820e-18,\n",
       "         1.7122916e-18,  1.9706081e-18,  1.8700568e-18,  1.7787440e-18,\n",
       "         2.0258381e-18,  1.7150557e-18,  1.9756117e-18,  1.8592694e-18,\n",
       "         1.7912573e-18,  2.0162126e-18,  1.7183356e-18,  1.9797904e-18,\n",
       "         1.8493116e-18,  1.8031843e-18,  2.0066260e-18,  1.7220523e-18,\n",
       "         1.9831965e-18,  1.8401423e-18,  1.8146552e-18,  1.9970901e-18,\n",
       "         1.7261862e-18,  1.9858477e-18,  1.8317315e-18,  1.8256226e-18,\n",
       "         1.9876654e-18,  1.7307000e-18,  1.9878573e-18,  1.8240313e-18,\n",
       "         1.8360945e-18,  1.9782949e-18,  1.7355583e-18,  1.9892267e-18,\n",
       "         1.8170904e-18,  1.8460765e-18,  1.9690276e-18,  1.7407176e-18,\n",
       "         1.9899879e-18,  1.8107590e-18,  1.8555791e-18,  1.9598860e-18,\n",
       "         1.7461601e-18,  1.9901837e-18,  1.8050723e-18,  1.8645412e-18,\n",
       "         1.9508840e-18,  1.7518507e-18,  1.9898272e-18,  1.8000093e-18,\n",
       "         1.8730827e-18,  1.9420362e-18,  1.7577559e-18], dtype=float32),\n",
       " 'fit_axis': array([14407.898 , 14413.491 , 14419.085 , 14424.678 , 14430.2705,\n",
       "        14435.864 , 14441.457 , 14447.05  , 14452.644 , 14458.236 ,\n",
       "        14463.83  , 14469.423 , 14475.016 , 14480.609 , 14486.202 ,\n",
       "        14491.795 , 14497.389 , 14502.981 , 14508.574 , 14514.168 ,\n",
       "        14519.761 , 14525.3545, 14530.947 , 14536.54  , 14542.134 ,\n",
       "        14547.727 , 14553.319 , 14558.913 , 14564.506 , 14570.099 ,\n",
       "        14575.692 , 14581.285 , 14586.879 , 14592.472 , 14598.064 ,\n",
       "        14603.658 , 14609.251 , 14614.844 , 14620.4375, 14626.03  ,\n",
       "        14631.623 , 14637.217 , 14642.81  , 14648.403 , 14653.996 ,\n",
       "        14659.589 , 14665.183 , 14670.775 , 14676.368 , 14681.962 ,\n",
       "        14687.555 , 14693.147 , 14698.741 , 14704.334 , 14709.928 ,\n",
       "        14715.5205, 14721.113 , 14726.707 , 14732.3   , 14737.893 ,\n",
       "        14743.486 , 14749.079 , 14754.672 , 14760.266 , 14765.858 ,\n",
       "        14771.452 , 14777.045 , 14782.638 , 14788.231 , 14793.824 ,\n",
       "        14799.417 , 14805.011 , 14810.604 , 14816.196 , 14821.79  ,\n",
       "        14827.383 , 14832.977 , 14838.569 , 14844.162 , 14849.756 ,\n",
       "        14855.349 , 14860.941 , 14866.535 , 14872.128 , 14877.721 ,\n",
       "        14883.314 , 14888.907 , 14894.501 , 14900.094 , 14905.687 ,\n",
       "        14911.28  , 14916.873 , 14922.466 , 14928.06  , 14933.652 ,\n",
       "        14939.245 , 14944.839 , 14950.432 , 14956.025 , 14961.618 ,\n",
       "        14967.211 , 14972.805 , 14978.397 , 14983.99  , 14989.584 ,\n",
       "        14995.177 , 15000.77  , 15006.363 , 15011.956 , 15017.55  ,\n",
       "        15023.143 , 15028.735 , 15034.329 , 15039.922 , 15045.515 ,\n",
       "        15051.108 , 15056.701 , 15062.294 , 15067.888 , 15073.48  ,\n",
       "        15079.074 , 15084.667 , 15090.26  , 15095.854 , 15101.446 ,\n",
       "        15107.039 , 15112.633 , 15118.226 , 15123.818 , 15129.412 ,\n",
       "        15135.005 , 15140.599 , 15146.191 , 15151.784 , 15157.378 ,\n",
       "        15162.971 , 15168.563 , 15174.157 , 15179.75  , 15185.343 ,\n",
       "        15190.937 , 15196.529 , 15202.123 , 15207.716 , 15213.309 ,\n",
       "        15218.902 , 15224.495 , 15230.088 , 15235.682 , 15241.274 ,\n",
       "        15246.867 , 15252.461 , 15258.054 , 15263.647 , 15269.24  ,\n",
       "        15274.833 , 15280.427 , 15286.02  , 15291.612 , 15297.206 ,\n",
       "        15302.799 , 15308.392 , 15313.985 , 15319.578 , 15325.172 ,\n",
       "        15330.765 , 15336.357 , 15341.951 , 15347.544 , 15353.137 ,\n",
       "        15358.73  , 15364.323 , 15369.916 , 15375.51  , 15381.103 ,\n",
       "        15386.695 , 15392.289 , 15397.882 , 15403.476 , 15409.068 ,\n",
       "        15414.661 , 15420.255 , 15425.848 , 15431.44  , 15437.034 ,\n",
       "        15442.627 , 15448.22  , 15453.813 , 15459.406 , 15465.    ,\n",
       "        15470.593 , 15476.186 , 15481.779 , 15487.372 , 15492.965 ,\n",
       "        15498.559 , 15504.151 , 15509.744 , 15515.338 , 15520.931 ,\n",
       "        15526.524 , 15532.117 , 15537.71  , 15543.304 , 15548.896 ,\n",
       "        15554.489 , 15560.083 , 15565.676 , 15571.269 , 15576.862 ,\n",
       "        15582.455 , 15588.049 , 15593.642 , 15599.234 , 15604.828 ,\n",
       "        15610.421 , 15616.014 , 15621.607 , 15627.2   , 15632.793 ,\n",
       "        15638.387 , 15643.9795, 15649.573 , 15655.166 , 15660.759 ,\n",
       "        15666.353 , 15671.945 , 15677.538 , 15683.132 , 15688.725 ,\n",
       "        15694.317 , 15699.911 , 15705.504 , 15711.098 , 15716.69  ,\n",
       "        15722.283 , 15727.877 , 15733.47  , 15739.0625, 15744.656 ,\n",
       "        15750.249 , 15755.842 , 15761.436 , 15767.028 , 15772.622 ,\n",
       "        15778.215 , 15783.808 , 15789.401 , 15794.994 , 15800.587 ,\n",
       "        15806.181 , 15811.773 , 15817.366 , 15822.96  , 15828.553 ,\n",
       "        15834.146 , 15839.739 , 15845.332 , 15850.926 , 15856.519 ,\n",
       "        15862.111 , 15867.705 , 15873.298 , 15878.891 , 15884.484 ,\n",
       "        15890.077 , 15895.671 , 15901.264 , 15906.856 , 15912.45  ,\n",
       "        15918.043 , 15923.636 , 15929.2295, 15934.822 , 15940.415 ,\n",
       "        15946.009 , 15951.602 , 15957.195 , 15962.788 , 15968.381 ,\n",
       "        15973.975 , 15979.567 , 15985.16  , 15990.754 , 15996.347 ,\n",
       "        16001.939 , 16007.533 , 16013.126 , 16018.72  , 16024.3125,\n",
       "        16029.905 , 16035.499 , 16041.092 , 16046.685 , 16052.278 ,\n",
       "        16057.871 , 16063.464 , 16069.058 , 16074.65  , 16080.244 ,\n",
       "        16085.837 , 16091.43  , 16097.023 , 16102.616 , 16108.209 ,\n",
       "        16113.803 , 16119.3955, 16124.988 , 16130.582 , 16136.175 ,\n",
       "        16141.769 , 16147.361 , 16152.954 , 16158.548 , 16164.141 ,\n",
       "        16169.733 , 16175.327 , 16180.92  , 16186.513 , 16192.106 ,\n",
       "        16197.699 , 16203.293 , 16208.886 ], dtype=float32)}"
      ]
     },
     "execution_count": 11,
     "metadata": {},
     "output_type": "execute_result"
    }
   ],
   "source": [
    "fit_dict"
   ]
  },
  {
   "cell_type": "code",
   "execution_count": null,
   "metadata": {},
   "outputs": [],
   "source": []
  },
  {
   "cell_type": "code",
   "execution_count": null,
   "metadata": {},
   "outputs": [],
   "source": []
  }
 ],
 "metadata": {
  "kernelspec": {
   "display_name": "Python 3 (ipykernel)",
   "language": "python",
   "name": "python3"
  },
  "language_info": {
   "codemirror_mode": {
    "name": "ipython",
    "version": 3
   },
   "file_extension": ".py",
   "mimetype": "text/x-python",
   "name": "python",
   "nbconvert_exporter": "python",
   "pygments_lexer": "ipython3",
   "version": "3.9.5"
  }
 },
 "nbformat": 4,
 "nbformat_minor": 4
}
