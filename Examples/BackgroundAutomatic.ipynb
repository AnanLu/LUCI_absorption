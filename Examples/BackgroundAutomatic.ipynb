{
 "cells": [
  {
   "cell_type": "markdown",
   "metadata": {},
   "source": [
    "# Automatically  detect background pixels and construct a background for each source pixel\n",
    "\n",
    "In this notebook, we will demonstrate how we can automaticallyt detect background pixels and create a background for masked pixels. To do this, we apply the following steps:\n",
    "1) Use a segmentation algorithm to find the background pixels\n",
    "2) Use PCA to construct a subspace representing the background component\n",
    "    - This includes the sky lines\n",
    "3) Project each background pixel into a truncated PCA space\n",
    "4) Interpolate masked pixels into PCA space\n",
    "    - This can be done by either standard interpolation or using an artificial neural network"
   ]
  },
  {
   "cell_type": "code",
   "execution_count": 3,
   "metadata": {
    "collapsed": false,
    "jupyter": {
     "outputs_hidden": false
    },
    "pycharm": {
     "is_executing": true
    }
   },
   "outputs": [],
   "source": [
    "import os\n",
    "import sys\n",
    "import numpy as np\n",
    "from astropy.io import fits\n",
    "import matplotlib.pyplot as plt\n",
    "import scipy.interpolate as spi\n",
    "from sklearn import decomposition\n",
    "from astropy.convolution import convolve\n",
    "from photutils.segmentation import detect_sources\n",
    "from photutils.segmentation import make_2dgaussian_kernel\n",
    "from photutils.background import Background2D, MedianBackground"
   ]
  },
  {
   "cell_type": "code",
   "execution_count": 6,
   "metadata": {
    "collapsed": false,
    "jupyter": {
     "outputs_hidden": false
    },
    "pycharm": {
     "is_executing": true
    }
   },
   "outputs": [],
   "source": [
    "# Define user-specific variables\n",
    "n_components = 50  # Number of PCA components to keep\n",
    "outputDir = '/home/carterrhea/Documents'  # Output directory for plots and data\n",
    "Luci_path = '/home/carterrhea/Documents/LUCI/'\n",
    "cube_dir = '/mnt/carterrhea/carterrhea/Perseus/SITELLE'  # Path to data cube\n",
    "cube_name = 'A0426_SN3.merged.cm1.1.0'  # don't add .hdf5 extension\n",
    "#cube_dir = '/mnt/carterrhea/carterrhea/NGC4449/'\n",
    "#cube_name = 'NGC4449_SN3'\n",
    "object_name = 'NGC1275'\n",
    "redshift = 0.0179  # Redshift\n",
    "resolution = 1800\n",
    "\n",
    "path = os.path.abspath(Luci_path)\n",
    "sys.path.insert(0, path)  # add LUCI to the available paths\n",
    "plt.style.use(os.path.join(Luci_path, 'light.mplstyle'))\n",
    "from LuciBase import Luci"
   ]
  },
  {
   "cell_type": "markdown",
   "metadata": {},
   "source": [
    "## Define background pixel search algorithm\n",
    "We use a segmentation detection algorithm which is part of the [photutils](https://photutils.readthedocs.io/en/stable/) library. We also do some smoothing and set a threshold. By lowering the threshold, we increase the pixels that are in the background - this is a parameter that can be tweaked for your given object."
   ]
  },
  {
   "cell_type": "code",
   "execution_count": null,
   "metadata": {
    "collapsed": false,
    "jupyter": {
     "outputs_hidden": false
    }
   },
   "outputs": [],
   "source": [
    "def find_background_pixels(deep_image, sigma_threshold=0.1, plot_mask=True):\n",
    "    \"\"\"\n",
    "    This algorithm uses a sigma thresholding algorithm on the deep image to determine which pixels belong to the background.\n",
    "\n",
    "    Args:\n",
    "        deep_image: Deep image in 2D\n",
    "        sigma_threshold: Threshold parameter for determining the background (default 0.1)\n",
    "        plot_mask: Boolean to make/save background plot (default True)\n",
    "\n",
    "    Return:\n",
    "        idx: List of background pixel positions (list of tuples)\n",
    "    \"\"\"\n",
    "    bkg_estimator = MedianBackground()\n",
    "    bkg = Background2D(deep_image, (50, 50), filter_size=(3, 3),\n",
    "                       bkg_estimator=bkg_estimator)  # Experimentally found this values to be good\n",
    "    deep_image -= bkg.background  # subtract the background\n",
    "    threshold = sigma_threshold * bkg.background_rms\n",
    "    kernel = make_2dgaussian_kernel(3.0, size=5)  # FWHM = 3.0 - again experimentally found this to be a good parameter value\n",
    "    convolved_data = convolve(deep_image, kernel)  # Convolve data\n",
    "    segment_map = detect_sources(convolved_data, threshold, npixels=8)  # Apply detection\n",
    "    idx_bkg = np.argwhere(np.abs(segment_map) < 1)  # Get only background pixels\n",
    "    idx_source = np.argwhere(np.abs(segment_map) > 0)  # Get source pixels\n",
    "    if plot_mask:\n",
    "        plt.imshow(segment_map, origin='lower', cmap=segment_map.cmap, interpolation='nearest')\n",
    "        plt.ylim(0, 2048)\n",
    "        plt.xlim(0, 2048)\n",
    "        plt.xlabel('RA (physical coordinates)')\n",
    "        plt.ylabel('DEC (physical coordiantes)')\n",
    "        plt.show()\n",
    "        plt.savefig(os.path.join(outputDir, 'BackgroundPixelMap.png'))\n",
    "    return idx_bkg, idx_source"
   ]
  },
  {
   "cell_type": "markdown",
   "metadata": {},
   "source": [
    "# Read in SITELLE cube with LUCI\n",
    "We now need to read in the SITELLE cube with LUCI so that we have access to the spectra"
   ]
  },
  {
   "cell_type": "code",
   "execution_count": null,
   "metadata": {
    "collapsed": false,
    "jupyter": {
     "outputs_hidden": false
    }
   },
   "outputs": [],
   "source": [
    "cube = Luci(Luci_path, cube_dir+'/'+cube_name, cube_dir, object_name, redshift, resolution, mdn=False)\n",
    "deep = fits.open('/mnt/carterrhea/carterrhea/Perseus/SITELLE/Luci_outputs/NGC1275_lowres_deep.fits')[0].data\n"
   ]
  },
  {
   "cell_type": "markdown",
   "metadata": {},
   "source": [
    "## Obtain background spectra\n",
    "Since we already have our script to calculate the background pixels, we just need to call it and then extract the corresponding spectra from the SITELLE datacube."
   ]
  },
  {
   "cell_type": "code",
   "execution_count": null,
   "metadata": {
    "collapsed": false,
    "jupyter": {
     "outputs_hidden": false
    }
   },
   "outputs": [],
   "source": [
    "idx_bkg, idx_source = find_background_pixels(deep)  # List of background pixels\n",
    "bkg_spectra = [cube.cube_final[index[0], index[1]] for index in idx_bkg if index[0]<2048 and index[1]<2064]  # Get background pixels\n",
    "print(\"There are %i background pixels\"%(len(bkg_spectra)))"
   ]
  },
  {
   "cell_type": "markdown",
   "metadata": {},
   "source": [
    "## Apply PCA Analysis and truncate the PCA space\n",
    "We use the incremental PCA algorithm -- this makes a minor minor minor difference, but it is in general a more robust algorithm"
   ]
  },
  {
   "cell_type": "code",
   "execution_count": null,
   "metadata": {
    "collapsed": false,
    "jupyter": {
     "outputs_hidden": false
    }
   },
   "outputs": [],
   "source": [
    "pca = decomposition.IncrementalPCA(n_components=n_components)  # Call pca\n",
    "pca.fit(bkg_spectra)  # Fit using background spectra\n",
    "BkgTransformedPCA = pca.transform(bkg_spectra)  # Apply on background spectra"
   ]
  },
  {
   "cell_type": "code",
   "execution_count": null,
   "metadata": {
    "collapsed": false,
    "jupyter": {
     "outputs_hidden": false
    }
   },
   "outputs": [],
   "source": [
    "# Plot the primary components\n",
    "plt.figure(figsize=(18, 16))\n",
    "# plot the mean first\n",
    "l = plt.plot(1e7/cube.spectrum_axis, pca.mean_/np.max(pca.mean_)-1,linewidth=3)\n",
    "c = l[0].get_color()\n",
    "plt.text(6, -0.9, 'mean emission', color=c,fontsize='xx-large')\n",
    "shift = 0.6\n",
    "for i in range(5):  # Plot first 5 components\n",
    "    l = plt.plot(1e7/cube.spectrum_axis, pca.components_[i] + (i*shift), linewidth=3)\n",
    "    c = l[0].get_color()\n",
    "    plt.text(6, i*shift+0.1, \"component %i\" % (i + 1), color=c, fontsize='xx-large')\n",
    "plt.xlabel('nm', fontsize=24)\n",
    "plt.ylabel('Normalized Emission + offset',  fontsize=24)\n",
    "plt.xticks(fontsize=24)\n",
    "plt.yticks(fontsize=24)\n",
    "plt.savefig(os.path.join(outputDir, 'PCA_components.png'))"
   ]
  },
  {
   "cell_type": "code",
   "execution_count": null,
   "metadata": {
    "collapsed": false,
    "jupyter": {
     "outputs_hidden": false
    }
   },
   "outputs": [],
   "source": [
    "# Make scree plot\n",
    "PC_values = np.arange(pca.n_components_)[:n_components] + 1\n",
    "plt.plot(PC_values, pca.explained_variance_ratio_[:n_components], 'o-', linewidth=2, color='blue')\n",
    "plt.title('Scree Plot')\n",
    "plt.xlabel('Principal Component')\n",
    "plt.ylabel('Variance Explained')\n",
    "plt.savefig(outputDir, 'PCA_scree.png')"
   ]
  },
  {
   "cell_type": "markdown",
   "metadata": {},
   "source": [
    "## Interpolate in truncated PCA space the missing (i.e. source) pixels\n",
    "Here, we will obtain values for the source pixels (i.e. the pixels that were masked). This can be done using artificial neural networks or standard interpolation.\n",
    "This will provide us will a background spectrum for each pixel, masked or otherwise, using the PCA subspace."
   ]
  },
  {
   "cell_type": "code",
   "execution_count": null,
   "metadata": {
    "collapsed": false,
    "jupyter": {
     "outputs_hidden": false
    }
   },
   "outputs": [],
   "source": [
    "interpolatedSourcePixels = spi.interpn(idx_bkg, BkgTransformedPCA, idx_source, method='nearest')"
   ]
  },
  {
   "cell_type": "code",
   "execution_count": null,
   "metadata": {
    "collapsed": false,
    "jupyter": {
     "outputs_hidden": false
    }
   },
   "outputs": [],
   "source": []
  }
 ],
 "metadata": {
  "kernelspec": {
   "display_name": "Python 3 (ipykernel)",
   "language": "python",
   "name": "python3"
  },
  "language_info": {
   "codemirror_mode": {
    "name": "ipython",
    "version": 3
   },
   "file_extension": ".py",
   "mimetype": "text/x-python",
   "name": "python",
   "nbconvert_exporter": "python",
   "pygments_lexer": "ipython3",
   "version": "3.10.11"
  }
 },
 "nbformat": 4,
 "nbformat_minor": 4
}
