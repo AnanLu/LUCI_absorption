{
 "cells": [
  {
   "cell_type": "markdown",
   "source": [
    "# Automatically detect and model the background emission using LUCI\n",
    "In this notebook, we will demonstrate the tools in LUCI to detect and model the background.\n",
    "\n",
    "To do this, we apply the following steps:\n",
    "1) Use a segmentation algorithm to find the background pixels\n",
    "2) Use PCA to construct a subspace representing the background component\n",
    "    - This includes the sky lines\n",
    "3) Project each background pixel into a truncated PCA space\n",
    "4) Interpolate masked pixels into PCA space\n",
    "    - This can be done by either standard interpolation or using an artificial neural network\n",
    "\n",
    "All of these steps have been wrapped into a single LUCI call for convenience. Implementation details can be found in our article."
   ],
   "metadata": {
    "collapsed": false
   }
  },
  {
   "cell_type": "code",
   "execution_count": 28,
   "outputs": [],
   "source": [
    "import os\n",
    "import sys\n",
    "import matplotlib.pyplot as plt\n",
    "plt.style.use('/home/carterrhea/Documents/LUCI/light.mplstyle')"
   ],
   "metadata": {
    "collapsed": false,
    "ExecuteTime": {
     "end_time": "2023-06-14T17:05:07.569961004Z",
     "start_time": "2023-06-14T17:05:07.389378927Z"
    }
   }
  },
  {
   "cell_type": "code",
   "execution_count": 29,
   "outputs": [],
   "source": [
    "# Define user-specific variables\n",
    "n_components = 50  # Number of PCA components to calculate\n",
    "n_components_keep = 2  # Number of PCA components to keep\n",
    "outputDir = '/home/carterrhea/Documents/NGC4449'  # Output directory for plots and data\n",
    "Luci_path = '/home/carterrhea/Documents/LUCI/'\n",
    "cube_dir = '/home/carterrhea/Documents/NGC4449'  # Path to data cube\n",
    "cube_name = 'NGC4449_SN3'  # don't add .hdf5 extension\n",
    "object_name = 'NGC4449'\n",
    "redshift = 0.0004  # Redshift\n",
    "resolution = 5000\n",
    "\n",
    "path = os.path.abspath(Luci_path)\n",
    "sys.path.insert(0, path)  # add LUCI to the available paths\n",
    "plt.style.use(os.path.join(Luci_path, 'light.mplstyle'))\n",
    "from LuciBase import Luci"
   ],
   "metadata": {
    "collapsed": false,
    "ExecuteTime": {
     "end_time": "2023-06-14T17:05:07.577649978Z",
     "start_time": "2023-06-14T17:05:07.396286740Z"
    }
   }
  },
  {
   "cell_type": "code",
   "execution_count": null,
   "outputs": [
    {
     "name": "stdout",
     "output_type": "stream",
     "text": [
      "Reading in data...\n"
     ]
    },
    {
     "name": "stderr",
     "output_type": "stream",
     "text": [
      " 22%|██▏       | 2/9 [00:31<01:57, 16.84s/it]"
     ]
    }
   ],
   "source": [
    "cube = Luci(Luci_path, cube_dir+'/'+cube_name, cube_dir, object_name, redshift, resolution, mdn=False)\n"
   ],
   "metadata": {
    "collapsed": false,
    "is_executing": true,
    "ExecuteTime": {
     "start_time": "2023-06-14T17:05:07.438793602Z"
    }
   }
  },
  {
   "cell_type": "code",
   "execution_count": null,
   "outputs": [],
   "source": [
    "BkgTransformedPCA, pca, interpolatedSourcePixels = cube.create_background_subspace(x_min=500, x_max=1500, y_min=500, y_max=1500, n_components=n_components, n_components_keep=n_components_keep)"
   ],
   "metadata": {
    "collapsed": false,
    "is_executing": true
   }
  },
  {
   "cell_type": "code",
   "execution_count": null,
   "outputs": [],
   "source": [
    "import numpy as np"
   ],
   "metadata": {
    "collapsed": false,
    "is_executing": true
   }
  },
  {
   "cell_type": "code",
   "execution_count": null,
   "outputs": [],
   "source": [
    "print(np.sum([pca.components_[i] * BkgTransformedPCA[0,i] for i in range(n_components_keep)], axis=0))"
   ],
   "metadata": {
    "collapsed": false,
    "is_executing": true
   }
  },
  {
   "cell_type": "code",
   "execution_count": null,
   "outputs": [],
   "source": [
    "max_spectral = np.argmin(np.abs([1e7 / wavelength - 630 for wavelength in cube.spectrum_axis]))\n",
    "min_spectral = np.argmin(np.abs([1e7 / wavelength - 680 for wavelength in cube.spectrum_axis]))\n",
    "plt.plot(1e7/cube.spectrum_axis[min_spectral: max_spectral], pca.mean_-np.sum([pca.components_[i] * BkgTransformedPCA[0,i] for i in range(n_components_keep)], axis=0))\n",
    "plt.plot(1e7/cube.spectrum_axis[min_spectral: max_spectral], pca.mean_, linewidth=3, linestyle='-.', label='Mean')\n",
    "plt.plot(1e7/cube.spectrum_axis[min_spectral: max_spectral],\n",
    "         pca.mean_ - np.sum([pca.components_[i] * interpolatedSourcePixels[10][i] for i in range(n_components_keep)], axis=0),\n",
    "         linewidth=3, linestyle='--', label='Reconstructed Source 1')"
   ],
   "metadata": {
    "collapsed": false,
    "is_executing": true
   }
  },
  {
   "cell_type": "code",
   "execution_count": null,
   "outputs": [],
   "source": [],
   "metadata": {
    "collapsed": false
   }
  }
 ],
 "metadata": {
  "kernelspec": {
   "display_name": "Python 3",
   "language": "python",
   "name": "python3"
  },
  "language_info": {
   "codemirror_mode": {
    "name": "ipython",
    "version": 2
   },
   "file_extension": ".py",
   "mimetype": "text/x-python",
   "name": "python",
   "nbconvert_exporter": "python",
   "pygments_lexer": "ipython2",
   "version": "2.7.6"
  }
 },
 "nbformat": 4,
 "nbformat_minor": 0
}
