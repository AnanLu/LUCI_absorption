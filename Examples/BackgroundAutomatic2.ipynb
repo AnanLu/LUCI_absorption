{
 "cells": [
  {
   "cell_type": "markdown",
   "metadata": {},
   "source": [
    "### Automatically detect and model the background emission using LUCI\n",
    "In this notebook, we will demonstrate the tools in LUCI to detect and model the background.\n",
    "\n",
    "To do this, we apply the following steps:\n",
    "1) Use a segmentation algorithm to find the background pixels\n",
    "2) Use PCA to construct a subspace representing the background component\n",
    "    - This includes the sky lines\n",
    "3) Project each background pixel into a truncated PCA space\n",
    "4) Interpolate masked pixels into PCA space\n",
    "    - This can be done by either standard interpolation or using an artificial neural network\n",
    "\n",
    "All of these steps have been wrapped into a single LUCI call for convenience. Implementation details can be found in our article."
   ]
  },
  {
   "cell_type": "code",
   "execution_count": 3,
   "metadata": {
    "ExecuteTime": {
     "end_time": "2023-06-14T17:05:07.569961004Z",
     "start_time": "2023-06-14T17:05:07.389378927Z"
    },
    "collapsed": false,
    "jupyter": {
     "outputs_hidden": false
    }
   },
   "source": [
    "import os\n",
    "import sys\n",
    "import numpy as np\n",
    "import matplotlib.pyplot as plt\n",
    "from astroML.correlation import two_point\n",
    "plt.style.use('/home/carterrhea/Documents/LUCI/light.mplstyle')"
   ],
   "outputs": []
  },
  {
   "cell_type": "code",
   "execution_count": 4,
   "metadata": {
    "ExecuteTime": {
     "end_time": "2023-06-14T17:05:07.577649978Z",
     "start_time": "2023-06-14T17:05:07.396286740Z"
    },
    "collapsed": false,
    "jupyter": {
     "outputs_hidden": false
    }
   },
   "source": [
    "# Define user-specific variables\n",
    "n_components = 50  # Number of PCA components to calculate\n",
    "n_components_keep = 3  # Number of PCA components to keep\n",
    "outputDir = '/export/home/carterrhea/NGC4449'  # Output directory for plots and data\n",
    "Luci_path = '/home/carterrhea/Documents/LUCI/'\n",
    "cube_dir = '/export/home/carterrhea/NGC4449'  # Path to data cube\n",
    "cube_name = 'NGC4449_SN3'  # don't add .hdf5 extension\n",
    "object_name = 'NGC4449'\n",
    "redshift = 0.0004  # Redshift\n",
    "resolution = 5000\n",
    "\n",
    "path = os.path.abspath(Luci_path)\n",
    "sys.path.insert(0, path)  # add LUCI to the available paths\n",
    "plt.style.use(os.path.join(Luci_path, 'light.mplstyle'))\n",
    "from LuciBase import Luci"
   ],
   "outputs": []
  },
  {
   "cell_type": "code",
   "execution_count": 5,
   "metadata": {
    "ExecuteTime": {
     "start_time": "2023-06-14T17:05:07.438793602Z"
    },
    "collapsed": false,
    "is_executing": true,
    "jupyter": {
     "outputs_hidden": false
    }
   },
   "source": [
    "cube = Luci(Luci_path, cube_dir+'/'+cube_name, cube_dir, object_name, redshift, resolution, mdn=False)\n"
   ],
   "outputs": []
  },
  {
   "cell_type": "code",
   "execution_count": 6,
   "metadata": {
    "collapsed": false,
    "is_executing": true,
    "jupyter": {
     "outputs_hidden": false
    }
   },
   "source": [
    "BkgTransformedPCA, pca, interpolatedSourcePixels, idx_bkg, idx_src, coefficient_array = cube.create_background_subspace(x_min=500, x_max=1500, y_min=500, y_max=1500, \n",
    "                                                                                                     n_components=n_components, n_components_keep=n_components_keep)"
   ],
   "outputs": []
  },
  {
   "cell_type": "code",
   "execution_count": null,
   "metadata": {},
   "source": [
    "import pickle\n",
    "pickle.dump(idx_bkg, open('/export/home/carterrhea/NGC4449/idx_bkg.pkl', 'wb'))\n",
    "pickle.dump(idx_src, open('/export/home/carterrhea/NGC4449/idx_src.pkl', 'wb'))\n",
    "pickle.dump(cube.spectrum_axis, open('/export/home/carterrhea/NGC4449/spectrum_axis.pkl', 'wb'))\n",
    "pickle.dump(BkgTransformedPCA, open('/export/home/carterrhea/NGC4449/BkgTransformedPCA.pkl', 'wb'))\n",
    "\n",
    "#pickle.dump(cube.cube_final, open('/export/home/carterrhea/NGC4449/cube_final.pkl','wb'))"
   ],
   "outputs": []
  },
  {
   "cell_type": "code",
   "execution_count": null,
   "metadata": {
    "collapsed": false,
    "is_executing": true,
    "jupyter": {
     "outputs_hidden": false
    }
   },
   "source": [
    "import numpy as np\n",
    "min_spectral_scale = np.argmin(np.abs([1e7 / wavelength - 675 for wavelength in cube.spectrum_axis]))\n",
    "max_spectral_scale = np.argmin(np.abs([1e7 / wavelength - 670 for wavelength in cube.spectrum_axis]))\n",
    "\n",
    "spec_scale = np.nanmax(cube.cube_final[600, 700, min_spectral_scale:max_spectral_scale])\n",
    "max_spectral = np.argmin(np.abs([1e7 / wavelength - 646 for wavelength in cube.spectrum_axis]))\n",
    "min_spectral = np.argmin(np.abs([1e7 / wavelength - 678 for wavelength in cube.spectrum_axis]))\n",
    "\n",
    "reconstructed_spectra = pca.mean_ + np.sum([pca.components_[i] * interpolatedSourcePixels[10][i] for i in range(1, n_components_keep)], axis=0)\n"
   ],
   "outputs": []
  },
  {
   "cell_type": "code",
   "execution_count": null,
   "metadata": {},
   "source": [
    "print(spec_scale)"
   ],
   "outputs": []
  },
  {
   "cell_type": "code",
   "execution_count": null,
   "metadata": {},
   "source": [
    "bkg_axis, bkg_sky = cube.extract_spectrum_region(cube_dir+'/bkg.reg', mean=True)"
   ],
   "outputs": []
  },
  {
   "cell_type": "code",
   "execution_count": null,
   "metadata": {
    "collapsed": false,
    "is_executing": true,
    "jupyter": {
     "outputs_hidden": false
    }
   },
   "source": [
    "fig, ax = plt.subplots()\n",
    "\n",
    "#plt.plot(1e7/cube.spectrum_axis[min_spectral: max_spectral], pca.mean_-np.sum([pca.components_[i] * BkgTransformedPCA[0,i] for i in range(n_components_keep)], axis=0), label='Reconstructed Bkg 1')\n",
    "#plt.plot(1e7/cube.spectrum_axis[min_spectral: max_spectral], pca.mean_, linewidth=3, `linestyle='-.', label='Mean')\n",
    "plt.plot(1e8/cube.spectrum_axis[min_spectral: max_spectral],\n",
    "         spec_scale*reconstructed_spectra,\n",
    "         linewidth=3, linestyle='-', label='Reconstructed Source 1')\n",
    "plt.plot(1e8/cube.spectrum_axis[min_spectral: max_spectral], bkg_sky[min_spectral: max_spectral], label='Standard Background', linestyle='--')\n",
    "plt.vlines((10*654.95*(1+redshift), 10*656.3*(1+redshift), 10*658.35*(1+redshift), 10*671.7*(1+redshift), 10*673.1*(1+redshift)), -0.1*spec_scale, 0.65*spec_scale, linestyle='--', color='grey')\n",
    "ax.text(s=r'[NII]6548', x=10*654.8*(1+redshift)-15, y=0.67*spec_scale, fontsize='large', fontweight='heavy') \n",
    "ax.text(s=r'H$\\alpha$', x=10*656.3*(1+redshift)-4.5, y=0.69*spec_scale, fontsize='large', fontweight='heavy') \n",
    "ax.text(s=r'[NII]6584', x=10*658.3*(1+redshift)-15, y=0.67*spec_scale, fontsize='large', fontweight='heavy') \n",
    "ax.text(s=r'[SII]6716,6731', x=10*671.7*(1+redshift)-18, y=0.67*spec_scale, fontsize='large', fontweight='heavy') \n",
    "#ax.text(s=r'[SII]6731', x=673.1*(1+redshift)-1.5, y=0.67*spec_scale, fontsize='large', fontweight='heavy') \n",
    "\n",
    "\n",
    "#plt.ylim(-0.1, 0.6)\n",
    "plt.ylim(-0.1*spec_scale, 0.65*spec_scale)\n",
    "plt.legend()\n",
    "plt.xlabel('Wavelength (Å)', fontsize=18, fontweight='bold', fontname='Roboto')\n",
    "plt.ylabel(r'Flux (ergs/s/cm$^{2}$/Å)', fontsize=18, fontweight='bold', fontname='Roboto')\n",
    "ax.tick_params(labelsize=14)\n",
    "plt.savefig('/export/home/carterrhea/NGC4449/Backgrounds.png')"
   ],
   "outputs": []
  },
  {
   "cell_type": "code",
   "execution_count": null,
   "metadata": {
    "collapsed": false,
    "jupyter": {
     "outputs_hidden": false
    }
   },
   "source": [
    "np.std([val[0] for val in interpolatedSourcePixels])"
   ],
   "outputs": []
  },
  {
   "cell_type": "code",
   "execution_count": null,
   "metadata": {},
   "source": [
    "plt.hist([val[0] for val in BkgTransformedPCA])"
   ],
   "outputs": []
  },
  {
   "cell_type": "code",
   "execution_count": null,
   "metadata": {},
   "source": [],
   "outputs": []
  },
  {
   "cell_type": "markdown",
   "metadata": {},
   "source": [
    "# Check if a component is noise\n",
    "We can estimate whether or not a component is noise-dominated (i.e. not containing any useful signal) by calculating the *n*-point correlation function. If the value of the function for a spectrum is near zero, then the spectrum is pure noise.\n"
   ]
  },
  {
   "cell_type": "code",
   "execution_count": null,
   "metadata": {},
   "source": [
    "cube.fit_cube(['Halpha', 'NII6583', 'NII6548'], \n",
    "                 'sinc', \n",
    "                 [1,1,1], [1,1,1],\n",
    "                 #950, 1100, 950, 1100, \n",
    "                  600, 1500, 500, 1500,\n",
    "                 spec_min= 15000, spec_max = 15500,\n",
    "                 bkgType='pca', n_threads=40, binning=2, bayes_bool=False, n_stoch=1,\n",
    "                 pca_coefficient_array=coefficient_array, pca_vectors=pca.components_, pca_mean=pca.mean_\n",
    "             )"
   ],
   "outputs": []
  },
  {
   "cell_type": "code",
   "execution_count": null,
   "metadata": {},
   "source": [],
   "outputs": []
  }
 ],
 "metadata": {
  "kernelspec": {
   "display_name": "Python 3 (ipykernel)",
   "language": "python",
   "name": "python3"
  },
  "language_info": {
   "codemirror_mode": {
    "name": "ipython",
    "version": 3
   },
   "file_extension": ".py",
   "mimetype": "text/x-python",
   "name": "python",
   "nbconvert_exporter": "python",
   "pygments_lexer": "ipython3",
   "version": "3.9.5"
  }
 },
 "nbformat": 4,
 "nbformat_minor": 4
}
