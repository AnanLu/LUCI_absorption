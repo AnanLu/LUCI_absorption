{
 "cells": [
  {
   "cell_type": "markdown",
   "id": "a994abd6",
   "metadata": {},
   "source": [
    "One the new feature added to the fitting procedure of Luci is a weighted Voronoï tessellation. We will describe here an example to showcase this method for your own data analysis.\n",
    "\n",
    "You can download the example data using the following command:"
   ]
  },
  {
   "cell_type": "code",
   "execution_count": 1,
   "id": "a5d85f0d",
   "metadata": {},
   "outputs": [
    {
     "name": "stderr",
     "output_type": "stream",
     "text": [
      "2024-05-08 17:24:29.518372: I tensorflow/core/platform/cpu_feature_guard.cc:193] This TensorFlow binary is optimized with oneAPI Deep Neural Network Library (oneDNN) to use the following CPU instructions in performance-critical operations:  AVX2 FMA\n",
      "To enable them in other operations, rebuild TensorFlow with the appropriate compiler flags.\n",
      "2024-05-08 17:24:29.642740: W tensorflow/compiler/xla/stream_executor/platform/default/dso_loader.cc:64] Could not load dynamic library 'libcudart.so.11.0'; dlerror: libcudart.so.11.0: cannot open shared object file: No such file or directory; LD_LIBRARY_PATH: /usr/local/src/heasoft-6.31.1/x86_64-pc-linux-gnu-libc2.35/lib\n",
      "2024-05-08 17:24:29.642764: I tensorflow/compiler/xla/stream_executor/cuda/cudart_stub.cc:29] Ignore above cudart dlerror if you do not have a GPU set up on your machine.\n",
      "2024-05-08 17:24:31.104341: W tensorflow/compiler/xla/stream_executor/platform/default/dso_loader.cc:64] Could not load dynamic library 'libnvinfer.so.7'; dlerror: libnvinfer.so.7: cannot open shared object file: No such file or directory; LD_LIBRARY_PATH: /usr/local/src/heasoft-6.31.1/x86_64-pc-linux-gnu-libc2.35/lib\n",
      "2024-05-08 17:24:31.104449: W tensorflow/compiler/xla/stream_executor/platform/default/dso_loader.cc:64] Could not load dynamic library 'libnvinfer_plugin.so.7'; dlerror: libnvinfer_plugin.so.7: cannot open shared object file: No such file or directory; LD_LIBRARY_PATH: /usr/local/src/heasoft-6.31.1/x86_64-pc-linux-gnu-libc2.35/lib\n",
      "2024-05-08 17:24:31.104461: W tensorflow/compiler/tf2tensorrt/utils/py_utils.cc:38] TF-TRT Warning: Cannot dlopen some TensorRT libraries. If you would like to use Nvidia GPU with TensorRT, please make sure the missing libraries mentioned above are installed properly.\n"
     ]
    }
   ],
   "source": [
    "# Imports\n",
    "import sys\n",
    "sys.path.insert(0, '/home/carterrhea/Documents/LUCI/')\n",
    "from LuciBase import Luci\n",
    "import matplotlib.pyplot as plt\n",
    "import numpy as np\n",
    "import LUCI.LuciPlotting as lplt\n",
    "from astropy.io import fits\n",
    "from astropy.wcs import WCS\n",
    "from matplotlib import cm\n",
    "from matplotlib.colors import LogNorm"
   ]
  },
  {
   "cell_type": "markdown",
   "id": "365d9a62",
   "metadata": {},
   "source": [
    "The next step is to load/read the HDF5 data cube. To do this we invoke LUCI by initiating an instance of her along with the proper parameters. First we define the correct parameters:"
   ]
  },
  {
   "cell_type": "code",
   "execution_count": 2,
   "id": "0edb10df",
   "metadata": {},
   "outputs": [],
   "source": [
    "# Initialize paths and set parameters\n",
    "Luci_path = '/home/carterrhea/Documents/LUCI/'\n",
    "cube_dir = '/export/home/carterrhea/M33'  # Path to data cube\n",
    "cube_name = 'M33_SN3'  # don't add .hdf5 extension\n",
    "object_name = 'M33'\n",
    "filter_name = 'SN3'\n",
    "redshift = -0.0006  # Redshift of M33\n",
    "resolution = 5000"
   ]
  },
  {
   "cell_type": "markdown",
   "id": "e5a82531",
   "metadata": {},
   "source": [
    "From there we will load the HDF5 cube following this command as usual."
   ]
  },
  {
   "cell_type": "code",
   "execution_count": 3,
   "id": "cc28afb2",
   "metadata": {},
   "outputs": [
    {
     "name": "stdout",
     "output_type": "stream",
     "text": [
      "Reading in data...\n"
     ]
    },
    {
     "name": "stderr",
     "output_type": "stream",
     "text": [
      "100%|█████████████████████████████████████████████| 9/9 [00:34<00:00,  3.82s/it]\n"
     ]
    }
   ],
   "source": [
    "cube = Luci(Luci_path, cube_dir+'/'+cube_name, cube_dir, object_name, redshift, resolution)"
   ]
  },
  {
   "cell_type": "markdown",
   "id": "ea2e0c90",
   "metadata": {},
   "source": [
    "And extract a background region."
   ]
  },
  {
   "cell_type": "code",
   "execution_count": 4,
   "id": "96311db3",
   "metadata": {},
   "outputs": [
    {
     "name": "stderr",
     "output_type": "stream",
     "text": [
      "100%|█████████████████████████████████████| 2064/2064 [00:00<00:00, 3596.32it/s]\n"
     ]
    }
   ],
   "source": [
    "bkg_axis, bkg_sky = cube.extract_spectrum_region(Luci_path+'Examples/regions/bkg_M33.reg', mean=True)\n"
   ]
  },
  {
   "cell_type": "markdown",
   "id": "370ac804",
   "metadata": {},
   "source": [
    "Now we can call the wvt_fit_region function that will create the weighted Voronoï region and fit the bins to produce the maps we need."
   ]
  },
  {
   "cell_type": "code",
   "execution_count": null,
   "id": "50c5c166",
   "metadata": {},
   "outputs": [
    {
     "name": "stdout",
     "output_type": "stream",
     "text": [
      "#----------------WVT Algorithm----------------#\n",
      "#----------------Creating SNR Map--------------#\n"
     ]
    },
    {
     "name": "stderr",
     "output_type": "stream",
     "text": [
      "100%|█████████████████████████████████████████| 250/250 [03:55<00:00,  1.06it/s]\n"
     ]
    },
    {
     "name": "stdout",
     "output_type": "stream",
     "text": [
      "#----------------Algorithm Part 1----------------#\n",
      "/home/carterrhea/Documents/LUCI/Examples\n",
      "We have 37500 Pixels! :)\n",
      "Running Nearest Neighbor Algorithm\n",
      "Finished Nearest Neighbor Algorithm\n",
      "Starting Bin Accretion Algorithm\n",
      "Completed Bin Accretion Algorithm\n",
      "There are a total of 7434 bins!\n",
      "The first part of the algorithm took 00:05:59.\n",
      "#----------------Algorithm Part 2----------------#\n",
      "Beginning WVT\n",
      "We are on step 1\n",
      "Completed WVT in 1 step(s)!\n",
      "There are a total of 7434 bins!\n",
      "#----------------Algorithm Complete--------------#\n",
      "#----------------Bin Mapping--------------#\n",
      "#----------------Numpy Bin Mapping--------------#\n"
     ]
    },
    {
     "name": "stderr",
     "output_type": "stream",
     "text": [
      "100%|██████████████████████████████████████| 7433/7433 [00:16<00:00, 445.22it/s]\n"
     ]
    },
    {
     "name": "stdout",
     "output_type": "stream",
     "text": [
      "#----------------WVT Fitting--------------#\n"
     ]
    },
    {
     "name": "stderr",
     "output_type": "stream",
     "text": [
      "  0%|                                                  | 0/7433 [00:00<?, ?it/s]2024-05-08 17:42:15.039156: W tensorflow/compiler/xla/stream_executor/platform/default/dso_loader.cc:64] Could not load dynamic library 'libcuda.so.1'; dlerror: libcuda.so.1: cannot open shared object file: No such file or directory; LD_LIBRARY_PATH: /usr/local/src/heasoft-6.31.1/x86_64-pc-linux-gnu-libc2.35/lib\n",
      "2024-05-08 17:42:15.039198: W tensorflow/compiler/xla/stream_executor/cuda/cuda_driver.cc:265] failed call to cuInit: UNKNOWN ERROR (303)\n",
      "2024-05-08 17:42:15.039236: I tensorflow/compiler/xla/stream_executor/cuda/cuda_diagnostics.cc:156] kernel driver does not appear to be running on this host (dubble): /proc/driver/nvidia/version does not exist\n",
      "2024-05-08 17:42:15.039560: I tensorflow/core/platform/cpu_feature_guard.cc:193] This TensorFlow binary is optimized with oneAPI Deep Neural Network Library (oneDNN) to use the following CPU instructions in performance-critical operations:  AVX2 FMA\n",
      "To enable them in other operations, rebuild TensorFlow with the appropriate compiler flags.\n",
      " 14%|█████▎                               | 1066/7433 [39:57<3:32:52,  2.01s/it]"
     ]
    }
   ],
   "source": [
    "cube.wvt_fit_region(\n",
    "                1200, 1350,    # x bounds\n",
    "                1700, 1950,    # y bounds\n",
    "                ['NII6548', 'Halpha', 'NII6583'], \n",
    "                'sincgauss',\n",
    "                [1,1,1],\n",
    "                [1,1,1],\n",
    "                stn_target = 100,\n",
    "                bkg=bkg_sky,\n",
    "                bayes_bool=False, \n",
    "                uncertainty_bool=False, \n",
    "                n_threads=1)"
   ]
  },
  {
   "cell_type": "markdown",
   "id": "8d0a90e6",
   "metadata": {},
   "source": [
    "As we can see there are many arguments in this function. Let's go through them one by one to make sure we use them correctly.\n",
    "\n",
    "The first four arguments correspond to the position of the region we want to fit in the cube.\n",
    "\n",
    "The fifth argument refers to the emission lines we want to fit.\n",
    "\n",
    "'sincgauss' is the fitting function to be used.\n",
    "\n",
    "The next two arguments describes the relational constraints between the lines. For example, if we are fitting three lines and we want the velocities of the second and third lines to be tied to one another, we would simply set vel_rel=[1,2,2]. If we wanted all the lines tied, then we would put [1,1,1]. The sigma_rel parameter functions in the exact same way except it affects the broadening (velocity dispersion) of the lines.\n",
    "\n",
    "The stn_target parameter determines the signal to noise value that will act as a threshold to create the Voronoï tessels.\n",
    "\n",
    "We then pass the background we want to subtract, as well as the Boolean parameters to determine whether or not to run Bayesian and uncertainty analysis.\n",
    "\n",
    "The n_threads argument determines the number of threads used for the paralelization of the function, which accelerates the whole process."
   ]
  },
  {
   "cell_type": "markdown",
   "id": "3ccc2093-8f70-46ae-9f6a-e6105ac2d91b",
   "metadata": {},
   "source": [
    "### Outputs\n",
    "The outputs will be in their usual locations (`Luci_outputs/...`) and will have `_wvt` in their names :D"
   ]
  },
  {
   "cell_type": "markdown",
   "id": "43ffd01d",
   "metadata": {},
   "source": [
    "Let’s look at the flux map."
   ]
  },
  {
   "cell_type": "code",
   "execution_count": null,
   "id": "e14c8bdc",
   "metadata": {},
   "outputs": [],
   "source": [
    "plt.rcdefaults()\n",
    "\n",
    "flux_map = fits.open('/mnt/carterrhea/carterrhea/M33/Luci_outputs/Fluxes/M33_Field7_wvt_1_Halpha_Flux.fits')[0].data.T\n",
    "header = fits.open('/mnt/carterrhea/carterrhea/M33/Luci_outputs/M33_Field7_deep.fits')[0].header\n",
    "wcs = WCS(header)\n",
    "cmap = cm.CMRmap\n",
    "cmap.set_bad('black',1.)\n",
    "\n",
    "fig = plt.figure(figsize=(10, 10))\n",
    "ax = plt.subplot(projection=wcs)\n",
    "plt.imshow(flux_map[800:850,800:850], norm = LogNorm(vmin=1e-18, vmax=5.01837e-15), origin='lower', cmap=cmap)\n",
    "plt.rcParams[\"font.weight\"] = \"bold\"\n",
    "plt.rcParams[\"axes.labelweight\"] = \"bold\"\n",
    "plt.xlabel(r'RA', fontsize=16)\n",
    "plt.ylabel(r'Dec', fontsize=16)\n",
    "cbar = plt.colorbar()\n",
    "cbar.set_label(r'Flux [ergs s$^{-1}$ cm$^{-2}$ $\\AA^{-1}$]', fontsize=16)\n",
    "plt.savefig('/home/carterrhea/Downloads/WVT_Example.png')"
   ]
  },
  {
   "cell_type": "code",
   "execution_count": null,
   "id": "34403291",
   "metadata": {},
   "outputs": [],
   "source": []
  }
 ],
 "metadata": {
  "kernelspec": {
   "display_name": "Python 3 (ipykernel)",
   "language": "python",
   "name": "python3"
  },
  "language_info": {
   "codemirror_mode": {
    "name": "ipython",
    "version": 3
   },
   "file_extension": ".py",
   "mimetype": "text/x-python",
   "name": "python",
   "nbconvert_exporter": "python",
   "pygments_lexer": "ipython3",
   "version": "3.9.5"
  }
 },
 "nbformat": 4,
 "nbformat_minor": 5
}
