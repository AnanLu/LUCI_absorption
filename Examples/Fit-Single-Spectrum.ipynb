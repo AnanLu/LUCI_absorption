{
 "cells": [
  {
   "cell_type": "code",
   "execution_count": 1,
   "metadata": {},
   "outputs": [
    {
     "name": "stderr",
     "output_type": "stream",
     "text": [
      "WARNING: Astrometry.net API key not found in configuration file [astroquery.astrometry_net.core]\n",
      "WARNING: You need to manually edit the configuration file and add it [astroquery.astrometry_net.core]\n",
      "WARNING: You may also register it for this session with AstrometryNet.key = 'XXXXXXXX' [astroquery.astrometry_net.core]\n"
     ]
    }
   ],
   "source": [
    "# Imports\n",
    "import sys\n",
    "sys.path.insert(0, '/home/carterrhea/Documents/LUCI/')  # Location of Luci\n",
    "from LuciBase import Luci\n",
    "import LUCI.LuciPlotting as lplt\n",
    "import matplotlib.pyplot as plt"
   ]
  },
  {
   "cell_type": "code",
   "execution_count": 2,
   "metadata": {},
   "outputs": [],
   "source": [
    "#Set Parameters\n",
    "# Using Machine Learning Algorithm for Initial Guess\n",
    "Luci_path = '/home/carterrhea/Documents/LUCI/'\n",
    "cube_dir = '/home/carterrhea/Documents/M33/SN1'  # Path to data cube\n",
    "cube_name = 'SN1_Field7'  # don't add .hdf5 extension\n",
    "object_name = 'M33_Field7'\n",
    "redshift = -0.0006  # Redshift of M33\n",
    "resolution = 1000"
   ]
  },
  {
   "cell_type": "code",
   "execution_count": 3,
   "metadata": {},
   "outputs": [
    {
     "name": "stderr",
     "output_type": "stream",
     "text": [
      "  0%|          | 0/9 [00:00<?, ?it/s]"
     ]
    },
    {
     "name": "stdout",
     "output_type": "stream",
     "text": [
      "Reading in data...\n"
     ]
    },
    {
     "name": "stderr",
     "output_type": "stream",
     "text": [
      "100%|██████████| 9/9 [00:10<00:00,  1.18s/it]\n"
     ]
    }
   ],
   "source": [
    "# Create Luci object\n",
    "cube = Luci(Luci_path, cube_dir+'/'+cube_name, cube_dir, object_name, redshift, resolution)"
   ]
  },
  {
   "cell_type": "code",
   "execution_count": 4,
   "metadata": {},
   "outputs": [
    {
     "name": "stderr",
     "output_type": "stream",
     "text": [
      "100%|██████████| 2064/2064 [00:09<00:00, 225.74it/s]\n"
     ]
    }
   ],
   "source": [
    "bkg_axis, bkg_sky = cube.extract_spectrum_region(cube_dir+'/bkg.reg', mean=True)  # We use mean=True to take the mean of the emission in the region instead of the sum"
   ]
  },
  {
   "cell_type": "code",
   "execution_count": 5,
   "metadata": {},
   "outputs": [
    {
     "name": "stderr",
     "output_type": "stream",
     "text": [
      "100%|██████████| 2064/2064 [00:09<00:00, 228.53it/s]\n"
     ]
    },
    {
     "name": "stdout",
     "output_type": "stream",
     "text": [
      "0.0001588617221243045\n"
     ]
    },
    {
     "data": {
      "text/plain": [
       "<matplotlib.legend.Legend at 0x7f87e00273d0>"
      ]
     },
     "execution_count": 5,
     "metadata": {},
     "output_type": "execute_result"
    },
    {
     "data": {
      "image/png": "[encoded data removed]",
      "text/plain": [
       "<Figure size 432x288 with 1 Axes>"
      ]
     },
     "metadata": {
      "needs_background": "light"
     },
     "output_type": "display_data"
    }
   ],
   "source": [
    "# Fit!\n",
    "axis, sky, fit_dict = cube.fit_spectrum_region(\n",
    "                                    ['OII3726'],\n",
    "                                    #['NII6548', 'Halpha', 'NII6583', 'SII6716', 'SII6731'],\n",
    "                                    'sincgauss', \n",
    "                                    [1], [1],\n",
    "                                    #[1,1,1,1,1], [1,1,1,1,1],\n",
    "                                    region='../Data/reg1.reg', bkg=bkg_sky)\n",
    "plt.plot(axis, sky, color='blue', label='spectrum')\n",
    "plt.plot(fit_dict['fit_axis'], fit_dict['fit_vector'], color='coral', label='fit')\n",
    "#plt.xlim((15100, 15400))\n",
    "plt.legend()"
   ]
  },
  {
   "cell_type": "code",
   "execution_count": 6,
   "metadata": {},
   "outputs": [
    {
     "data": {
      "text/plain": [
       "{'fit_sol': array([4.00252817e-13, 2.68483969e+04, 8.94946565e-01, 4.34494399e-14]),\n",
       " 'fit_uncertainties': array([0., 0., 0., 0.]),\n",
       " 'fit_vector': array([4.3449439e-14, 4.3449439e-14, 4.3449439e-14, 4.3449439e-14,\n",
       "        4.3449439e-14, 4.3449439e-14, 4.3449439e-14, 4.3449439e-14,\n",
       "        4.3449439e-14, 4.3449439e-14, 4.3449439e-14, 4.3449439e-14,\n",
       "        4.3449439e-14, 4.3449439e-14, 4.3449439e-14, 4.3449439e-14,\n",
       "        4.3449439e-14, 4.3449439e-14, 4.3449439e-14, 4.3449439e-14,\n",
       "        4.3449439e-14, 4.3449439e-14, 4.3449439e-14, 4.3449439e-14,\n",
       "        4.3449439e-14, 4.3449439e-14, 4.3449439e-14, 4.3449439e-14,\n",
       "        4.3449439e-14, 4.3449439e-14, 4.3449439e-14, 4.3449439e-14,\n",
       "        4.3449439e-14, 4.3449439e-14, 4.3449439e-14, 4.3449439e-14,\n",
       "        4.3449439e-14, 4.3449439e-14, 4.3449439e-14, 4.3449439e-14,\n",
       "        4.3449439e-14, 4.3449439e-14, 4.3449439e-14, 4.3449439e-14,\n",
       "        4.3449439e-14, 4.3449439e-14, 4.3449439e-14, 4.3449439e-14,\n",
       "        4.3449439e-14, 4.3449439e-14, 4.3449439e-14, 4.3449439e-14,\n",
       "        4.3449439e-14, 4.3449439e-14, 4.3449439e-14, 4.3449439e-14,\n",
       "        4.3449439e-14, 4.3449439e-14, 4.3449439e-14, 4.3449439e-14,\n",
       "        4.3449439e-14, 4.3449439e-14, 4.3449439e-14, 4.3449439e-14,\n",
       "        4.3449439e-14, 4.3449439e-14, 4.3449439e-14, 4.3449439e-14,\n",
       "        4.3449439e-14, 4.3449439e-14, 4.3449439e-14, 4.3449439e-14,\n",
       "        4.3449439e-14, 4.3449439e-14, 4.3449439e-14, 4.3449439e-14,\n",
       "        4.3449439e-14, 4.3449439e-14, 4.3449439e-14, 4.3449439e-14,\n",
       "        4.3449439e-14, 4.3449439e-14, 4.3449439e-14, 4.3449439e-14,\n",
       "        4.3449439e-14, 4.3449439e-14, 4.3449439e-14, 4.3449439e-14,\n",
       "        4.3449439e-14, 4.3449439e-14, 4.3449439e-14, 4.4370226e-13,\n",
       "        4.3449439e-14, 4.3449439e-14, 4.3449439e-14, 4.3449439e-14,\n",
       "        4.3449439e-14, 4.3449439e-14, 4.3449439e-14, 4.3449439e-14,\n",
       "        4.3449439e-14, 4.3449439e-14, 4.3449439e-14, 4.3449439e-14,\n",
       "        4.3449439e-14, 4.3449439e-14, 4.3449439e-14, 4.3449439e-14,\n",
       "        4.3449439e-14, 4.3449439e-14, 4.3449439e-14, 4.3449439e-14,\n",
       "        4.3449439e-14, 4.3449439e-14, 4.3449439e-14, 4.3449439e-14,\n",
       "        4.3449439e-14, 4.3449439e-14, 4.3449439e-14, 4.3449439e-14,\n",
       "        4.3449439e-14, 4.3449439e-14, 4.3449439e-14, 4.3449439e-14,\n",
       "        4.3449439e-14, 4.3449439e-14, 4.3449439e-14, 4.3449439e-14,\n",
       "        4.3449439e-14, 4.3449439e-14, 4.3449439e-14, 4.3449439e-14,\n",
       "        4.3449439e-14, 4.3449439e-14, 4.3449439e-14, 4.3449439e-14,\n",
       "        4.3449439e-14, 4.3449439e-14, 4.3449439e-14, 4.3449439e-14,\n",
       "        4.3449439e-14, 4.3449439e-14, 4.3449439e-14, 4.3449439e-14,\n",
       "        4.3449439e-14, 4.3449439e-14, 4.3449439e-14, 4.3449439e-14,\n",
       "        4.3449439e-14, 4.3449439e-14, 4.3449439e-14, 4.3449439e-14,\n",
       "        4.3449439e-14, 4.3449439e-14, 4.3449439e-14, 4.3449439e-14,\n",
       "        4.3449439e-14, 4.3449439e-14, 4.3449439e-14, 4.3449439e-14,\n",
       "        4.3449439e-14, 4.3449439e-14, 4.3449439e-14, 4.3449439e-14,\n",
       "        4.3449439e-14, 4.3449439e-14, 4.3449439e-14, 4.3449439e-14,\n",
       "        4.3449439e-14, 4.3449439e-14, 4.3449439e-14], dtype=float32),\n",
       " 'fit_axis': array([25167.006, 25185.51 , 25204.016, 25222.521, 25241.025, 25259.531,\n",
       "        25278.035, 25296.541, 25315.047, 25333.55 , 25352.057, 25370.562,\n",
       "        25389.066, 25407.572, 25426.078, 25444.582, 25463.088, 25481.592,\n",
       "        25500.098, 25518.604, 25537.107, 25555.613, 25574.12 , 25592.623,\n",
       "        25611.129, 25629.635, 25648.139, 25666.645, 25685.148, 25703.654,\n",
       "        25722.16 , 25740.664, 25759.17 , 25777.676, 25796.18 , 25814.686,\n",
       "        25833.191, 25851.695, 25870.201, 25888.705, 25907.21 , 25925.717,\n",
       "        25944.22 , 25962.727, 25981.232, 25999.736, 26018.242, 26036.748,\n",
       "        26055.252, 26073.758, 26092.262, 26110.768, 26129.273, 26147.777,\n",
       "        26166.283, 26184.79 , 26203.293, 26221.799, 26240.305, 26258.809,\n",
       "        26277.314, 26295.818, 26314.324, 26332.83 , 26351.334, 26369.84 ,\n",
       "        26388.346, 26406.85 , 26425.355, 26443.861, 26462.365, 26480.871,\n",
       "        26499.375, 26517.88 , 26536.387, 26554.89 , 26573.396, 26591.902,\n",
       "        26610.406, 26628.912, 26647.418, 26665.922, 26684.428, 26702.932,\n",
       "        26721.438, 26739.943, 26758.447, 26776.953, 26795.459, 26813.963,\n",
       "        26832.469, 26850.975, 26869.479, 26887.984, 26906.488, 26924.994,\n",
       "        26943.5  , 26962.004, 26980.51 , 26999.016, 27017.52 , 27036.025,\n",
       "        27054.531, 27073.035, 27091.541, 27110.045, 27128.55 , 27147.057,\n",
       "        27165.56 , 27184.066, 27202.572, 27221.076, 27239.582, 27258.088,\n",
       "        27276.592, 27295.098, 27313.604, 27332.107, 27350.613, 27369.117,\n",
       "        27387.623, 27406.129, 27424.633, 27443.139, 27461.645, 27480.148,\n",
       "        27498.654, 27517.16 , 27535.664, 27554.17 , 27572.674, 27591.18 ,\n",
       "        27609.686, 27628.19 , 27646.695, 27665.201, 27683.705, 27702.21 ,\n",
       "        27720.717, 27739.22 , 27757.727, 27776.23 , 27794.736, 27813.242,\n",
       "        27831.746, 27850.252, 27868.758, 27887.262, 27905.768, 27924.273,\n",
       "        27942.777, 27961.283, 27979.787, 27998.293, 28016.799, 28035.303,\n",
       "        28053.809, 28072.314, 28090.818, 28109.324, 28127.83 , 28146.334,\n",
       "        28164.84 , 28183.344, 28201.85 , 28220.355, 28238.86 , 28257.365,\n",
       "        28275.871, 28294.375, 28312.88 ], dtype=float32),\n",
       " 'velocity': -113.79739173011403,\n",
       " 'broadening': 4.2466090014400955,\n",
       " 'velocity_err': 0.0,\n",
       " 'broadening_err': 0.0,\n",
       " 'amplitudes': [4.0025281650965406e-13],\n",
       " 'fluxes': [8.978864882949793e-13],\n",
       " 'flux_errors': [0.0],\n",
       " 'chi2': 1027.9284919505158,\n",
       " 'velocities': [-113.79739173011403],\n",
       " 'sigmas': [4.2466090014400955],\n",
       " 'vels_errors': [0.0],\n",
       " 'sigmas_errors': [0.0],\n",
       " 'axis_step': 1800.8184497971718,\n",
       " 'corr': 1.1337104022416167,\n",
       " 'continuum': 4.344943994436903e-14,\n",
       " 'scale': 4.3292183899336664e-13}"
      ]
     },
     "execution_count": 6,
     "metadata": {},
     "output_type": "execute_result"
    }
   ],
   "source": [
    "fit_dict"
   ]
  },
  {
   "cell_type": "code",
   "execution_count": null,
   "metadata": {},
   "outputs": [],
   "source": []
  }
 ],
 "metadata": {
  "kernelspec": {
   "display_name": "Python 3",
   "language": "python",
   "name": "python3"
  },
  "language_info": {
   "codemirror_mode": {
    "name": "ipython",
    "version": 3
   },
   "file_extension": ".py",
   "mimetype": "text/x-python",
   "name": "python",
   "nbconvert_exporter": "python",
   "pygments_lexer": "ipython3",
   "version": "3.9.5"
  }
 },
 "nbformat": 4,
 "nbformat_minor": 4
}
