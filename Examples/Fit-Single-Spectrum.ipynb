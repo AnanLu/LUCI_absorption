{
 "cells": [
  {
   "cell_type": "code",
   "execution_count": 1,
   "metadata": {},
   "outputs": [
    {
     "name": "stderr",
     "output_type": "stream",
     "text": [
      "WARNING: Astrometry.net API key not found in configuration file [astroquery.astrometry_net.core]\n",
      "WARNING: You need to manually edit the configuration file and add it [astroquery.astrometry_net.core]\n",
      "WARNING: You may also register it for this session with AstrometryNet.key = 'XXXXXXXX' [astroquery.astrometry_net.core]\n"
     ]
    }
   ],
   "source": [
    "# Imports\n",
    "import sys\n",
    "sys.path.insert(0, '/home/carterrhea/Documents/LUCI/')  # Location of Luci\n",
    "from LuciBase import Luci\n",
    "import LUCI.LuciPlotting as lplt\n",
    "import matplotlib.pyplot as plt"
   ]
  },
  {
   "cell_type": "code",
   "execution_count": 2,
   "metadata": {},
   "outputs": [],
   "source": [
    "#Set Parameters\n",
    "# Using Machine Learning Algorithm for Initial Guess\n",
    "Luci_path = '/home/carterrhea/Documents/LUCI/'\n",
    "cube_dir = '/home/carterrhea/Documents/M33/SN1'  # Path to data cube\n",
    "cube_name = 'SN1_Field7'  # don't add .hdf5 extension\n",
    "object_name = 'M33_Field7'\n",
    "redshift = -0.0006  # Redshift of M33\n",
    "resolution = 1000"
   ]
  },
  {
   "cell_type": "code",
   "execution_count": 3,
   "metadata": {},
   "outputs": [
    {
     "name": "stderr",
     "output_type": "stream",
     "text": [
      "  0%|          | 0/9 [00:00<?, ?it/s]"
     ]
    },
    {
     "name": "stdout",
     "output_type": "stream",
     "text": [
      "Reading in data...\n"
     ]
    },
    {
     "name": "stderr",
     "output_type": "stream",
     "text": [
      "100%|██████████| 9/9 [00:13<00:00,  1.53s/it]\n"
     ]
    }
   ],
   "source": [
    "# Create Luci object\n",
    "cube = Luci(Luci_path, cube_dir+'/'+cube_name, cube_dir, object_name, redshift, resolution)"
   ]
  },
  {
   "cell_type": "code",
   "execution_count": 4,
   "metadata": {},
   "outputs": [
    {
     "name": "stderr",
     "output_type": "stream",
     "text": [
      "100%|██████████| 2064/2064 [00:08<00:00, 229.94it/s]\n"
     ]
    }
   ],
   "source": [
    "bkg_axis, bkg_sky = cube.extract_spectrum_region(cube_dir+'/bkg.reg', mean=True)  # We use mean=True to take the mean of the emission in the region instead of the sum"
   ]
  },
  {
   "cell_type": "code",
   "execution_count": 13,
   "metadata": {},
   "outputs": [
    {
     "name": "stderr",
     "output_type": "stream",
     "text": [
      "100%|██████████| 2064/2064 [00:08<00:00, 230.44it/s]\n"
     ]
    },
    {
     "data": {
      "text/plain": [
       "<matplotlib.legend.Legend at 0x7f6925eab220>"
      ]
     },
     "execution_count": 13,
     "metadata": {},
     "output_type": "execute_result"
    },
    {
     "data": {
      "image/png": "[encoded data removed]",
      "text/plain": [
       "<Figure size 432x288 with 1 Axes>"
      ]
     },
     "metadata": {
      "needs_background": "light"
     },
     "output_type": "display_data"
    }
   ],
   "source": [
    "# Fit!\n",
    "axis, sky, fit_dict = cube.fit_spectrum_region(\n",
    "                                    ['OII3726'],\n",
    "                                    #['NII6548', 'Halpha', 'NII6583', 'SII6716', 'SII6731'],\n",
    "                                    'sinc', \n",
    "                                    [1], [1],\n",
    "                                    #[1,1,1,1,1], [1,1,1,1,1],\n",
    "                                    region='../Data/reg1.reg', bkg=bkg_sky)\n",
    "plt.plot(axis, sky, color='blue', label='spectrum')\n",
    "plt.plot(fit_dict['fit_axis'], fit_dict['fit_vector'], color='coral', label='fit')\n",
    "#plt.xlim((15100, 15400))\n",
    "plt.legend()"
   ]
  },
  {
   "cell_type": "code",
   "execution_count": 10,
   "metadata": {},
   "outputs": [
    {
     "data": {
      "text/plain": [
       "{'fit_sol': array([ 2.76615029e-13,  2.68483969e+04,  8.94946565e-01, -1.18869534e-12,\n",
       "         2.68283083e+04,  1.03268959e+00,  4.18372623e-14]),\n",
       " 'fit_uncertainties': array([0., 0., 0., 0., 0., 0., 0.]),\n",
       " 'fit_vector': array([ 4.25213556e-14,  4.26381828e-14,  4.18731122e-14,  4.12256422e-14,\n",
       "         4.12143145e-14,  4.14631082e-14,  4.19929036e-14,  4.26763336e-14,\n",
       "         4.25868768e-14,  4.16637086e-14,  4.10826432e-14,  4.12118496e-14,\n",
       "         4.15692187e-14,  4.21867100e-14,  4.28123212e-14,  4.24827224e-14,\n",
       "         4.14260874e-14,  4.09551828e-14,  4.12448807e-14,  4.17094859e-14,\n",
       "         4.24007105e-14,  4.29198630e-14,  4.23214580e-14,  4.11609350e-14,\n",
       "         4.08522130e-14,  4.13178362e-14,  4.18902112e-14,  4.26288215e-14,\n",
       "         4.29887938e-14,  4.20939526e-14,  4.08747656e-14,  4.07809139e-14,\n",
       "         4.14400578e-14,  4.21100693e-14,  4.28684418e-14,  4.30090132e-14,\n",
       "         4.17942211e-14,  4.05678411e-14,  4.07524924e-14,  4.16197278e-14,\n",
       "         4.23782600e-14,  4.31152598e-14,  4.29636332e-14,  4.14061207e-14,\n",
       "         4.02449970e-14,  4.07799944e-14,  4.18664965e-14,  4.26990199e-14,\n",
       "         4.33663339e-14,  4.28365183e-14,  4.09091342e-14,  3.99021630e-14,\n",
       "         4.08806156e-14,  4.22090006e-14,  4.30944026e-14,  4.36236529e-14,\n",
       "         4.25911414e-14,  4.02630167e-14,  3.95325213e-14,  4.10884563e-14,\n",
       "         4.26833518e-14,  4.35998891e-14,  4.38899255e-14,  4.21727342e-14,\n",
       "         3.93717525e-14,  3.91077247e-14,  4.14614227e-14,  4.33973053e-14,\n",
       "         4.43075371e-14,  4.41933264e-14,  4.14320293e-14,  3.80062799e-14,\n",
       "         3.85484673e-14,  4.21695348e-14,  4.46175185e-14,  4.54930297e-14,\n",
       "         4.45974654e-14,  3.99321403e-14,  3.53769722e-14,  3.75438652e-14,\n",
       "         4.38028297e-14,  4.75222110e-14,  4.84286442e-14,  4.54480967e-14,\n",
       "         3.51292296e-14,  2.63661231e-14,  3.35222176e-14,  5.23101515e-14,\n",
       "         7.04224843e-14,  9.16931612e-14, -1.13392307e-12,  3.71606280e-13,\n",
       "         8.65636234e-14,  4.61590456e-14,  2.95421319e-14,  3.14567123e-14,\n",
       "         3.54492955e-14,  4.17595100e-14,  4.98650819e-14,  4.97232375e-14,\n",
       "         4.16430431e-14,  3.67566372e-14,  3.75418109e-14,  3.95758934e-14,\n",
       "         4.29152155e-14,  4.66052718e-14,  4.55566534e-14,  4.07391112e-14,\n",
       "         3.84002056e-14,  3.93550280e-14,  4.09084744e-14,  4.32268235e-14,\n",
       "         4.52523685e-14,  4.38176943e-14,  4.03901062e-14,  3.92442946e-14,\n",
       "         4.02933451e-14,  4.15948139e-14,  4.33180971e-14,  4.44179505e-14,\n",
       "         4.28142244e-14,  4.02576885e-14,  3.98189958e-14,  4.09017278e-14,\n",
       "         4.20051397e-14,  4.33105532e-14,  4.38021271e-14,  4.21537390e-14,\n",
       "         4.02371575e-14,  4.02730668e-14,  4.13390281e-14,  4.22719154e-14,\n",
       "         4.32401757e-14,  4.33002641e-14,  4.16883845e-14,  4.02943553e-14,\n",
       "         4.06569058e-14,  4.16660559e-14,  4.24390611e-14,  4.31269743e-14,\n",
       "         4.28757272e-14,  4.13578923e-14,  4.04034879e-14,  4.09918176e-14,\n",
       "         4.19189926e-14,  4.25384760e-14,  4.29838591e-14,  4.25067270e-14,\n",
       "         4.11307316e-14,  4.05528320e-14,  4.12879140e-14,  4.21080674e-14,\n",
       "         4.25827600e-14,  4.28186040e-14,  4.21892875e-14,  4.09841600e-14,\n",
       "         4.07292380e-14,  4.15464387e-14,  4.22478848e-14,  4.25825709e-14,\n",
       "         4.26417707e-14,  4.19167253e-14,  4.09068986e-14,  4.09239177e-14,\n",
       "         4.17709209e-14,  4.23406162e-14,  4.25476243e-14,  4.24576981e-14,\n",
       "         4.16906765e-14,  4.08866392e-14,  4.11273488e-14]),\n",
       " 'fit_axis': array([25167.006, 25185.51 , 25204.016, 25222.521, 25241.025, 25259.531,\n",
       "        25278.035, 25296.541, 25315.047, 25333.55 , 25352.057, 25370.562,\n",
       "        25389.066, 25407.572, 25426.078, 25444.582, 25463.088, 25481.592,\n",
       "        25500.098, 25518.604, 25537.107, 25555.613, 25574.12 , 25592.623,\n",
       "        25611.129, 25629.635, 25648.139, 25666.645, 25685.148, 25703.654,\n",
       "        25722.16 , 25740.664, 25759.17 , 25777.676, 25796.18 , 25814.686,\n",
       "        25833.191, 25851.695, 25870.201, 25888.705, 25907.21 , 25925.717,\n",
       "        25944.22 , 25962.727, 25981.232, 25999.736, 26018.242, 26036.748,\n",
       "        26055.252, 26073.758, 26092.262, 26110.768, 26129.273, 26147.777,\n",
       "        26166.283, 26184.79 , 26203.293, 26221.799, 26240.305, 26258.809,\n",
       "        26277.314, 26295.818, 26314.324, 26332.83 , 26351.334, 26369.84 ,\n",
       "        26388.346, 26406.85 , 26425.355, 26443.861, 26462.365, 26480.871,\n",
       "        26499.375, 26517.88 , 26536.387, 26554.89 , 26573.396, 26591.902,\n",
       "        26610.406, 26628.912, 26647.418, 26665.922, 26684.428, 26702.932,\n",
       "        26721.438, 26739.943, 26758.447, 26776.953, 26795.459, 26813.963,\n",
       "        26832.469, 26850.975, 26869.479, 26887.984, 26906.488, 26924.994,\n",
       "        26943.5  , 26962.004, 26980.51 , 26999.016, 27017.52 , 27036.025,\n",
       "        27054.531, 27073.035, 27091.541, 27110.045, 27128.55 , 27147.057,\n",
       "        27165.56 , 27184.066, 27202.572, 27221.076, 27239.582, 27258.088,\n",
       "        27276.592, 27295.098, 27313.604, 27332.107, 27350.613, 27369.117,\n",
       "        27387.623, 27406.129, 27424.633, 27443.139, 27461.645, 27480.148,\n",
       "        27498.654, 27517.16 , 27535.664, 27554.17 , 27572.674, 27591.18 ,\n",
       "        27609.686, 27628.19 , 27646.695, 27665.201, 27683.705, 27702.21 ,\n",
       "        27720.717, 27739.22 , 27757.727, 27776.23 , 27794.736, 27813.242,\n",
       "        27831.746, 27850.252, 27868.758, 27887.262, 27905.768, 27924.273,\n",
       "        27942.777, 27961.283, 27979.787, 27998.293, 28016.799, 28035.303,\n",
       "        28053.809, 28072.314, 28090.818, 28109.324, 28127.83 , 28146.334,\n",
       "        28164.84 , 28183.344, 28201.85 , 28220.355, 28238.86 , 28257.365,\n",
       "        28275.871, 28294.375, 28312.88 ], dtype=float32),\n",
       " 'velocity': -113.79739936530866,\n",
       " 'broadening': 4.2466090014400955,\n",
       " 'velocity_err': 0.0,\n",
       " 'broadening_err': 0.0,\n",
       " 'amplitudes': [2.766150286696441e-13, -1.1886953435621788e-12],\n",
       " 'fluxes': [4.3878100004299945e-13, -2.1757815953150037e-12],\n",
       " 'flux_errors': [0.0, -0.0],\n",
       " 'chi2': 1971.7419062760673,\n",
       " 'velocities': [-113.79739936530866, -113.79739936529499],\n",
       " 'sigmas': [4.2466090014400955, 4.903882364018218],\n",
       " 'vels_errors': [0.0, 0.0],\n",
       " 'sigmas_errors': [0.0, 0.0],\n",
       " 'axis_step': 1800.8184497971718,\n",
       " 'corr': 1.1337104022416167,\n",
       " 'continuum': 4.183726234231378e-14,\n",
       " 'scale': 4.3292183899336664e-13}"
      ]
     },
     "execution_count": 10,
     "metadata": {},
     "output_type": "execute_result"
    }
   ],
   "source": [
    "fit_dict"
   ]
  },
  {
   "cell_type": "code",
   "execution_count": null,
   "metadata": {},
   "outputs": [],
   "source": []
  }
 ],
 "metadata": {
  "kernelspec": {
   "display_name": "Python 3",
   "language": "python",
   "name": "python3"
  },
  "language_info": {
   "codemirror_mode": {
    "name": "ipython",
    "version": 3
   },
   "file_extension": ".py",
   "mimetype": "text/x-python",
   "name": "python",
   "nbconvert_exporter": "python",
   "pygments_lexer": "ipython3",
   "version": "3.9.5"
  }
 },
 "nbformat": 4,
 "nbformat_minor": 4
}
