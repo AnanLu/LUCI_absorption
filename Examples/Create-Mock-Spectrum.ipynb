{
 "cells": [
  {
   "cell_type": "markdown",
   "id": "3a341de8-e4c8-444c-b9f7-d4df486df2a0",
   "metadata": {},
   "source": [
    "# Mock Spectrum\n",
    "In this notebook, we will explore how to create mock spectra."
   ]
  },
  {
   "cell_type": "code",
   "execution_count": 1,
   "id": "ad0e16e3-13dd-4c8e-8e8b-3756257d2a83",
   "metadata": {},
   "outputs": [],
   "source": [
    "# Imports\n",
    "import sys\n",
    "sys.path.insert(0, '/home/carterrhea/Documents/LUCI/')  # Location of Luci\n",
    "from LUCI.LuciSim import Spectrum\n",
    "import matplotlib.pyplot as plt"
   ]
  },
  {
   "cell_type": "markdown",
   "id": "b1f7b4f0-a858-4bc4-95f2-64d46ddbebdd",
   "metadata": {},
   "source": [
    "### Inputs\n",
    "There are a number of inputs we need in order to create a mock spectrum. \n",
    "\n",
    "They are the following:\n",
    "\n",
    " - lines: List of lines to model (e.x. ['Halpha'])\n",
    " - fit_function: Function used to model lines  (options: 'sinc', 'gaussian', 'sincgauss')\n",
    " - ampls: List of amplitudes for emission lines\n",
    " - velocity: List of velocities of emission lines; if not a list, then all velocities are set equal\n",
    " - broadening: List of broadening of emissino lines; ditto above\n",
    " - filter: SITELLE Filter (e.x. 'SN3')\n",
    " - resolution: Spectral resolution\n",
    " - snr: Signal to noise ratio\n",
    " \n"
   ]
  },
  {
   "cell_type": "code",
   "execution_count": 11,
   "id": "f604477e-9e38-4f14-bf25-63f253ed74b5",
   "metadata": {},
   "outputs": [],
   "source": [
    "lines = ['Halpha']\n",
    "fit_function = 'sinc'\n",
    "ampls = [1]  # Just randomly choosing these\n",
    "velocity = 0  # km/s\n",
    "broadening = 20  # km/s\n",
    "filter_ = 'SN3'\n",
    "resolution = 5000\n",
    "snr = 50"
   ]
  },
  {
   "cell_type": "markdown",
   "id": "770b639a-cb95-4ef8-aef9-958d2cd00236",
   "metadata": {},
   "source": [
    "### Create Spectrum\n",
    "Now we can actually create the spectra with one simple command!"
   ]
  },
  {
   "cell_type": "code",
   "execution_count": 12,
   "id": "19dfb97e-fcee-4e0a-93da-11f76258a169",
   "metadata": {},
   "outputs": [],
   "source": [
    "spectrum_axis, spectrum = Spectrum(lines, fit_function, ampls, velocity, broadening, filter_, resolution, snr).create_spectrum()"
   ]
  },
  {
   "cell_type": "code",
   "execution_count": 13,
   "id": "b3b28264-8c06-4436-b214-8f82688cf822",
   "metadata": {},
   "outputs": [
    {
     "data": {
      "text/plain": [
       "[<matplotlib.lines.Line2D at 0x7f0000da6850>]"
      ]
     },
     "execution_count": 13,
     "metadata": {},
     "output_type": "execute_result"
    },
    {
     "data": {
      "image/png": "[encoded data removed]",
      "text/plain": [
       "<Figure size 432x288 with 1 Axes>"
      ]
     },
     "metadata": {
      "needs_background": "light"
     },
     "output_type": "display_data"
    }
   ],
   "source": [
    "plt.plot(spectrum_axis, spectrum)"
   ]
  },
  {
   "cell_type": "code",
   "execution_count": null,
   "id": "27c7bb86-5aff-4a01-b014-fe59218f8a5f",
   "metadata": {},
   "outputs": [],
   "source": []
  }
 ],
 "metadata": {
  "kernelspec": {
   "display_name": "Python 3",
   "language": "python",
   "name": "python3"
  },
  "language_info": {
   "codemirror_mode": {
    "name": "ipython",
    "version": 3
   },
   "file_extension": ".py",
   "mimetype": "text/x-python",
   "name": "python",
   "nbconvert_exporter": "python",
   "pygments_lexer": "ipython3",
   "version": "3.9.5"
  }
 },
 "nbformat": 4,
 "nbformat_minor": 5
}
