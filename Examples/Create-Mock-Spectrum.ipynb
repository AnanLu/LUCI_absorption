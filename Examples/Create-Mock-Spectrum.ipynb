{
 "cells": [
  {
   "cell_type": "markdown",
   "id": "c513742b",
   "metadata": {},
   "source": [
    "# Mock Spectrum\n",
    "In this notebook, we will explore how to create mock spectra."
   ]
  },
  {
   "cell_type": "code",
   "execution_count": null,
   "id": "6d91c9ee",
   "metadata": {
    "tags": [],
    "is_executing": true
   },
   "outputs": [],
   "source": [
    "# Imports\n",
    "import sys\n",
    "sys.path.insert(0, '/home/carterrhea/Documents/LUCI/')  # Location of Luci\n",
    "from LUCI.LuciSim import Spectrum\n",
    "import matplotlib.pyplot as plt"
   ]
  },
  {
   "cell_type": "markdown",
   "id": "03d0d6a8",
   "metadata": {},
   "source": [
    "### Inputs\n",
    "There are a number of inputs we need in order to create a mock spectrum. \n",
    "\n",
    "They are the following:\n",
    "\n",
    " - lines: List of lines to model (e.x. ['Halpha'])\n",
    " - fit_function: Function used to model lines  (options: 'sinc', 'gaussian', 'sincgauss')\n",
    " - ampls: List of amplitudes for emission lines\n",
    " - velocity: List of velocities of emission lines; if not a list, then all velocities are set equal\n",
    " - broadening: List of broadening of emissino lines; ditto above\n",
    " - filter: SITELLE Filter (e.x. 'SN3')\n",
    " - resolution: Spectral resolution\n",
    " - snr: Signal to noise ratio\n",
    " \n"
   ]
  },
  {
   "cell_type": "code",
   "execution_count": null,
   "id": "673c7ea7",
   "metadata": {
    "tags": []
   },
   "outputs": [],
   "source": [
    "lines = ['Halpha', 'NII6583', 'NII6548', 'SII6716', 'SII6731']\n",
    "fit_function = 'sincgauss'\n",
    "ampls = [10, 1, 1, 0.5, 0.45]  # Just randomly choosing these\n",
    "velocity = 0  # km/s\n",
    "broadening = 10  # km/s\n",
    "filter_ = 'SN3'\n",
    "resolution = 5000\n",
    "snr = 100"
   ]
  },
  {
   "cell_type": "markdown",
   "id": "98fb3266",
   "metadata": {},
   "source": [
    "### Create Spectrum\n",
    "Now we can actually create the spectra with one simple command!"
   ]
  },
  {
   "cell_type": "code",
   "execution_count": null,
   "id": "b7e5a02e",
   "metadata": {
    "tags": []
   },
   "outputs": [],
   "source": [
    "spectrum_axis, spectrum = Spectrum(lines, fit_function, ampls, velocity, broadening, filter_, resolution, snr).create_spectrum()"
   ]
  },
  {
   "cell_type": "code",
   "execution_count": null,
   "id": "435d4418",
   "metadata": {},
   "outputs": [],
   "source": [
    "plt.figure(figsize=(10,6))\n",
    "plt.plot(spectrum_axis, spectrum, color='black', label='Spectrum')\n",
    "plt.xlim(14750, 15400)\n",
    "plt.xlabel('Wavelength (cm-1)', fontsize=14)\n",
    "plt.ylabel('Amplitude', fontsize=14)\n",
    "plt.axvline(1e7/656.3, label='Halpha', color='blue', linestyle='--')\n",
    "plt.axvline(1e7/658.3, label='NII6583', color='teal', linestyle='--')\n",
    "plt.axvline(1e7/654.8, label='NII6548', color='green', linestyle='--')\n",
    "plt.axvline(1e7/671.6, label='NII6716', color='magenta', linestyle='--')\n",
    "plt.axvline(1e7/673.1, label='NII6731', color='violet', linestyle='--')\n",
    "plt.legend(ncol=2)\n",
    "\n",
    "plt.show()"
   ]
  },
  {
   "cell_type": "markdown",
   "id": "424c360d-ba62-44fc-8874-166218dfff84",
   "metadata": {},
   "source": [
    "## Basic Absorption\n",
    "We can include a basic absorption profile in Halpha by included a wide negative amplitude trough."
   ]
  },
  {
   "cell_type": "code",
   "execution_count": null,
   "id": "da4b3b52",
   "metadata": {
    "tags": []
   },
   "outputs": [],
   "source": [
    "lines = ['Halpha']\n",
    "fit_function = 'sincgauss'\n",
    "ampls = [-0.25]  # Just randomly choosing these\n",
    "velocity = 0  # km/s\n",
    "broadening = 100  # km/s\n",
    "filter_ = 'SN3'\n",
    "resolution = 5000\n",
    "snr = 100\n",
    "\n",
    "spectrum_axis, spectrum_abs = Spectrum(lines, fit_function, ampls, velocity, broadening, filter_, resolution, snr).create_spectrum()"
   ]
  },
  {
   "cell_type": "code",
   "execution_count": null,
   "id": "b23191a5-ddd1-4ded-b97b-135e8d95415c",
   "metadata": {
    "tags": []
   },
   "outputs": [],
   "source": [
    "plt.figure(figsize=(10,6))\n",
    "plt.plot(spectrum_axis, spectrum, color='black', linewidth=3, label='Emission Spectrum')\n",
    "plt.plot(spectrum_axis, spectrum_abs, color='red',  linewidth=3, label='Aborption Spectrum')\n",
    "plt.plot(spectrum_axis, spectrum+spectrum_abs, color='grey', linestyle='--', label='Combined Spectrum')\n",
    "plt.xlim(14750, 15400)\n",
    "plt.xlabel('Wavelength (cm-1)', fontsize=14)\n",
    "plt.ylabel('Amplitude', fontsize=14)\n",
    "plt.axvline(1e7/656.3, label='Halpha', color='blue', linestyle='--')\n",
    "plt.axvline(1e7/658.3, label='NII6583', color='teal', linestyle='--')\n",
    "plt.axvline(1e7/654.8, label='NII6548', color='green', linestyle='--')\n",
    "plt.axvline(1e7/671.6, label='NII6716', color='magenta', linestyle='--')\n",
    "plt.axvline(1e7/673.1, label='NII6731', color='violet', linestyle='--')\n",
    "plt.legend(ncol=2)\n",
    "\n",
    "plt.show()"
   ]
  },
  {
   "cell_type": "code",
   "execution_count": null,
   "id": "5bd6dcc1-a754-4f4e-b0f5-b3c46a1e55ea",
   "metadata": {},
   "outputs": [],
   "source": []
  }
 ],
 "metadata": {
  "kernelspec": {
   "display_name": "Python 3 (ipykernel)",
   "language": "python",
   "name": "python3"
  },
  "language_info": {
   "codemirror_mode": {
    "name": "ipython",
    "version": 3
   },
   "file_extension": ".py",
   "mimetype": "text/x-python",
   "name": "python",
   "nbconvert_exporter": "python",
   "pygments_lexer": "ipython3",
   "version": "3.10.10"
  }
 },
 "nbformat": 4,
 "nbformat_minor": 5
}
