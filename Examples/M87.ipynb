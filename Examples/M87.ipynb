{
 "cells": [
  {
   "cell_type": "code",
   "execution_count": 1,
   "id": "f89ec76c-7ed8-4b23-8a9e-94846a537db9",
   "metadata": {},
   "outputs": [],
   "source": [
    "from Luci import Luci\n",
    "import matplotlib.pyplot as plt\n",
    "import numpy as np"
   ]
  },
  {
   "cell_type": "code",
   "execution_count": 2,
   "id": "ff54d6b5-5514-4bc1-a652-81bbb8344e0a",
   "metadata": {},
   "outputs": [],
   "source": [
    "cube_dir = '/media/carterrhea/carterrhea/M87/Sitelle'  # Path to data cube\n",
    "cube_name = 'M87_SN3.merged.cm1.1.0'  # don't add .hdf5 extension\n",
    "redshift = 0.004283"
   ]
  },
  {
   "cell_type": "code",
   "execution_count": 3,
   "id": "ef7ec14d-fda1-4c45-baab-96fa7a297ef0",
   "metadata": {},
   "outputs": [
    {
     "name": "stderr",
     "output_type": "stream",
     "text": [
      "  0%|          | 0/9 [00:00<?, ?it/s]"
     ]
    },
    {
     "name": "stdout",
     "output_type": "stream",
     "text": [
      "Reading in data...\n"
     ]
    },
    {
     "name": "stderr",
     "output_type": "stream",
     "text": [
      "100%|██████████| 9/9 [00:05<00:00,  1.59it/s]\n"
     ]
    }
   ],
   "source": [
    "cube = Luci(cube_dir+'/'+cube_name, cube_dir, 'M87', redshift, 'Reference-Spectrum-R1000', 'R1000-PREDICTOR-I')"
   ]
  },
  {
   "cell_type": "code",
   "execution_count": 4,
   "id": "0b1bfea4-ca1c-4926-ac3b-a8c5d5927082",
   "metadata": {},
   "outputs": [
    {
     "name": "stderr",
     "output_type": "stream",
     "text": [
      "100%|██████████| 2048/2048 [00:05<00:00, 357.40it/s]\n"
     ]
    }
   ],
   "source": [
    "axis, bkg_sky = cube.extract_spectrum_region(cube_dir+'/'+'bkg_M87.reg', mean=True)"
   ]
  },
  {
   "cell_type": "code",
   "execution_count": null,
   "id": "86fa71a8-cf80-4e7f-8580-8a8f8da01fe1",
   "metadata": {},
   "outputs": [
    {
     "name": "stderr",
     "output_type": "stream",
     "text": [
      "  0%|          | 0/200 [00:00<?, ?it/s]"
     ]
    }
   ],
   "source": [
    "vel_map, broad_map, flux_map, chi2_map = cube.fit_cube(['Halpha', 'NII6548', 'NII6583', 'SII6716', 'SII6731'], 'gaussian', 900, 1100, 850, 1050, bkg=bkg_sky, bayes_bool=False)\n",
    "#vel_map, broad_map, flux_map, chi2_fits = cube.fit_cube(['Halpha', 'NII6548', 'NII6583', 'SII6716', 'SII6731'], 'gaussian', 950, 1000, 950, 1000, bkg=bkg_sky, bayes_bool=False)\n",
    "#vel_map, broad_map, flux_map = cube.fit_region(['Halpha', 'NII6548', 'NII6583', 'SII6716', 'SII6731'], 'gaussian', region=cube_dir+'/'+'mask_soar.npy', bkg=bkg_sky, bayes_bool=False)\n"
   ]
  },
  {
   "cell_type": "code",
   "execution_count": null,
   "id": "937b25ff-6dff-4e31-a4d4-e88ac812346c",
   "metadata": {},
   "outputs": [],
   "source": [
    "plt.imshow(vel_map)"
   ]
  },
  {
   "cell_type": "code",
   "execution_count": null,
   "id": "324305aa-4169-4cbf-b4d8-0d8eb005a419",
   "metadata": {},
   "outputs": [],
   "source": []
  }
 ],
 "metadata": {
  "kernelspec": {
   "display_name": "Python 3",
   "language": "python",
   "name": "python3"
  },
  "language_info": {
   "codemirror_mode": {
    "name": "ipython",
    "version": 3
   },
   "file_extension": ".py",
   "mimetype": "text/x-python",
   "name": "python",
   "nbconvert_exporter": "python",
   "pygments_lexer": "ipython3",
   "version": "3.9.4"
  }
 },
 "nbformat": 4,
 "nbformat_minor": 5
}
