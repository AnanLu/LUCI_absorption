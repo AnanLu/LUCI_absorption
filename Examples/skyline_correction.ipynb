{
 "cells": [
  {
   "cell_type": "markdown",
   "metadata": {
    "ExecuteTime": {
     "end_time": "2023-05-26T00:17:32.970386023Z",
     "start_time": "2023-05-26T00:17:28.536118333Z"
    },
    "tags": []
   },
   "source": [
    "# Skyline Calibration\n",
    "In this notebook we will explore how to calculate the velocity shift induced by the sky in SITELLE data. In order to do this, we fit the OH skyline at 649.8729 nanometers. Instead of fitting this at every point, we instead fit it on a grid (in this example a 100 by 100 grid) that covers the entire datacube. Each pixel will be a combination of a 30x30 bin."
   ]
  },
  {
   "cell_type": "code",
   "execution_count": 1,
   "metadata": {
    "tags": []
   },
   "source": [
    "# Imports\n",
    "import sys\n",
    "import numpy as np\n",
    "sys.path.insert(0, '/home/carterrhea/Documents/LUCI/')  # Location of Luci\n",
    "from LuciBase import Luci\n",
    "import matplotlib.pyplot as plt"
   ],
   "outputs": []
  },
  {
   "cell_type": "code",
   "execution_count": 2,
   "metadata": {
    "ExecuteTime": {
     "end_time": "2023-05-26T00:18:09.837013305Z",
     "start_time": "2023-05-26T00:18:09.727347699Z"
    },
    "tags": []
   },
   "source": [
    "#Set Parameters\n",
    "# Using Machine Learning Algorithm for Initial Guess\n",
    "Luci_path = '/home/carterrhea/Documents/LUCI/'\n",
    "cube_dir = '/mnt/carterrhea/carterrhea/M33'  # Path to data cube\n",
    "cube_name = 'M33_Field7_SN3.merged.cm1.1.0'  # don't add .hdf5 extension\n",
    "object_name = 'M33'\n",
    "redshift = 0.0\n",
    "resolution = 5000"
   ],
   "outputs": []
  },
  {
   "cell_type": "code",
   "execution_count": 3,
   "metadata": {
    "ExecuteTime": {
     "start_time": "2023-05-26T00:18:11.246203920Z"
    },
    "is_executing": true,
    "tags": []
   },
   "source": [
    "# Create Luci object\n",
    "cube = Luci(Luci_path, cube_dir+'/'+cube_name, cube_dir, object_name, redshift, resolution, mdn=False)"
   ],
   "outputs": []
  },
  {
   "cell_type": "markdown",
   "metadata": {},
   "source": [
    "Now that we have read in the cube as usual, we can fit the skylines."
   ]
  },
  {
   "cell_type": "code",
   "execution_count": null,
   "metadata": {
    "is_executing": true,
    "tags": []
   },
   "source": [
    "velocity, fit_vector, sky, vel_grid, vel_uncertainty_grid, spectrum_axis = cube.skyline_calibration(Luci_path, 100)"
   ],
   "outputs": []
  },
  {
   "cell_type": "markdown",
   "metadata": {},
   "source": [
    "Let's take a look at the skyline fit velocities on the grid we've constructed."
   ]
  },
  {
   "cell_type": "code",
   "execution_count": null,
   "metadata": {
    "is_executing": true,
    "tags": []
   },
   "source": [
    "plt.imshow(vel_grid)\n",
    "plt.colorbar()"
   ],
   "outputs": []
  },
  {
   "cell_type": "markdown",
   "metadata": {},
   "source": [
    "We can see there is an odd outlier -- this is likely due to a bad fit! A bad fit will happen when there is too much source in the region we fit. So, we can't use this pixel for understanding the sky velocity. We can check where our fits are bad by plotting the uncertainties on the fits."
   ]
  },
  {
   "cell_type": "code",
   "execution_count": null,
   "metadata": {
    "collapsed": false,
    "jupyter": {
     "outputs_hidden": false
    },
    "tags": []
   },
   "source": [
    "plt.imshow(vel_uncertainty_grid)\n",
    "plt.colorbar()"
   ],
   "outputs": []
  },
  {
   "cell_type": "markdown",
   "metadata": {},
   "source": [
    "We see that there are two bad pixel fits which agree with the two bad pixels we see above. So let's go ahead and set them to nan."
   ]
  },
  {
   "cell_type": "code",
   "execution_count": null,
   "metadata": {
    "tags": []
   },
   "source": [
    "vel_grid[vel_uncertainty_grid > 2] = np.nan"
   ],
   "outputs": []
  },
  {
   "cell_type": "code",
   "execution_count": null,
   "metadata": {
    "tags": []
   },
   "source": [
    "plt.imshow(vel_grid)\n",
    "plt.colorbar()\n",
    "plt.clim(50, 60)\n",
    "print('The average velocity shift is %.f km/s'%np.nanmedian(vel_grid))\n"
   ],
   "outputs": []
  },
  {
   "cell_type": "markdown",
   "metadata": {},
   "source": [
    "Much better! The main interesting piece we see here is that the sky velocity hardly changes over the cube and has an average value around 51 km/s."
   ]
  },
  {
   "cell_type": "code",
   "execution_count": null,
   "metadata": {},
   "source": [],
   "outputs": []
  }
 ],
 "metadata": {
  "kernelspec": {
   "display_name": "Python 3 (ipykernel)",
   "language": "python",
   "name": "python3"
  },
  "language_info": {
   "codemirror_mode": {
    "name": "ipython",
    "version": 3
   },
   "file_extension": ".py",
   "mimetype": "text/x-python",
   "name": "python",
   "nbconvert_exporter": "python",
   "pygments_lexer": "ipython3",
   "version": "3.10.11"
  },
  "vscode": {
   "interpreter": {
    "hash": "11b69f77af28945abce268b9123fa11c04228dde655d6f5c915c14942660479f"
   }
  }
 },
 "nbformat": 4,
 "nbformat_minor": 4
}
